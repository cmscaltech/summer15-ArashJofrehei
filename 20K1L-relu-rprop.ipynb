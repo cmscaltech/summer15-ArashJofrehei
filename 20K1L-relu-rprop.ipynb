{
 "metadata": {
  "name": "",
  "signature": "sha256:7c29b7e05a1f92d4aa859bc02f7c00f04f547c7413310bdd05be0e809fb9cf26"
 },
 "nbformat": 3,
 "nbformat_minor": 0,
 "worksheets": [
  {
   "cells": [
    {
     "cell_type": "code",
     "collapsed": false,
     "input": [
      "import theanets\n",
      "import logging\n",
      "from sklearn.datasets import make_classification\n",
      "from sklearn.metrics import confusion_matrix\n",
      "import matplotlib.pyplot as plt\n",
      "import time\n",
      "import numpy as np\n",
      "from theanets.trainer import SupervisedPretrainer\n",
      "import math\n",
      "from random import uniform\n",
      "from math import cos,tan,sqrt\n",
      "from numpy import float32\n",
      "from sklearn.cluster import KMeans\n",
      "import pickle"
     ],
     "language": "python",
     "metadata": {},
     "outputs": [
      {
       "output_type": "stream",
       "stream": "stdout",
       "text": [
        "Couldn't import dot_parser, loading of dot files will not be possible.\n"
       ]
      }
     ],
     "prompt_number": 1
    },
    {
     "cell_type": "code",
     "collapsed": false,
     "input": [
      "nlayers = 4\n",
      "module_size=20 #cm\n",
      "module_cell = 5 #per edge\n",
      "distance_between_layers = 5 #cm\n",
      "ncells=module_cell*module_cell*nlayers\n",
      "nhidden=ncells\n",
      "nhidden_layers = 10\n",
      "layers = (ncells,) + tuple([nhidden for i in range(nhidden_layers)])\n",
      "#net = theanets.Regressor((ncells,ncells,ncells,ncells,ncells,ncells,ncells,ncells,ncells,ncells,ncells,(ncells,'logistic')))\n",
      "trainer = theanets.Experiment(theanets.feedforward.Regressor(layers=(ncells,(ncells,'relu'),(ncells,'logistic'))),'layerwise')\n",
      "maximum_hight = nlayers * distance_between_layers\n",
      "theta_max = math.atan(0.5 * module_size / maximum_hight)\n",
      "theta_min = -1 * theta_max\n",
      "y = []\n",
      "y.append(0)\n",
      "y_prime = []\n",
      "y_prime.append(0)\n",
      "z = []\n",
      "z.append(0)\n",
      "x = []\n",
      "x.append(0)\n",
      "for i in range (nlayers) :\n",
      "    y.append((i+1) * distance_between_layers)\n",
      "    y_prime.append((i+1) * distance_between_layers)\n",
      "    z.append(0)\n",
      "    x.append(0)\n",
      "spent = []\n",
      "list_error = []\n",
      "color_list = ['bo','yo','ro','co','mo','go','ko','wo']\n",
      "min_ntracks = 4\n",
      "max_ntracks = 4\n",
      "nsamples = 50000\n",
      "#nsamples = 2 * ncells * ncells * (nhidden_layers + 1)\n",
      "#print nsamples\n",
      "training_ratio = 0.8\n",
      "ds_input = np.zeros((nsamples,ncells))\n",
      "ds_output = np.zeros((nsamples,ncells))\n",
      "cut = int(nsamples * training_ratio)"
     ],
     "language": "python",
     "metadata": {},
     "outputs": [],
     "prompt_number": 2
    },
    {
     "cell_type": "code",
     "collapsed": false,
     "input": [
      "def addSample (sample_number = 1,sampleInput = np.zeros (ncells),sampleOutput = np.zeros (ncells)) :\n",
      "    for i in range (ncells) :\n",
      "        ds_input[sample_number][i] = sampleInput[i]\n",
      "        ds_output[sample_number][i] = sampleOutput[i]\n",
      "    \n",
      "def sample_creater(sample_number = 1,display = False) :                  # creates a sample with a random number of tracks\n",
      "    sampleInput = np.zeros (ncells)\n",
      "    sampleOutput = np.zeros (ncells)\n",
      "    ntracks = int( uniform(min_ntracks, max_ntracks ) ) #should be a better model than flat\n",
      "    sample_matrix = [[0 for t in range(nlayers + 1)] for t in range(ntracks)]\n",
      "# first argument of each row is track's radius and the other \"nlayers\" ones are hit indices of that track\n",
      "# then we would be able to sort these hits by their radius\n",
      "    \n",
      "# theta is the angle between the circle plane and xy plane. we randomly choose two points in the second and 4th layer and then fit a circle through these two points and also the coordinate origin\n",
      "# as y is fixed for each layer and z can be derived easily by y*tan(theta) , to specify a point in a layer we only need x of it\n",
      "    track = 0\n",
      "    while track < ntracks :\n",
      "        theta = uniform (theta_min,theta_max)\n",
      "        x[2] = uniform (-1*module_size/2.0,module_size/2.0)\n",
      "        x[4] = uniform (-1*module_size/2.0,module_size/2.0)\n",
      "        for i in range (4) :\n",
      "            y_prime[i+1] = y[i+1] / cos(theta)\n",
      "            z[i+1] = y[i+1] * tan(theta)\n",
      "        # center point of our circle\n",
      "        x_c = 0.5 * (((x[2]**2 + y_prime[2]**2) * y_prime[4]/y_prime[2] ) - x[4]**2 - y_prime[4]**2 )/ (x[2] * y_prime[4]/y_prime[2] - x[4])\n",
      "        y_c = 0.5 * (x[2]**2 + y_prime[2]**2 - 2 * x[2] * x_c) / y_prime[2]\n",
      "        R = sqrt(x_c**2 + y_c**2)\n",
      "# y_prime is the y component when we place our coordinate on the circle plane and as the layers are parallel, it would be y/cos(theta) for each layer\n",
      "        if x[2] > 0.5 * x[4] :\n",
      "            x[1] = x_c + sqrt(R**2 - (y_prime[1] - y_c)**2)\n",
      "            x[3] = x_c + sqrt(R**2 - (y_prime[3] - y_c)**2)\n",
      "        else :\n",
      "            x[1] = x_c - sqrt(R**2 - (y_prime[1] - y_c)**2)\n",
      "            x[3] = x_c - sqrt(R**2 - (y_prime[3] - y_c)**2)\n",
      "        sample_matrix [track][0] = R\n",
      "        x_edge = (-1) * module_size / 2.0\n",
      "        z_edge = (-1) * module_size / 2.0\n",
      "        \n",
      "        track_hits = np.zeros(nlayers)\n",
      "        no_good = False\n",
      "        for layer in range (1,nlayers+1) :\n",
      "            # local indices on the module\n",
      "            index_hit1 = int( (x[layer] - x_edge ) / module_size * module_cell )\n",
      "            index_hit2 = int( (z[layer] - z_edge ) / module_size * module_cell )\n",
      "            # transform into the global index\n",
      "            hit = module_cell**2 * (layer - 1) + index_hit2 * module_cell + index_hit1\n",
      "            track_hits[layer-1] = hit\n",
      "            if sampleInput[hit] == 1:\n",
      "                    #discard this track\n",
      "                    no_good = True\n",
      "        if no_good:\n",
      "            #print \"discarding an overlaping track\"\n",
      "            continue\n",
      "        else:\n",
      "            for (layer,hit) in enumerate(track_hits):\n",
      "                sampleInput[int(hit)] = 1\n",
      "                sample_matrix [track][layer+1] = int(hit)\n",
      "        if display:\n",
      "            for i in range (0,5) :\n",
      "                plt.figure(1)\n",
      "                plt.plot(x[i],y_prime[i],color_list[track])\n",
      "                axis([-module_size/2. + 1 , module_size/2. + 1, 0, maximum_hight/cos(theta) + 1])\n",
      "                plt.suptitle('x - y_prime (perpendicular view of the circle plane)')\n",
      "                plt.xlabel('x')\n",
      "                plt.ylabel('y_prime')\n",
      "                plt.figure(2)\n",
      "                plt.plot(x[i],z[i],color_list[track])\n",
      "                axis([-module_size/2. + 1, module_size/2. + 1,-module_size/2. + 1, module_size/2. + 1])\n",
      "                plt.suptitle('x - z')\n",
      "                plt.xlabel('x')\n",
      "                plt.ylabel('z')\n",
      "                plt.figure(3)\n",
      "                plt.plot(z[i],y[i],color_list[track])\n",
      "                axis([-module_size/2. + 1, module_size/2. + 1, 0, maximum_hight/cos(theta) + 1])\n",
      "                plt.suptitle('z - y')\n",
      "                plt.xlabel('z')\n",
      "                plt.ylabel('y')\n",
      "        track += 1\n",
      "    sample_matrix.sort(key=lambda x: x[0])\n",
      "    for i in range (ntracks) :\n",
      "        for j in range(1,nlayers+1) :\n",
      "            sampleOutput[sample_matrix[i][j]] = (i+1)/float(ntracks)\n",
      "    if display == False :\n",
      "        addSample(sample_number,sampleInput,sampleOutput)\n",
      "        \n",
      "def new_samples() :\n",
      "    ds_input = np.zeros((nsamples,ncells))\n",
      "    ds_output = np.zeros((nsamples,ncells))\n",
      "    for i in range (nsamples) :\n",
      "        sample_creater(i,False)"
     ],
     "language": "python",
     "metadata": {},
     "outputs": [],
     "prompt_number": 3
    },
    {
     "cell_type": "code",
     "collapsed": false,
     "input": [
      "def clusterer (in_array,revised_number = 0) :\n",
      "    n_lines = len(in_array)\n",
      "    n_gaps = n_lines - 1\n",
      "    gap_matrix = np.zeros((n_gaps,3),dtype=float32)\n",
      "    length_array = np.zeros(n_gaps,dtype=float32)\n",
      "    for i in range (n_gaps) :\n",
      "        gap_matrix[i][2] = i\n",
      "        gap_matrix[i][0] = in_array[i+1] - in_array[i]\n",
      "        length_array[i] = in_array[i+1] - in_array[i]\n",
      "        gap_matrix[i][1] = (in_array[i+1] + in_array[i])/2.0\n",
      "    length_array = sorted(length_array)\n",
      "    gap_matrix.view('f32,f32,f32').sort(order=['f0'], axis=0)\n",
      "    out_matrix = np.zeros((int(n_lines),2),dtype=int32)\n",
      "    if revised_number == 0 :\n",
      "        col = np.reshape(length_array,(len(length_array),1))\n",
      "        algo = KMeans(n_clusters=2)\n",
      "        gap_candidates = algo.fit_predict(col)\n",
      "        if gap_candidates[0] == 0:\n",
      "            accepted = list(gap_candidates).count(1)\n",
      "        else :\n",
      "            accepted = list(gap_candidates).count(0)\n",
      "    else :\n",
      "        accepted = revised_number-1\n",
      "    for i in range (n_gaps-accepted) :\n",
      "        gap_matrix[i][1] = in_array[n_gaps]\n",
      "    gap_matrix.view('f32,f32,f32').sort(order=['f1'], axis=0)\n",
      "    if accepted == 0 :\n",
      "        out_matrix [0] = [0,n_gaps]\n",
      "        return accepted+1,out_matrix\n",
      "    out_matrix [0] = [0,gap_matrix[0][2]]\n",
      "    out_matrix [accepted] = [gap_matrix[accepted-1][2]+1,n_gaps]\n",
      "    for bunch in range (1,accepted) :\n",
      "        out_matrix [bunch] = [int(gap_matrix[bunch-1][2]+1),int(gap_matrix[bunch][2])]\n",
      "    return accepted+1,out_matrix\n",
      "\n",
      "def clustering (in_array) :\n",
      "    central_tracks ,_ = clusterer (in_array)\n",
      "    col = np.reshape(in_array,(len(in_array),1))\n",
      "    min_n = max(1,int((0.75*central_tracks)))\n",
      "    max_n = int(1.25*central_tracks)\n",
      "    if max_n <= min_n + 1 :\n",
      "        return clusterer (in_array,max_n)\n",
      "    goc = np.zeros(1+max_n-min_n)\n",
      "    for nclu in range(min_n ,max_n +1):\n",
      "        algo = KMeans(n_clusters=nclu)\n",
      "        track_candidates = algo.fit_predict(col)\n",
      "        track_candidate_values = [np.array(in_array)[np.where(track_candidates==n)] for n in range(nclu)]\n",
      "        goc[nclu - min_n] = algo.score(col)\n",
      "    d_goc = []\n",
      "    for i in range (max_n-min_n):\n",
      "        d_goc.append(goc[i+1] - goc[i])\n",
      "    col = np.reshape(d_goc,(len(d_goc),1))\n",
      "    algo = KMeans(n_clusters=2)\n",
      "    gap_candidates = algo.fit_predict(col)\n",
      "    if gap_candidates[0] == 0:\n",
      "        accepted = list(gap_candidates).count(1)\n",
      "    else :\n",
      "        accepted = list(gap_candidates).count(0)\n",
      "    revised_number = max_n-accepted\n",
      "    return clusterer (in_array,revised_number)\n",
      "def similarity (exptrack,nntrack) :\n",
      "    sim_counter = 0\n",
      "    for exphit in range (len(exptrack)) :\n",
      "        for nnhit in range (len(nntrack)) :\n",
      "            if exptrack[exphit] == nntrack[nnhit] :\n",
      "                sim_counter += 1\n",
      "    return sim_counter\n",
      "def got (exp,nn,cut = 0.1,requested_efficiency = 1) : # Dear reader, get ready for awful variable names and no comment !\n",
      "    goodTrack = 0\n",
      "    # creating MidPut\n",
      "    for i in range (len(nn)) :\n",
      "        if nn[i] < cut :\n",
      "            nn[i] = 0\n",
      "    exp_Output = np.array([[i,exp[i]] for i in range (len(exp)) if exp[i] != 0],dtype = float32)\n",
      "    nn_Output = np.array([[i,nn[i]] for i in range (len(nn)) if nn[i] != 0],dtype = float32)\n",
      "    exp_Output.view('f32,f32').sort(order=['f1'], axis=0)\n",
      "    nn_Output.view('f32,f32').sort(order=['f1'], axis=0)\n",
      "    n_exp,exp_matrix = clustering (exp_Output[:,1])\n",
      "    n_nn,nn_matrix = clustering (nn_Output[:,1])\n",
      "    expM = np.array([[exp_Output[i][0] for i in range (exp_matrix[track][0],exp_matrix[track][1]+1)] for track in range (n_exp)])\n",
      "    nnM = np.array([[nn_Output[i][0] for i in range (nn_matrix[track][0],nn_matrix[track][1]+1)] for track in range (n_nn)])\n",
      "    similarities = np.zeros(n_exp,dtype = float32)\n",
      "    # doesn't work quite well for efficiencies less than 1,I know the reason,but don't have time to fix it !\n",
      "    remained_NNtracks = np.array([i for i in range (len(nnM))])\n",
      "    for exptrack in range (n_exp) :\n",
      "        for nntrack in remained_NNtracks :\n",
      "            if similarity(expM[exptrack],nnM[nntrack]) >= requested_efficiency * len(expM[1]) :\n",
      "                goodTrack +=1\n",
      "                remained_NNtracks = np.array([remained_NNtracks[i] for i in range (len(remained_NNtracks)) if i != nntrack]) #like !\n",
      "        #similarities[exptrack] = max([similarity(expM[exptrack],nnM[nntrack]) for nntrack in range (len(nnM))])\n",
      "    for exptrack in range (n_exp) :\n",
      "        if similarities[exptrack] >= requested_efficiency * len(expM[1]) :\n",
      "            goodTrack +=1\n",
      "    return float(goodTrack)/len(expM)"
     ],
     "language": "python",
     "metadata": {},
     "outputs": [],
     "prompt_number": 4
    },
    {
     "cell_type": "code",
     "collapsed": false,
     "input": [
      "new_samples()"
     ],
     "language": "python",
     "metadata": {},
     "outputs": [],
     "prompt_number": 5
    },
    {
     "cell_type": "code",
     "collapsed": false,
     "input": [
      "training_error = []\n",
      "validation_error = []\n",
      "train = ds_input[:cut], ds_output[:cut]\n",
      "valid = ds_input[cut:], ds_output[cut:]"
     ],
     "language": "python",
     "metadata": {},
     "outputs": [],
     "prompt_number": 6
    },
    {
     "cell_type": "code",
     "collapsed": false,
     "input": [
      "# we try to create some training samples and train on them and then check the mean error in some testing samples\n",
      "# a function of iteration and train per iterations\n",
      "e = []\n",
      "for i in range(10) :\n",
      "    e.append(0)\n",
      "niter=1\n",
      "ntrain=1\n",
      "for i in range (1,niter+1) :\n",
      "    # training on training samples\n",
      "    for j in range (ntrain) :\n",
      "        start = time.mktime(time.gmtime())\n",
      "        print \"training started ... \"\n",
      "        epoch_counter = 0\n",
      "        for trn, val in trainer.itertrain(train,valid,hidden_dropout=0.6, algo='rprop',learning_rate = 0.0000001,iteration_size = 100,batch_size=1000,validate_every = 5,patience=10,min_improvement = 0.001) :\n",
      "            if trn['err'] < 0.2 and val['err'] < 0.2 :\n",
      "                training_error.append(trn['err'])\n",
      "                validation_error.append(val['err'])\n",
      "                if epoch_counter%1 == 0 :\n",
      "                    print \"training_error = \\t\",trn['err']\n",
      "                    print \"validation_error = \\t\",val['err']\n",
      "                epoch_counter += 1\n",
      "        print \"\\t training ended\"\n",
      "        stop = time.mktime (time.gmtime())\n",
      "        spent.append (stop - start)\n",
      "        print \"training time (seconds) \\t\" , stop - start"
     ],
     "language": "python",
     "metadata": {},
     "outputs": [
      {
       "output_type": "stream",
       "stream": "stdout",
       "text": [
        "training started ... \n",
        "training_error = \t"
       ]
      },
      {
       "output_type": "stream",
       "stream": "stdout",
       "text": [
        "0.0226252772093\n",
        "validation_error = \t0.033404454156\n",
        "training_error = \t"
       ]
      },
      {
       "output_type": "stream",
       "stream": "stdout",
       "text": [
        "0.0109055783011\n",
        "validation_error = \t0.033404454156\n",
        "training_error = \t"
       ]
      },
      {
       "output_type": "stream",
       "stream": "stdout",
       "text": [
        "0.00827700390925\n",
        "validation_error = \t0.033404454156\n",
        "training_error = \t"
       ]
      },
      {
       "output_type": "stream",
       "stream": "stdout",
       "text": [
        "0.00743886789486\n",
        "validation_error = \t0.033404454156\n",
        "training_error = \t"
       ]
      },
      {
       "output_type": "stream",
       "stream": "stdout",
       "text": [
        "0.00699653299539\n",
        "validation_error = \t0.033404454156\n",
        "training_error = \t"
       ]
      },
      {
       "output_type": "stream",
       "stream": "stdout",
       "text": [
        "0.00672919154179\n",
        "validation_error = \t0.00689179869223\n",
        "training_error = \t"
       ]
      },
      {
       "output_type": "stream",
       "stream": "stdout",
       "text": [
        "0.00653613607054\n",
        "validation_error = \t0.00689179869223\n",
        "training_error = \t"
       ]
      },
      {
       "output_type": "stream",
       "stream": "stdout",
       "text": [
        "0.00642644189111\n",
        "validation_error = \t0.00689179869223\n",
        "training_error = \t"
       ]
      },
      {
       "output_type": "stream",
       "stream": "stdout",
       "text": [
        "0.00632393710148\n",
        "validation_error = \t0.00689179869223\n",
        "training_error = \t"
       ]
      },
      {
       "output_type": "stream",
       "stream": "stdout",
       "text": [
        "0.0062450188752\n",
        "validation_error = \t0.00689179869223\n",
        "training_error = \t"
       ]
      },
      {
       "output_type": "stream",
       "stream": "stdout",
       "text": [
        "0.00618295759912\n",
        "validation_error = \t0.00624485950974\n",
        "training_error = \t"
       ]
      },
      {
       "output_type": "stream",
       "stream": "stdout",
       "text": [
        "0.00614509067581\n",
        "validation_error = \t0.00624485950974\n",
        "training_error = \t"
       ]
      },
      {
       "output_type": "stream",
       "stream": "stdout",
       "text": [
        "0.00610350148206\n",
        "validation_error = \t0.00624485950974\n",
        "training_error = \t"
       ]
      },
      {
       "output_type": "stream",
       "stream": "stdout",
       "text": [
        "0.00607047964985\n",
        "validation_error = \t0.00624485950974\n",
        "training_error = \t"
       ]
      },
      {
       "output_type": "stream",
       "stream": "stdout",
       "text": [
        "0.00603731463898\n",
        "validation_error = \t0.00624485950974\n",
        "training_error = \t"
       ]
      },
      {
       "output_type": "stream",
       "stream": "stdout",
       "text": [
        "0.00602542568767\n",
        "validation_error = \t0.00606912038462\n",
        "training_error = \t"
       ]
      },
      {
       "output_type": "stream",
       "stream": "stdout",
       "text": [
        "0.00599899492089\n",
        "validation_error = \t0.00606912038462\n",
        "training_error = \t"
       ]
      },
      {
       "output_type": "stream",
       "stream": "stdout",
       "text": [
        "0.00597698594158\n",
        "validation_error = \t0.00606912038462\n",
        "training_error = \t"
       ]
      },
      {
       "output_type": "stream",
       "stream": "stdout",
       "text": [
        "0.00596208480268\n",
        "validation_error = \t0.00606912038462\n",
        "training_error = \t"
       ]
      },
      {
       "output_type": "stream",
       "stream": "stdout",
       "text": [
        "0.00594963736326\n",
        "validation_error = \t0.00606912038462\n",
        "training_error = \t"
       ]
      },
      {
       "output_type": "stream",
       "stream": "stdout",
       "text": [
        "0.00593617996452\n",
        "validation_error = \t0.00598126552212\n",
        "training_error = \t"
       ]
      },
      {
       "output_type": "stream",
       "stream": "stdout",
       "text": [
        "0.00592624008203\n",
        "validation_error = \t0.00598126552212\n",
        "training_error = \t"
       ]
      },
      {
       "output_type": "stream",
       "stream": "stdout",
       "text": [
        "0.00591829863093\n",
        "validation_error = \t0.00598126552212\n",
        "training_error = \t"
       ]
      },
      {
       "output_type": "stream",
       "stream": "stdout",
       "text": [
        "0.00590311670732\n",
        "validation_error = \t0.00598126552212\n",
        "training_error = \t"
       ]
      },
      {
       "output_type": "stream",
       "stream": "stdout",
       "text": [
        "0.00589581324174\n",
        "validation_error = \t0.00598126552212\n",
        "training_error = \t"
       ]
      },
      {
       "output_type": "stream",
       "stream": "stdout",
       "text": [
        "0.00589294596534\n",
        "validation_error = \t0.0059352885193\n",
        "training_error = \t"
       ]
      },
      {
       "output_type": "stream",
       "stream": "stdout",
       "text": [
        "0.00587912823404\n",
        "validation_error = \t0.0059352885193\n",
        "training_error = \t"
       ]
      },
      {
       "output_type": "stream",
       "stream": "stdout",
       "text": [
        "0.00587888524947\n",
        "validation_error = \t0.0059352885193\n",
        "training_error = \t"
       ]
      },
      {
       "output_type": "stream",
       "stream": "stdout",
       "text": [
        "0.00586385964898\n",
        "validation_error = \t0.0059352885193\n",
        "training_error = \t"
       ]
      },
      {
       "output_type": "stream",
       "stream": "stdout",
       "text": [
        "0.00586904434089\n",
        "validation_error = \t0.0059352885193\n",
        "training_error = \t"
       ]
      },
      {
       "output_type": "stream",
       "stream": "stdout",
       "text": [
        "0.00585837128397\n",
        "validation_error = \t0.00590188601583\n",
        "training_error = \t"
       ]
      },
      {
       "output_type": "stream",
       "stream": "stdout",
       "text": [
        "0.00585157619453\n",
        "validation_error = \t0.00590188601583\n",
        "training_error = \t"
       ]
      },
      {
       "output_type": "stream",
       "stream": "stdout",
       "text": [
        "0.00585001312326\n",
        "validation_error = \t0.00590188601583\n",
        "training_error = \t"
       ]
      },
      {
       "output_type": "stream",
       "stream": "stdout",
       "text": [
        "0.00583995391547\n",
        "validation_error = \t0.00590188601583\n",
        "training_error = \t"
       ]
      },
      {
       "output_type": "stream",
       "stream": "stdout",
       "text": [
        "0.00583940312476\n",
        "validation_error = \t0.00590188601583\n",
        "training_error = \t"
       ]
      },
      {
       "output_type": "stream",
       "stream": "stdout",
       "text": [
        "0.00583502428708\n",
        "validation_error = \t0.00587968820779\n",
        "training_error = \t"
       ]
      },
      {
       "output_type": "stream",
       "stream": "stdout",
       "text": [
        "0.00583225436122\n",
        "validation_error = \t0.00587968820779\n",
        "training_error = \t"
       ]
      },
      {
       "output_type": "stream",
       "stream": "stdout",
       "text": [
        "0.00582768005834\n",
        "validation_error = \t0.00587968820779\n",
        "training_error = \t"
       ]
      },
      {
       "output_type": "stream",
       "stream": "stdout",
       "text": [
        "0.00582277956991\n",
        "validation_error = \t0.00587968820779\n",
        "training_error = \t"
       ]
      },
      {
       "output_type": "stream",
       "stream": "stdout",
       "text": [
        "0.00582498530692\n",
        "validation_error = \t0.00587968820779\n",
        "training_error = \t"
       ]
      },
      {
       "output_type": "stream",
       "stream": "stdout",
       "text": [
        "0.00581552663835\n",
        "validation_error = \t0.00586398376932\n",
        "training_error = \t"
       ]
      },
      {
       "output_type": "stream",
       "stream": "stdout",
       "text": [
        "0.00582171552004\n",
        "validation_error = \t0.00586398376932\n",
        "training_error = \t"
       ]
      },
      {
       "output_type": "stream",
       "stream": "stdout",
       "text": [
        "0.00581054687182\n",
        "validation_error = \t0.00586398376932\n",
        "training_error = \t"
       ]
      },
      {
       "output_type": "stream",
       "stream": "stdout",
       "text": [
        "0.00581681197831\n",
        "validation_error = \t0.00586398376932\n",
        "training_error = \t"
       ]
      },
      {
       "output_type": "stream",
       "stream": "stdout",
       "text": [
        "0.00581598418411\n",
        "validation_error = \t0.00586398376932\n",
        "training_error = \t"
       ]
      },
      {
       "output_type": "stream",
       "stream": "stdout",
       "text": [
        "0.00580275520737\n",
        "validation_error = \t0.00585462541873\n",
        "training_error = \t"
       ]
      },
      {
       "output_type": "stream",
       "stream": "stdout",
       "text": [
        "0.00580375482158\n",
        "validation_error = \t0.00585462541873\n",
        "training_error = \t"
       ]
      },
      {
       "output_type": "stream",
       "stream": "stdout",
       "text": [
        "0.00580643355893\n",
        "validation_error = \t0.00585462541873\n",
        "training_error = \t"
       ]
      },
      {
       "output_type": "stream",
       "stream": "stdout",
       "text": [
        "0.00579675399305\n",
        "validation_error = \t0.00585462541873\n",
        "training_error = \t"
       ]
      },
      {
       "output_type": "stream",
       "stream": "stdout",
       "text": [
        "0.00580686523944\n",
        "validation_error = \t0.00585462541873\n",
        "training_error = \t"
       ]
      },
      {
       "output_type": "stream",
       "stream": "stdout",
       "text": [
        "0.00579673663118\n",
        "validation_error = \t0.00584556684717\n",
        "training_error = \t"
       ]
      },
      {
       "output_type": "stream",
       "stream": "stdout",
       "text": [
        "0.00580051291851\n",
        "validation_error = \t0.00584556684717\n",
        "training_error = \t"
       ]
      },
      {
       "output_type": "stream",
       "stream": "stdout",
       "text": [
        "0.00579070166873\n",
        "validation_error = \t0.00584556684717\n",
        "training_error = \t"
       ]
      },
      {
       "output_type": "stream",
       "stream": "stdout",
       "text": [
        "0.00580120444109\n",
        "validation_error = \t0.00584556684717\n",
        "training_error = \t"
       ]
      },
      {
       "output_type": "stream",
       "stream": "stdout",
       "text": [
        "0.00579529248851\n",
        "validation_error = \t0.00584556684717\n",
        "training_error = \t"
       ]
      },
      {
       "output_type": "stream",
       "stream": "stdout",
       "text": [
        "0.00579162095711\n",
        "validation_error = \t0.0058390454751\n",
        "training_error = \t"
       ]
      },
      {
       "output_type": "stream",
       "stream": "stdout",
       "text": [
        "0.00579566559113\n",
        "validation_error = \t0.0058390454751\n",
        "training_error = \t"
       ]
      },
      {
       "output_type": "stream",
       "stream": "stdout",
       "text": [
        "0.0057856233376\n",
        "validation_error = \t0.0058390454751\n",
        "training_error = \t"
       ]
      },
      {
       "output_type": "stream",
       "stream": "stdout",
       "text": [
        "0.00578715748848\n",
        "validation_error = \t0.0058390454751\n",
        "training_error = \t"
       ]
      },
      {
       "output_type": "stream",
       "stream": "stdout",
       "text": [
        "0.00578874329313\n",
        "validation_error = \t0.0058390454751\n",
        "training_error = \t"
       ]
      },
      {
       "output_type": "stream",
       "stream": "stdout",
       "text": [
        "0.00578540963509\n",
        "validation_error = \t0.0058328826196\n",
        "training_error = \t"
       ]
      },
      {
       "output_type": "stream",
       "stream": "stdout",
       "text": [
        "0.00578643887496\n",
        "validation_error = \t0.0058328826196\n",
        "training_error = \t"
       ]
      },
      {
       "output_type": "stream",
       "stream": "stdout",
       "text": [
        "0.00578744925366\n",
        "validation_error = \t0.0058328826196\n",
        "training_error = \t"
       ]
      },
      {
       "output_type": "stream",
       "stream": "stdout",
       "text": [
        "0.00578040679745\n",
        "validation_error = \t0.0058328826196\n",
        "training_error = \t"
       ]
      },
      {
       "output_type": "stream",
       "stream": "stdout",
       "text": [
        "0.00578084571272\n",
        "validation_error = \t0.0058328826196\n",
        "training_error = \t"
       ]
      },
      {
       "output_type": "stream",
       "stream": "stdout",
       "text": [
        "0.00578298415417\n",
        "validation_error = \t0.00582996827335\n",
        "training_error = \t"
       ]
      },
      {
       "output_type": "stream",
       "stream": "stdout",
       "text": [
        "0.00577843877458\n",
        "validation_error = \t0.00582996827335\n",
        "training_error = \t"
       ]
      },
      {
       "output_type": "stream",
       "stream": "stdout",
       "text": [
        "0.0057819634606\n",
        "validation_error = \t0.00582996827335\n",
        "training_error = \t"
       ]
      },
      {
       "output_type": "stream",
       "stream": "stdout",
       "text": [
        "0.00577348350724\n",
        "validation_error = \t0.00582996827335\n",
        "training_error = \t"
       ]
      },
      {
       "output_type": "stream",
       "stream": "stdout",
       "text": [
        "0.00578325213045\n",
        "validation_error = \t0.00582996827335\n",
        "training_error = \t"
       ]
      },
      {
       "output_type": "stream",
       "stream": "stdout",
       "text": [
        "0.00577901965304\n",
        "validation_error = \t0.00582644443133\n",
        "training_error = \t"
       ]
      },
      {
       "output_type": "stream",
       "stream": "stdout",
       "text": [
        "0.00577436429522\n",
        "validation_error = \t0.00582644443133\n",
        "training_error = \t"
       ]
      },
      {
       "output_type": "stream",
       "stream": "stdout",
       "text": [
        "0.00577906400217\n",
        "validation_error = \t0.00582644443133\n",
        "training_error = \t"
       ]
      },
      {
       "output_type": "stream",
       "stream": "stdout",
       "text": [
        "0.00577142259367\n",
        "validation_error = \t0.00582644443133\n",
        "training_error = \t"
       ]
      },
      {
       "output_type": "stream",
       "stream": "stdout",
       "text": [
        "0.00576993029659\n",
        "validation_error = \t0.00582644443133\n",
        "training_error = \t"
       ]
      },
      {
       "output_type": "stream",
       "stream": "stdout",
       "text": [
        "0.00577783708316\n",
        "validation_error = \t0.00582383575648\n",
        "training_error = \t"
       ]
      },
      {
       "output_type": "stream",
       "stream": "stdout",
       "text": [
        "0.00577250450712\n",
        "validation_error = \t0.00582383575648\n",
        "training_error = \t"
       ]
      },
      {
       "output_type": "stream",
       "stream": "stdout",
       "text": [
        "0.00577256246138\n",
        "validation_error = \t0.00582383575648\n",
        "training_error = \t"
       ]
      },
      {
       "output_type": "stream",
       "stream": "stdout",
       "text": [
        "0.00577529877673\n",
        "validation_error = \t0.00582383575648\n",
        "training_error = \t"
       ]
      },
      {
       "output_type": "stream",
       "stream": "stdout",
       "text": [
        "0.00576750075549\n",
        "validation_error = \t0.00582383575648\n",
        "training_error = \t"
       ]
      },
      {
       "output_type": "stream",
       "stream": "stdout",
       "text": [
        "0.00576517414684\n",
        "validation_error = \t0.00582127541028\n",
        "training_error = \t"
       ]
      },
      {
       "output_type": "stream",
       "stream": "stdout",
       "text": [
        "0.00577537211185\n",
        "validation_error = \t0.00582127541028\n",
        "training_error = \t"
       ]
      },
      {
       "output_type": "stream",
       "stream": "stdout",
       "text": [
        "0.00576787595757\n",
        "validation_error = \t0.00582127541028\n",
        "training_error = \t"
       ]
      },
      {
       "output_type": "stream",
       "stream": "stdout",
       "text": [
        "0.00577048926207\n",
        "validation_error = \t0.00582127541028\n",
        "training_error = \t"
       ]
      },
      {
       "output_type": "stream",
       "stream": "stdout",
       "text": [
        "0.00576811062334\n",
        "validation_error = \t0.00582127541028\n",
        "training_error = \t"
       ]
      },
      {
       "output_type": "stream",
       "stream": "stdout",
       "text": [
        "0.0057682245597\n",
        "validation_error = \t0.00581957592369\n",
        "training_error = \t"
       ]
      },
      {
       "output_type": "stream",
       "stream": "stdout",
       "text": [
        "0.00576421897224\n",
        "validation_error = \t0.00581957592369\n",
        "training_error = \t"
       ]
      },
      {
       "output_type": "stream",
       "stream": "stdout",
       "text": [
        "0.00577019291377\n",
        "validation_error = \t0.00581957592369\n",
        "training_error = \t"
       ]
      },
      {
       "output_type": "stream",
       "stream": "stdout",
       "text": [
        "0.0057649895515\n",
        "validation_error = \t0.00581957592369\n",
        "training_error = \t"
       ]
      },
      {
       "output_type": "stream",
       "stream": "stdout",
       "text": [
        "0.00576723396289\n",
        "validation_error = \t0.00581957592369\n",
        "training_error = \t"
       ]
      },
      {
       "output_type": "stream",
       "stream": "stdout",
       "text": [
        "0.00576650651995\n",
        "validation_error = \t0.00581871033563\n",
        "training_error = \t"
       ]
      },
      {
       "output_type": "stream",
       "stream": "stdout",
       "text": [
        "0.00576367249432\n",
        "validation_error = \t0.00581871033563\n",
        "training_error = \t"
       ]
      },
      {
       "output_type": "stream",
       "stream": "stdout",
       "text": [
        "0.00576643193922\n",
        "validation_error = \t0.00581871033563\n",
        "training_error = \t"
       ]
      },
      {
       "output_type": "stream",
       "stream": "stdout",
       "text": [
        "0.00576207301455\n",
        "validation_error = \t0.00581871033563\n",
        "training_error = \t"
       ]
      },
      {
       "output_type": "stream",
       "stream": "stdout",
       "text": [
        "0.00576369389773\n",
        "validation_error = \t0.00581871033563\n",
        "training_error = \t"
       ]
      },
      {
       "output_type": "stream",
       "stream": "stdout",
       "text": [
        "0.00576323322206\n",
        "validation_error = \t0.00581851656836\n",
        "training_error = \t"
       ]
      },
      {
       "output_type": "stream",
       "stream": "stdout",
       "text": [
        "0.00576454362134\n",
        "validation_error = \t0.00581851656836\n",
        "training_error = \t"
       ]
      },
      {
       "output_type": "stream",
       "stream": "stdout",
       "text": [
        "0.00576100111375\n",
        "validation_error = \t0.00581851656836\n",
        "training_error = \t"
       ]
      },
      {
       "output_type": "stream",
       "stream": "stdout",
       "text": [
        "0.00576994302574\n",
        "validation_error = \t0.00581851656836\n",
        "training_error = \t"
       ]
      },
      {
       "output_type": "stream",
       "stream": "stdout",
       "text": [
        "0.00575423126763\n",
        "validation_error = \t0.00581851656836\n",
        "training_error = \t"
       ]
      },
      {
       "output_type": "stream",
       "stream": "stdout",
       "text": [
        "0.00575965058196\n",
        "validation_error = \t0.00581780986153\n",
        "training_error = \t"
       ]
      },
      {
       "output_type": "stream",
       "stream": "stdout",
       "text": [
        "0.00576300008096\n",
        "validation_error = \t0.00581780986153\n",
        "training_error = \t"
       ]
      },
      {
       "output_type": "stream",
       "stream": "stdout",
       "text": [
        "0.00576113314792\n",
        "validation_error = \t0.00581780986153\n",
        "training_error = \t"
       ]
      },
      {
       "output_type": "stream",
       "stream": "stdout",
       "text": [
        "0.00576051147727\n",
        "validation_error = \t0.00581780986153\n",
        "training_error = \t"
       ]
      },
      {
       "output_type": "stream",
       "stream": "stdout",
       "text": [
        "0.00576221957058\n",
        "validation_error = \t0.00581780986153\n",
        "training_error = \t"
       ]
      },
      {
       "output_type": "stream",
       "stream": "stdout",
       "text": [
        "0.00575844616036\n",
        "validation_error = \t0.00581762558099\n",
        "training_error = \t"
       ]
      },
      {
       "output_type": "stream",
       "stream": "stdout",
       "text": [
        "0.00576351873132\n",
        "validation_error = \t0.00581762558099\n",
        "training_error = \t"
       ]
      },
      {
       "output_type": "stream",
       "stream": "stdout",
       "text": [
        "0.00575609373577\n",
        "validation_error = \t0.00581762558099\n",
        "training_error = \t"
       ]
      },
      {
       "output_type": "stream",
       "stream": "stdout",
       "text": [
        "0.00575448077252\n",
        "validation_error = \t0.00581762558099\n",
        "training_error = \t"
       ]
      },
      {
       "output_type": "stream",
       "stream": "stdout",
       "text": [
        "0.0057639755802\n",
        "validation_error = \t0.00581762558099\n",
        "training_error = \t"
       ]
      },
      {
       "output_type": "stream",
       "stream": "stdout",
       "text": [
        "0.00575585888888\n",
        "validation_error = \t0.00581630029745\n",
        "training_error = \t"
       ]
      },
      {
       "output_type": "stream",
       "stream": "stdout",
       "text": [
        "0.00576152315268\n",
        "validation_error = \t0.00581630029745\n",
        "training_error = \t"
       ]
      },
      {
       "output_type": "stream",
       "stream": "stdout",
       "text": [
        "0.00575337918327\n",
        "validation_error = \t0.00581630029745\n",
        "training_error = \t"
       ]
      },
      {
       "output_type": "stream",
       "stream": "stdout",
       "text": [
        "0.00576312041207\n",
        "validation_error = \t0.00581630029745\n",
        "training_error = \t"
       ]
      },
      {
       "output_type": "stream",
       "stream": "stdout",
       "text": [
        "0.00575069035483\n",
        "validation_error = \t0.00581630029745\n",
        "training_error = \t"
       ]
      },
      {
       "output_type": "stream",
       "stream": "stdout",
       "text": [
        "0.00576490113337\n",
        "validation_error = \t0.00581597097692\n",
        "training_error = \t"
       ]
      },
      {
       "output_type": "stream",
       "stream": "stdout",
       "text": [
        "0.00576105415508\n",
        "validation_error = \t0.00581597097692\n",
        "training_error = \t"
       ]
      },
      {
       "output_type": "stream",
       "stream": "stdout",
       "text": [
        "0.00575381021638\n",
        "validation_error = \t0.00581597097692\n",
        "training_error = \t"
       ]
      },
      {
       "output_type": "stream",
       "stream": "stdout",
       "text": [
        "0.00575013060913\n",
        "validation_error = \t0.00581597097692\n",
        "training_error = \t"
       ]
      },
      {
       "output_type": "stream",
       "stream": "stdout",
       "text": [
        "0.00576410238664\n",
        "validation_error = \t0.00581597097692\n",
        "training_error = \t"
       ]
      },
      {
       "output_type": "stream",
       "stream": "stdout",
       "text": [
        "0.00576325000992\n",
        "validation_error = \t0.00581278868458\n",
        "training_error = \t"
       ]
      },
      {
       "output_type": "stream",
       "stream": "stdout",
       "text": [
        "0.00575017310382\n",
        "validation_error = \t0.00581278868458\n",
        "training_error = \t"
       ]
      },
      {
       "output_type": "stream",
       "stream": "stdout",
       "text": [
        "0.00575482578568\n",
        "validation_error = \t0.00581278868458\n",
        "training_error = \t"
       ]
      },
      {
       "output_type": "stream",
       "stream": "stdout",
       "text": [
        "0.00575758376357\n",
        "validation_error = \t0.00581278868458\n",
        "training_error = \t"
       ]
      },
      {
       "output_type": "stream",
       "stream": "stdout",
       "text": [
        "0.00576225648861\n",
        "validation_error = \t0.00581278868458\n",
        "training_error = \t"
       ]
      },
      {
       "output_type": "stream",
       "stream": "stdout",
       "text": [
        "0.00574948786857\n",
        "validation_error = \t0.00581051462442\n",
        "training_error = \t"
       ]
      },
      {
       "output_type": "stream",
       "stream": "stdout",
       "text": [
        "0.00575259976498\n",
        "validation_error = \t0.00581051462442\n",
        "training_error = \t"
       ]
      },
      {
       "output_type": "stream",
       "stream": "stdout",
       "text": [
        "0.00575846165038\n",
        "validation_error = \t0.00581051462442\n",
        "training_error = \t"
       ]
      },
      {
       "output_type": "stream",
       "stream": "stdout",
       "text": [
        "0.00575662852725\n",
        "validation_error = \t0.00581051462442\n",
        "training_error = \t"
       ]
      },
      {
       "output_type": "stream",
       "stream": "stdout",
       "text": [
        "0.00575385776569\n",
        "validation_error = \t0.00581051462442\n",
        "training_error = \t"
       ]
      },
      {
       "output_type": "stream",
       "stream": "stdout",
       "text": [
        "0.00575638794071\n",
        "validation_error = \t0.00580932859624\n",
        "training_error = \t"
       ]
      },
      {
       "output_type": "stream",
       "stream": "stdout",
       "text": [
        "0.00575328763978\n",
        "validation_error = \t0.00580932859624\n",
        "training_error = \t"
       ]
      },
      {
       "output_type": "stream",
       "stream": "stdout",
       "text": [
        "0.00575540913017\n",
        "validation_error = \t0.00580932859624\n",
        "training_error = \t"
       ]
      },
      {
       "output_type": "stream",
       "stream": "stdout",
       "text": [
        "0.00575346832514\n",
        "validation_error = \t0.00580932859624\n",
        "training_error = \t"
       ]
      },
      {
       "output_type": "stream",
       "stream": "stdout",
       "text": [
        "0.0057523177388\n",
        "validation_error = \t0.00580932859624\n",
        "training_error = \t"
       ]
      },
      {
       "output_type": "stream",
       "stream": "stdout",
       "text": [
        "0.0057558795933\n",
        "validation_error = \t0.00580853495714\n",
        "training_error = \t"
       ]
      },
      {
       "output_type": "stream",
       "stream": "stdout",
       "text": [
        "0.0057522996067\n",
        "validation_error = \t0.00580853495714\n",
        "training_error = \t"
       ]
      },
      {
       "output_type": "stream",
       "stream": "stdout",
       "text": [
        "0.00575522128584\n",
        "validation_error = \t0.00580853495714\n",
        "training_error = \t"
       ]
      },
      {
       "output_type": "stream",
       "stream": "stdout",
       "text": [
        "0.00574812597282\n",
        "validation_error = \t0.00580853495714\n",
        "training_error = \t"
       ]
      },
      {
       "output_type": "stream",
       "stream": "stdout",
       "text": [
        "0.00575839323984\n",
        "validation_error = \t0.00580853495714\n",
        "training_error = \t"
       ]
      },
      {
       "output_type": "stream",
       "stream": "stdout",
       "text": [
        "0.00575065602776\n",
        "validation_error = \t0.0058082106114\n",
        "training_error = \t"
       ]
      },
      {
       "output_type": "stream",
       "stream": "stdout",
       "text": [
        "0.00575504113201\n",
        "validation_error = \t0.0058082106114\n",
        "training_error = \t"
       ]
      },
      {
       "output_type": "stream",
       "stream": "stdout",
       "text": [
        "0.00575134576806\n",
        "validation_error = \t0.0058082106114\n",
        "training_error = \t"
       ]
      },
      {
       "output_type": "stream",
       "stream": "stdout",
       "text": [
        "0.00575354781634\n",
        "validation_error = \t0.0058082106114\n",
        "training_error = \t"
       ]
      },
      {
       "output_type": "stream",
       "stream": "stdout",
       "text": [
        "0.00574807970369\n",
        "validation_error = \t0.0058082106114\n",
        "training_error = \t"
       ]
      },
      {
       "output_type": "stream",
       "stream": "stdout",
       "text": [
        "0.00575632354989\n",
        "validation_error = \t0.00580730672615\n",
        "training_error = \t"
       ]
      },
      {
       "output_type": "stream",
       "stream": "stdout",
       "text": [
        "0.00574688362463\n",
        "validation_error = \t0.00580730672615\n",
        "training_error = \t"
       ]
      },
      {
       "output_type": "stream",
       "stream": "stdout",
       "text": [
        "0.00575707470906\n",
        "validation_error = \t0.00580730672615\n",
        "training_error = \t"
       ]
      },
      {
       "output_type": "stream",
       "stream": "stdout",
       "text": [
        "0.00575561958979\n",
        "validation_error = \t0.00580730672615\n",
        "training_error = \t"
       ]
      },
      {
       "output_type": "stream",
       "stream": "stdout",
       "text": [
        "0.00574781441497\n",
        "validation_error = \t0.00580730672615\n",
        "training_error = \t"
       ]
      },
      {
       "output_type": "stream",
       "stream": "stdout",
       "text": [
        "0.00574321560839\n",
        "validation_error = \t0.00580685332247\n",
        "training_error = \t"
       ]
      },
      {
       "output_type": "stream",
       "stream": "stdout",
       "text": [
        "0.00575983854126\n",
        "validation_error = \t0.00580685332247\n",
        "training_error = \t"
       ]
      },
      {
       "output_type": "stream",
       "stream": "stdout",
       "text": [
        "0.00574862785193\n",
        "validation_error = \t0.00580685332247\n",
        "training_error = \t"
       ]
      },
      {
       "output_type": "stream",
       "stream": "stdout",
       "text": [
        "0.00575407822495\n",
        "validation_error = \t0.00580685332247\n",
        "training_error = \t"
       ]
      },
      {
       "output_type": "stream",
       "stream": "stdout",
       "text": [
        "0.00575512385857\n",
        "validation_error = \t0.00580685332247\n",
        "training_error = \t"
       ]
      },
      {
       "output_type": "stream",
       "stream": "stdout",
       "text": [
        "0.00574718632211\n",
        "validation_error = \t0.00580657624223\n",
        "training_error = \t"
       ]
      },
      {
       "output_type": "stream",
       "stream": "stdout",
       "text": [
        "0.00574910577049\n",
        "validation_error = \t0.00580657624223\n",
        "training_error = \t"
       ]
      },
      {
       "output_type": "stream",
       "stream": "stdout",
       "text": [
        "0.00575285856221\n",
        "validation_error = \t0.00580657624223\n",
        "training_error = \t"
       ]
      },
      {
       "output_type": "stream",
       "stream": "stdout",
       "text": [
        "0.0057504468234\n",
        "validation_error = \t0.00580657624223\n",
        "training_error = \t"
       ]
      },
      {
       "output_type": "stream",
       "stream": "stdout",
       "text": [
        "0.00575107420286\n",
        "validation_error = \t0.00580657624223\n",
        "training_error = \t"
       ]
      },
      {
       "output_type": "stream",
       "stream": "stdout",
       "text": [
        "0.00575211680549\n",
        "validation_error = \t0.00580635617939\n",
        "training_error = \t"
       ]
      },
      {
       "output_type": "stream",
       "stream": "stdout",
       "text": [
        "0.00574910624168\n",
        "validation_error = \t0.00580635617939\n",
        "training_error = \t"
       ]
      },
      {
       "output_type": "stream",
       "stream": "stdout",
       "text": [
        "0.00575005155965\n",
        "validation_error = \t0.00580635617939\n",
        "training_error = \t"
       ]
      },
      {
       "output_type": "stream",
       "stream": "stdout",
       "text": [
        "0.00575074412921\n",
        "validation_error = \t0.00580635617939\n",
        "training_error = \t"
       ]
      },
      {
       "output_type": "stream",
       "stream": "stdout",
       "text": [
        "0.00575087146097\n",
        "validation_error = \t0.00580635617939\n",
        "training_error = \t"
       ]
      },
      {
       "output_type": "stream",
       "stream": "stdout",
       "text": [
        "0.00574959230785\n",
        "validation_error = \t0.00580603940051\n",
        "training_error = \t"
       ]
      },
      {
       "output_type": "stream",
       "stream": "stdout",
       "text": [
        "0.00575208853811\n",
        "validation_error = \t0.00580603940051\n",
        "training_error = \t"
       ]
      },
      {
       "output_type": "stream",
       "stream": "stdout",
       "text": [
        "0.0057481305046\n",
        "validation_error = \t0.00580603940051\n",
        "training_error = \t"
       ]
      },
      {
       "output_type": "stream",
       "stream": "stdout",
       "text": [
        "0.0057509412145\n",
        "validation_error = \t0.00580603940051\n",
        "training_error = \t"
       ]
      },
      {
       "output_type": "stream",
       "stream": "stdout",
       "text": [
        "0.00574897367626\n",
        "validation_error = \t0.00580603940051\n",
        "training_error = \t"
       ]
      },
      {
       "output_type": "stream",
       "stream": "stdout",
       "text": [
        "0.00574918054567\n",
        "validation_error = \t0.00580584844329\n",
        "training_error = \t"
       ]
      },
      {
       "output_type": "stream",
       "stream": "stdout",
       "text": [
        "0.00575046957661\n",
        "validation_error = \t0.00580584844329\n",
        "training_error = \t"
       ]
      },
      {
       "output_type": "stream",
       "stream": "stdout",
       "text": [
        "0.00574793233214\n",
        "validation_error = \t0.00580584844329\n",
        "training_error = \t"
       ]
      },
      {
       "output_type": "stream",
       "stream": "stdout",
       "text": [
        "0.00575140832007\n",
        "validation_error = \t0.00580584844329\n",
        "training_error = \t"
       ]
      },
      {
       "output_type": "stream",
       "stream": "stdout",
       "text": [
        "0.0057508440383\n",
        "validation_error = \t0.00580584844329\n",
        "training_error = \t"
       ]
      },
      {
       "output_type": "stream",
       "stream": "stdout",
       "text": [
        "0.00574820881282\n",
        "validation_error = \t0.00580551616804\n",
        "training_error = \t"
       ]
      },
      {
       "output_type": "stream",
       "stream": "stdout",
       "text": [
        "0.00574869359781\n",
        "validation_error = \t0.00580551616804\n",
        "training_error = \t"
       ]
      },
      {
       "output_type": "stream",
       "stream": "stdout",
       "text": [
        "0.00575013356886\n",
        "validation_error = \t0.00580551616804\n",
        "training_error = \t"
       ]
      },
      {
       "output_type": "stream",
       "stream": "stdout",
       "text": [
        "0.00575047864106\n",
        "validation_error = \t0.00580551616804\n",
        "training_error = \t"
       ]
      },
      {
       "output_type": "stream",
       "stream": "stdout",
       "text": [
        "0.00574806961828\n",
        "validation_error = \t0.00580551616804\n",
        "training_error = \t"
       ]
      },
      {
       "output_type": "stream",
       "stream": "stdout",
       "text": [
        "0.00574861142026\n",
        "validation_error = \t0.00580537545878\n",
        "training_error = \t"
       ]
      },
      {
       "output_type": "stream",
       "stream": "stdout",
       "text": [
        "0.00574970267686\n",
        "validation_error = \t0.00580537545878\n",
        "training_error = \t"
       ]
      },
      {
       "output_type": "stream",
       "stream": "stdout",
       "text": [
        "0.00574648747579\n",
        "validation_error = \t0.00580537545878\n",
        "training_error = \t"
       ]
      },
      {
       "output_type": "stream",
       "stream": "stdout",
       "text": [
        "0.00575163026488\n",
        "validation_error = \t0.00580537545878\n",
        "training_error = \t"
       ]
      },
      {
       "output_type": "stream",
       "stream": "stdout",
       "text": [
        "0.00575327865385\n",
        "validation_error = \t0.00580537545878\n",
        "training_error = \t"
       ]
      },
      {
       "output_type": "stream",
       "stream": "stdout",
       "text": [
        "0.00574461628753\n",
        "validation_error = \t0.00580517620012\n",
        "training_error = \t"
       ]
      },
      {
       "output_type": "stream",
       "stream": "stdout",
       "text": [
        "0.00574832402847\n",
        "validation_error = \t0.00580517620012\n",
        "training_error = \t"
       ]
      },
      {
       "output_type": "stream",
       "stream": "stdout",
       "text": [
        "0.00574941167183\n",
        "validation_error = \t0.00580517620012\n",
        "training_error = \t"
       ]
      },
      {
       "output_type": "stream",
       "stream": "stdout",
       "text": [
        "0.00574166550719\n",
        "validation_error = \t0.00580517620012\n",
        "training_error = \t"
       ]
      },
      {
       "output_type": "stream",
       "stream": "stdout",
       "text": [
        "0.00575585095432\n",
        "validation_error = \t0.00580517620012\n",
        "training_error = \t"
       ]
      },
      {
       "output_type": "stream",
       "stream": "stdout",
       "text": [
        "0.00574460237948\n",
        "validation_error = \t0.00580505224337\n",
        "training_error = \t"
       ]
      },
      {
       "output_type": "stream",
       "stream": "stdout",
       "text": [
        "0.0057527472573\n",
        "validation_error = \t0.00580505224337\n",
        "training_error = \t"
       ]
      },
      {
       "output_type": "stream",
       "stream": "stdout",
       "text": [
        "0.00575628945631\n",
        "validation_error = \t0.00580505224337\n",
        "training_error = \t"
       ]
      },
      {
       "output_type": "stream",
       "stream": "stdout",
       "text": [
        "0.00574089978609\n",
        "validation_error = \t0.00580505224337\n",
        "training_error = \t"
       ]
      },
      {
       "output_type": "stream",
       "stream": "stdout",
       "text": [
        "0.00574345191716\n",
        "validation_error = \t0.00580505224337\n",
        "training_error = \t"
       ]
      },
      {
       "output_type": "stream",
       "stream": "stdout",
       "text": [
        "0.00575348106385\n",
        "validation_error = \t0.00580484317023\n",
        "training_error = \t"
       ]
      },
      {
       "output_type": "stream",
       "stream": "stdout",
       "text": [
        "0.00574990631625\n",
        "validation_error = \t0.00580484317023\n",
        "training_error = \t"
       ]
      },
      {
       "output_type": "stream",
       "stream": "stdout",
       "text": [
        "0.00574687822369\n",
        "validation_error = \t0.00580484317023\n",
        "training_error = \t"
       ]
      },
      {
       "output_type": "stream",
       "stream": "stdout",
       "text": [
        "0.00573977765864\n",
        "validation_error = \t0.00580484317023\n",
        "training_error = \t"
       ]
      },
      {
       "output_type": "stream",
       "stream": "stdout",
       "text": [
        "0.00575679588467\n",
        "validation_error = \t0.00580484317023\n",
        "training_error = \t"
       ]
      },
      {
       "output_type": "stream",
       "stream": "stdout",
       "text": [
        "0.00574641848987\n",
        "validation_error = \t0.0058048182141\n",
        "training_error = \t"
       ]
      },
      {
       "output_type": "stream",
       "stream": "stdout",
       "text": [
        "0.00575000866528\n",
        "validation_error = \t0.0058048182141\n",
        "training_error = \t"
       ]
      },
      {
       "output_type": "stream",
       "stream": "stdout",
       "text": [
        "0.00574549797271\n",
        "validation_error = \t0.0058048182141\n",
        "training_error = \t"
       ]
      },
      {
       "output_type": "stream",
       "stream": "stdout",
       "text": [
        "0.00575079505232\n",
        "validation_error = \t0.0058048182141\n",
        "training_error = \t"
       ]
      },
      {
       "output_type": "stream",
       "stream": "stdout",
       "text": [
        "0.00575295225013\n",
        "validation_error = \t0.0058048182141\n",
        "\t training ended"
       ]
      },
      {
       "output_type": "stream",
       "stream": "stdout",
       "text": [
        "\n",
        "training time (seconds) \t493.0\n"
       ]
      }
     ],
     "prompt_number": 7
    },
    {
     "cell_type": "code",
     "collapsed": false,
     "input": [
      "plt.plot(training_error,'b')\n",
      "print training_error[-1]"
     ],
     "language": "python",
     "metadata": {},
     "outputs": [
      {
       "output_type": "stream",
       "stream": "stdout",
       "text": [
        "0.00575295225013\n"
       ]
      },
      {
       "metadata": {},
       "output_type": "display_data",
       "png": "[encoded data removed]",
       "text": [
        "<matplotlib.figure.Figure at 0x7f9cbb0ba610>"
       ]
      }
     ],
     "prompt_number": 8
    },
    {
     "cell_type": "code",
     "collapsed": false,
     "input": [
      "plt.plot(validation_error,'b')\n",
      "print validation_error[-1]"
     ],
     "language": "python",
     "metadata": {},
     "outputs": [
      {
       "output_type": "stream",
       "stream": "stdout",
       "text": [
        "0.0058048182141\n"
       ]
      },
      {
       "metadata": {},
       "output_type": "display_data",
       "png": "[encoded data removed]",
       "text": [
        "<matplotlib.figure.Figure at 0x7f9cbb0ba6d0>"
       ]
      }
     ],
     "prompt_number": 9
    },
    {
     "cell_type": "code",
     "collapsed": false,
     "input": [
      "e"
     ],
     "language": "python",
     "metadata": {},
     "outputs": [
      {
       "metadata": {},
       "output_type": "pyout",
       "prompt_number": 11,
       "text": [
        "[(OrderedDict([('loss', 0.0085986440083445168), ('err', 0.0085986440083445168)]),\n",
        "  OrderedDict([('loss', 0.0086501840236289668), ('err', 0.0086501840236289668)])),\n",
        " 0,\n",
        " 0,\n",
        " 0,\n",
        " 0,\n",
        " 0,\n",
        " 0,\n",
        " 0,\n",
        " 0,\n",
        " 0]"
       ]
      }
     ],
     "prompt_number": 11
    },
    {
     "cell_type": "code",
     "collapsed": false,
     "input": [
      "spent"
     ],
     "language": "python",
     "metadata": {},
     "outputs": [
      {
       "metadata": {},
       "output_type": "pyout",
       "prompt_number": 33,
       "text": [
        "[18.0, 15.0, 38.0, 201.0, 210.0, 1113.0, 2674.0]"
       ]
      }
     ],
     "prompt_number": 33
    },
    {
     "cell_type": "code",
     "collapsed": false,
     "input": [
      "trainer.save(\"network/20K1L-relu-rprop\")"
     ],
     "language": "python",
     "metadata": {},
     "outputs": [],
     "prompt_number": 11
    },
    {
     "cell_type": "code",
     "collapsed": false,
     "input": [
      "trainer.load(\"network/20K1L-relu-rprop\")"
     ],
     "language": "python",
     "metadata": {},
     "outputs": [
      {
       "metadata": {},
       "output_type": "pyout",
       "prompt_number": 7,
       "text": [
        "<theanets.feedforward.Regressor at 0x7f7d2045c810>"
       ]
      }
     ],
     "prompt_number": 7
    },
    {
     "cell_type": "code",
     "collapsed": false,
     "input": [
      "plt.plot(trainer.network.predict(valid[0])[0])\n",
      "plt.xlabel('hit index')"
     ],
     "language": "python",
     "metadata": {},
     "outputs": [
      {
       "metadata": {},
       "output_type": "pyout",
       "prompt_number": 12,
       "text": [
        "<matplotlib.text.Text at 0x7f2bc4f5e8d0>"
       ]
      },
      {
       "metadata": {},
       "output_type": "display_data",
       "png": "[encoded data removed]",
       "text": [
        "<matplotlib.figure.Figure at 0x7f2bc56a0fd0>"
       ]
      }
     ],
     "prompt_number": 12
    },
    {
     "cell_type": "code",
     "collapsed": false,
     "input": [
      "plt.plot(ds_output[cut+3])\n",
      "plt.xlabel('hit index')"
     ],
     "language": "python",
     "metadata": {},
     "outputs": [
      {
       "metadata": {},
       "output_type": "pyout",
       "prompt_number": 20,
       "text": [
        "<matplotlib.text.Text at 0x7f2bcaa64510>"
       ]
      },
      {
       "metadata": {},
       "output_type": "display_data",
       "png": "[encoded data removed]",
       "text": [
        "<matplotlib.figure.Figure at 0x7f2bcaa4f7d0>"
       ]
      }
     ],
     "prompt_number": 20
    },
    {
     "cell_type": "code",
     "collapsed": false,
     "input": [
      "plt.hist([val for val in trainer.network.predict(train[0])[4] if val > 0.1 ], bins = 50)"
     ],
     "language": "python",
     "metadata": {},
     "outputs": [
      {
       "metadata": {},
       "output_type": "pyout",
       "prompt_number": 12,
       "text": [
        "(array([ 1.,  0.,  1.,  0.,  0.,  0.,  0.,  1.,  0.,  0.,  1.,  0.,  0.,\n",
        "         0.,  1.,  0.,  0.,  0.,  0.,  0.,  0.,  1.,  0.,  0.,  1.,  0.,\n",
        "         1.,  0.,  1.,  0.,  0.,  0.,  1.,  0.,  0.,  0.,  0.,  1.,  0.,\n",
        "         1.,  0.,  0.,  0.,  1.,  0.,  0.,  0.,  0.,  0.,  3.]),\n",
        " array([ 0.11243238,  0.13007094,  0.14770949,  0.16534804,  0.1829866 ,\n",
        "         0.20062515,  0.2182637 ,  0.23590226,  0.25354081,  0.27117936,\n",
        "         0.28881792,  0.30645647,  0.32409502,  0.34173358,  0.35937213,\n",
        "         0.37701068,  0.39464924,  0.41228779,  0.42992634,  0.4475649 ,\n",
        "         0.46520345,  0.482842  ,  0.50048056,  0.51811911,  0.53575766,\n",
        "         0.55339622,  0.57103477,  0.58867332,  0.60631188,  0.62395043,\n",
        "         0.64158898,  0.65922754,  0.67686609,  0.69450464,  0.7121432 ,\n",
        "         0.72978175,  0.7474203 ,  0.76505886,  0.78269741,  0.80033596,\n",
        "         0.81797452,  0.83561307,  0.85325162,  0.87089018,  0.88852873,\n",
        "         0.90616728,  0.92380584,  0.94144439,  0.95908294,  0.9767215 ,\n",
        "         0.99436005]),\n",
        " <a list of 50 Patch objects>)"
       ]
      },
      {
       "metadata": {},
       "output_type": "display_data",
       "png": "[encoded data removed]",
       "text": [
        "<matplotlib.figure.Figure at 0x7f3de003e150>"
       ]
      }
     ],
     "prompt_number": 12
    },
    {
     "cell_type": "code",
     "collapsed": false,
     "input": [
      "plt.plot(trainer.network.predict(valid[0])[105],'b')\n",
      "plt.plot(ds_output[cut+105],'yo')\n",
      "plt.xlabel('hit index')\n",
      "plt.suptitle('expexted(yellow dots) vs NN(blue lines) output')"
     ],
     "language": "python",
     "metadata": {},
     "outputs": [
      {
       "metadata": {},
       "output_type": "pyout",
       "prompt_number": 29,
       "text": [
        "<matplotlib.text.Text at 0x7f714de3a150>"
       ]
      },
      {
       "metadata": {},
       "output_type": "display_data",
       "png": "[encoded data removed]",
       "text": [
        "<matplotlib.figure.Figure at 0x7f714df09d90>"
       ]
      }
     ],
     "prompt_number": 29
    },
    {
     "cell_type": "code",
     "collapsed": false,
     "input": [
      "def max_finder (listt) :\n",
      "    m = 0\n",
      "    for i in range (len(listt)) :\n",
      "        if listt[i] > listt[m] :\n",
      "            m = i\n",
      "    return m\n",
      "def compare (out,learn,n = nlayers,m = 4) : # m is ntracks\n",
      "    counter = 0\n",
      "    output = np.zeros(len(out) , dtype=float32)\n",
      "    for i in range (len(out)) :\n",
      "        output[i] = out[i]\n",
      "    learned = learn\n",
      "    for track in range (m) :\n",
      "        subcounter = 0\n",
      "        for layer in range (n) :\n",
      "            start = int(float(layer) * len(output) / n)\n",
      "            end = int(float(layer+1) * len(output) / n)\n",
      "            subOutput = output[start:end]\n",
      "            subLearned = learned[start:end]\n",
      "            if max_finder(subOutput) == max_finder(subLearned) :\n",
      "                subcounter += 1\n",
      "            output[max_finder(subOutput)+start] = 0\n",
      "            learned[max_finder(subLearned)+start] = 0\n",
      "        if subcounter >= 0.75*n :\n",
      "            counter += 1\n",
      "    return counter"
     ],
     "language": "python",
     "metadata": {},
     "outputs": [],
     "prompt_number": 14
    },
    {
     "cell_type": "code",
     "collapsed": false,
     "input": [
      "counter = np.zeros(5 , dtype=float32)\n",
      "start = time.mktime(time.gmtime())\n",
      "for i in range (200) :\n",
      "    n_good_tracks = compare(ds_output[cut+i],trainer.network.predict(valid[0])[i],4,4)\n",
      "    if n_good_tracks == 4 :\n",
      "        print i\n",
      "    counter[n_good_tracks] += 1\n",
      "stop = time.mktime (time.gmtime())\n",
      "spent.append (stop - start)\n",
      "print \"\\t\" , stop - start\n",
      "print counter"
     ],
     "language": "python",
     "metadata": {},
     "outputs": [
      {
       "output_type": "stream",
       "stream": "stdout",
       "text": [
        "5\n",
        "6"
       ]
      },
      {
       "output_type": "stream",
       "stream": "stdout",
       "text": [
        "\n",
        "7"
       ]
      },
      {
       "output_type": "stream",
       "stream": "stdout",
       "text": [
        "\n",
        "23"
       ]
      },
      {
       "output_type": "stream",
       "stream": "stdout",
       "text": [
        "\n",
        "28"
       ]
      },
      {
       "output_type": "stream",
       "stream": "stdout",
       "text": [
        "\n",
        "31"
       ]
      },
      {
       "output_type": "stream",
       "stream": "stdout",
       "text": [
        "\n",
        "37"
       ]
      },
      {
       "output_type": "stream",
       "stream": "stdout",
       "text": [
        "\n",
        "47"
       ]
      },
      {
       "output_type": "stream",
       "stream": "stdout",
       "text": [
        "\n",
        "48"
       ]
      },
      {
       "output_type": "stream",
       "stream": "stdout",
       "text": [
        "\n",
        "57"
       ]
      },
      {
       "output_type": "stream",
       "stream": "stdout",
       "text": [
        "\n",
        "64"
       ]
      },
      {
       "output_type": "stream",
       "stream": "stdout",
       "text": [
        "\n",
        "65"
       ]
      },
      {
       "output_type": "stream",
       "stream": "stdout",
       "text": [
        "\n",
        "72"
       ]
      },
      {
       "output_type": "stream",
       "stream": "stdout",
       "text": [
        "\n",
        "83"
       ]
      },
      {
       "output_type": "stream",
       "stream": "stdout",
       "text": [
        "\n",
        "88"
       ]
      },
      {
       "output_type": "stream",
       "stream": "stdout",
       "text": [
        "\n",
        "97"
       ]
      },
      {
       "output_type": "stream",
       "stream": "stdout",
       "text": [
        "\n",
        "99"
       ]
      },
      {
       "output_type": "stream",
       "stream": "stdout",
       "text": [
        "\n",
        "108"
       ]
      },
      {
       "output_type": "stream",
       "stream": "stdout",
       "text": [
        "\n",
        "111"
       ]
      },
      {
       "output_type": "stream",
       "stream": "stdout",
       "text": [
        "\n",
        "117"
       ]
      },
      {
       "output_type": "stream",
       "stream": "stdout",
       "text": [
        "\n",
        "129"
       ]
      },
      {
       "output_type": "stream",
       "stream": "stdout",
       "text": [
        "\n",
        "130"
       ]
      },
      {
       "output_type": "stream",
       "stream": "stdout",
       "text": [
        "\n",
        "137"
       ]
      },
      {
       "output_type": "stream",
       "stream": "stdout",
       "text": [
        "\n",
        "142"
       ]
      },
      {
       "output_type": "stream",
       "stream": "stdout",
       "text": [
        "\n",
        "153"
       ]
      },
      {
       "output_type": "stream",
       "stream": "stdout",
       "text": [
        "\n",
        "161"
       ]
      },
      {
       "output_type": "stream",
       "stream": "stdout",
       "text": [
        "\n",
        "165"
       ]
      },
      {
       "output_type": "stream",
       "stream": "stdout",
       "text": [
        "\n",
        "171"
       ]
      },
      {
       "output_type": "stream",
       "stream": "stdout",
       "text": [
        "\n",
        "172"
       ]
      },
      {
       "output_type": "stream",
       "stream": "stdout",
       "text": [
        "\n",
        "173"
       ]
      },
      {
       "output_type": "stream",
       "stream": "stdout",
       "text": [
        "\n",
        "184"
       ]
      },
      {
       "output_type": "stream",
       "stream": "stdout",
       "text": [
        "\n",
        "189"
       ]
      },
      {
       "output_type": "stream",
       "stream": "stdout",
       "text": [
        "\n",
        "190"
       ]
      },
      {
       "output_type": "stream",
       "stream": "stdout",
       "text": [
        "\n",
        "193"
       ]
      },
      {
       "output_type": "stream",
       "stream": "stdout",
       "text": [
        "\n",
        "\t"
       ]
      },
      {
       "output_type": "stream",
       "stream": "stdout",
       "text": [
        "22.0\n",
        "[ 20.  48.  89.   9.  34.]\n"
       ]
      }
     ],
     "prompt_number": 15
    },
    {
     "cell_type": "code",
     "collapsed": false,
     "input": [
      "gots = np.zeros(5 , dtype=float32)\n",
      "start = time.mktime(time.gmtime())\n",
      "for i in range (200) :\n",
      "    n_goodTracks = int(4*got(ds_output[cut+i],trainer.network.predict(valid[0])[i],0.1,0.75))\n",
      "    if n_goodTracks == 4 :\n",
      "        print i\n",
      "    gots[n_goodTracks] += 1\n",
      "stop = time.mktime (time.gmtime())\n",
      "spent.append (stop - start)\n",
      "print \"\\t\" , stop - start\n",
      "print \"gots :\\t\",gots"
     ],
     "language": "python",
     "metadata": {},
     "outputs": [
      {
       "output_type": "stream",
       "stream": "stdout",
       "text": [
        "8\n",
        "14"
       ]
      },
      {
       "output_type": "stream",
       "stream": "stdout",
       "text": [
        "\n",
        "15"
       ]
      },
      {
       "output_type": "stream",
       "stream": "stdout",
       "text": [
        "\n",
        "30"
       ]
      },
      {
       "output_type": "stream",
       "stream": "stdout",
       "text": [
        "\n",
        "38"
       ]
      },
      {
       "output_type": "stream",
       "stream": "stdout",
       "text": [
        "\n",
        "45"
       ]
      },
      {
       "output_type": "stream",
       "stream": "stdout",
       "text": [
        "\n",
        "65"
       ]
      },
      {
       "output_type": "stream",
       "stream": "stdout",
       "text": [
        "\n",
        "69"
       ]
      },
      {
       "output_type": "stream",
       "stream": "stdout",
       "text": [
        "\n",
        "76"
       ]
      },
      {
       "output_type": "stream",
       "stream": "stdout",
       "text": [
        "\n",
        "96"
       ]
      },
      {
       "output_type": "stream",
       "stream": "stdout",
       "text": [
        "\n",
        "103"
       ]
      },
      {
       "output_type": "stream",
       "stream": "stdout",
       "text": [
        "\n",
        "110"
       ]
      },
      {
       "output_type": "stream",
       "stream": "stdout",
       "text": [
        "\n",
        "120"
       ]
      },
      {
       "output_type": "stream",
       "stream": "stdout",
       "text": [
        "\n",
        "130"
       ]
      },
      {
       "output_type": "stream",
       "stream": "stdout",
       "text": [
        "\n",
        "141"
       ]
      },
      {
       "output_type": "stream",
       "stream": "stdout",
       "text": [
        "\n",
        "168"
       ]
      },
      {
       "output_type": "stream",
       "stream": "stdout",
       "text": [
        "\n",
        "192"
       ]
      },
      {
       "output_type": "stream",
       "stream": "stdout",
       "text": [
        "\n",
        "\t"
       ]
      },
      {
       "output_type": "stream",
       "stream": "stdout",
       "text": [
        "54.0\n",
        "gots :\t[  5.  42.  69.  67.  17.]\n"
       ]
      }
     ],
     "prompt_number": 11
    },
    {
     "cell_type": "code",
     "collapsed": false,
     "input": [],
     "language": "python",
     "metadata": {},
     "outputs": [
      {
       "output_type": "stream",
       "stream": "stdout",
       "text": [
        "[ 38.  33.   3.   1.   0.]\n"
       ]
      }
     ],
     "prompt_number": 75
    }
   ],
   "metadata": {}
  }
 ]
}