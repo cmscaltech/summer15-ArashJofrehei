{
 "metadata": {
  "name": "",
  "signature": "sha256:e59adb189b1454e76e40a71004e1d48bc4380ccb26c271497f97bf7a5773e0ea"
 },
 "nbformat": 3,
 "nbformat_minor": 0,
 "worksheets": [
  {
   "cells": [
    {
     "cell_type": "code",
     "collapsed": false,
     "input": [
      "import pybrain"
     ],
     "language": "python",
     "metadata": {},
     "outputs": [],
     "prompt_number": 1
    },
    {
     "cell_type": "code",
     "collapsed": false,
     "input": [
      "from pybrain.tools.shortcuts import buildNetwork"
     ],
     "language": "python",
     "metadata": {},
     "outputs": [],
     "prompt_number": 2
    },
    {
     "cell_type": "code",
     "collapsed": false,
     "input": [
      "from pybrain.supervised.trainers import BackpropTrainer"
     ],
     "language": "python",
     "metadata": {},
     "outputs": [],
     "prompt_number": 3
    },
    {
     "cell_type": "code",
     "collapsed": false,
     "input": [
      "from pybrain.datasets import SupervisedDataSet"
     ],
     "language": "python",
     "metadata": {},
     "outputs": [],
     "prompt_number": 4
    },
    {
     "cell_type": "code",
     "collapsed": false,
     "input": [
      "import time"
     ],
     "language": "python",
     "metadata": {},
     "outputs": [],
     "prompt_number": 5
    },
    {
     "cell_type": "code",
     "collapsed": false,
     "input": [
      "nlayers = 4\n",
      "module_size=20 #cm\n",
      "module_cell = 100 #per edge\n",
      "distance_between_layers = 5 #cm\n",
      "ncells=module_cell*module_cell*nlayers\n",
      "nhidden=10\n",
      "net = buildNetwork(ncells, nhidden, ncells,bias = False)\n",
      "ds = SupervisedDataSet(ncells, ncells)\n",
      "trainer = BackpropTrainer(net, ds)\n",
      "maximum_hight = nlayers * distance_between_layers\n",
      "theta_max = math.atan(0.5 * module_size / maximum_hight)\n",
      "theta_min = -1 * theta_max\n",
      "#min_R = nlayers * distance_between_layers / 2.0\n",
      "min_R = 50\n",
      "max_R = 100\n",
      "y = []\n",
      "y.append(0)\n",
      "y_prime = []\n",
      "y_prime.append(0)\n",
      "z = []\n",
      "z.append(0)\n",
      "x = []\n",
      "x.append(0)\n",
      "for i in range (nlayers) :\n",
      "    y.append((i+1) * distance_between_layers)\n",
      "    y_prime.append((i+1) * distance_between_layers)\n",
      "    z.append(0)\n",
      "    x.append(0)"
     ],
     "language": "python",
     "metadata": {},
     "outputs": [],
     "prompt_number": 6
    },
    {
     "cell_type": "code",
     "collapsed": false,
     "input": [
      "spent = []\n",
      "list_error = []\n",
      "sampleInput = []\n",
      "for i in range (ncells) :\n",
      "    sampleInput.append (1)\n",
      "sampleOutput = []\n",
      "for i in range (ncells) :\n",
      "    sampleOutput.append (1)\n",
      "min_ntracks = 1000\n",
      "max_ntracks = 4000\n",
      "nsamples = 100\n",
      "training_ratio = 0.7\n",
      "ntraining = int (training_ratio * nsamples)\n",
      "testing_ratio = 0.2\n",
      "ntesting = int(testing_ratio * nsamples)\n",
      "validating_ratio = 0.1\n",
      "nvalidating = int(validating_ratio * nsamples)\n",
      "def sample_creater () :                  # creates a sample with a random number of tracks\n",
      "    for i in range (ncells) :\n",
      "        sampleInput [i] = 0\n",
      "    for i in range (ncells) :\n",
      "        sampleOutput [i] = 0\n",
      "    ntracks = int( uniform(min_ntracks, max_ntracks ) ) #should be a better model than flat\n",
      "# theta is the angle between the circle plane and xy plane. we randomly choose two points in the second and 4th layer and then fit a circle through these two points and also the coordinate origin\n",
      "# as y is fixed for each layer and z can be derived easily by y*tan(theta) , to specify a point in a layer we only need x of it\n",
      "    for track in range (ntracks) :\n",
      "        theta = uniform (theta_min,theta_max)\n",
      "        x[2] = uniform (-1*module_size/2.0,module_size/2.0)\n",
      "        x[4] = uniform (-1*module_size/2.0,module_size/2.0)\n",
      "        for i in range (4) :\n",
      "            y_prime[i+1] = y[i+1] / cos(theta)\n",
      "            z[i+1] = y[i+1] * tan(theta)\n",
      "        # center point of our circle\n",
      "        x_c = 0.5 * (((x[2]**2 + y_prime[2]**2) * y_prime[4]/y_prime[2] ) - x[4]**2 - y_prime[4]**2 )/ (x[2] * y_prime[4]/y_prime[2] - x[4])\n",
      "        y_c = 0.5 * (x[2]**2 + y_prime[2]**2 - 2 * x[2] * x_c) / y_prime[2]\n",
      "        R = sqrt(x_c**2 + y_c**2)\n",
      "        if R <= max_R and R >= min_R :\n",
      "            normalized_R = (R - min_R) / (max_R - min_R)\n",
      "# y_prime is the y component when we place our coordinate on the circle plane and as the layers are parallel, it would be y/cos(theta) for each layer\n",
      "            if x[2] > 0.5 * x[4] :\n",
      "                x[1] = x_c + sqrt(R**2 - (y_prime[1] - y_c)**2)\n",
      "                x[3] = x_c + sqrt(R**2 - (y_prime[3] - y_c)**2)\n",
      "            else :\n",
      "                x[1] = x_c - sqrt(R**2 - (y_prime[1] - y_c)**2)\n",
      "                x[3] = x_c - sqrt(R**2 - (y_prime[3] - y_c)**2)\n",
      "            acceptance = 1\n",
      "            x_edge = (-1) * module_size / 2.0\n",
      "            z_edge = (-1) * module_size / 2.0\n",
      "            for i in range (1,nlayers + 1) :\n",
      "                if x[i] > x_edge and x[i] < -1 * x_edge :\n",
      "                    continue\n",
      "                else :\n",
      "                    acceptance = 0\n",
      "            for layer in range (1,nlayers+1) :\n",
      "                # local indices on the module\n",
      "                index_hit1 = int( (x[i] - x_edge ) / module_size * module_cell )\n",
      "                index_hit2 = int( (z[i] - z_edge ) / module_size * module_cell )\n",
      "                # transform into the global index\n",
      "                hit = module_cell**2 * (layer - 1) + index_hit2 * module_cell + index_hit1\n",
      "                if acceptance == 1 :\n",
      "                    sampleInput[hit] = 1\n",
      "                    sampleOutput[hit] = normalized_R\n",
      "    ds.addSample(sampleInput,sampleOutput)"
     ],
     "language": "python",
     "metadata": {},
     "outputs": [],
     "prompt_number": 7
    },
    {
     "cell_type": "code",
     "collapsed": false,
     "input": [
      "# verification that the synthetic data makes sense\n"
     ],
     "language": "python",
     "metadata": {},
     "outputs": []
    },
    {
     "cell_type": "code",
     "collapsed": false,
     "input": [],
     "language": "python",
     "metadata": {},
     "outputs": []
    },
    {
     "cell_type": "code",
     "collapsed": false,
     "input": [
      "# we try to create some training samples and train on them and then check the mean error in some testing samples\n",
      "# It seems like if we train on each training sample separately for a while an then move on to another training sample instead of ...\n",
      "# ... training on the whole training samples simultaneously we would reduce both error and also total spent time\n",
      "error = 1\n",
      "for i in range (1) :\n",
      "    start = time.mktime(time.gmtime())\n",
      "    # training on training samples\n",
      "    for sample in range (ntraining) :\n",
      "        ds.clear()\n",
      "        sample_creater ()\n",
      "        for i in range (100) :\n",
      "            trainer.train()\n",
      "    errorsquare = 0\n",
      "    sample_sum_error = 0\n",
      "    error = 0\n",
      "    # testing on testing samples\n",
      "    for sample in range (1,ntesting) :\n",
      "        sample_creater ()\n",
      "        learningOutput = net.activate (sampleInput)\n",
      "        for i in range (ncells) :\n",
      "            errorsquare += (sampleOutput[i] - learningOutput[i])**2\n",
      "        sample_sum_error += sqrt(errorsquare)/ncells\n",
      "    error = sample_sum_error / ntesting\n",
      "    list_error.append (error)\n",
      "    print error\n",
      "    stop = time.mktime (time.gmtime())\n",
      "    spent.append (stop - start)\n",
      "# validating the learning\n",
      "for sample in range (nvalidating) :\n",
      "    sample_creater ()\n",
      "    learningOutput = net.activate (sampleInput)\n",
      "    for i in range (ncells) :\n",
      "        errorsquare += (sampleOutput[i] - learningOutput[i])**2\n",
      "    sample_sum_error += sqrt(errorsquare)/ncells\n",
      "error_validating = sample_sum_error / nvalidating\n",
      "print \"error\" , error_validating"
     ],
     "language": "python",
     "metadata": {},
     "outputs": [
      {
       "output_type": "stream",
       "stream": "stdout",
       "text": [
        "0.000919834586983\n",
        "0.000828903103765"
       ]
      },
      {
       "output_type": "stream",
       "stream": "stdout",
       "text": [
        "\n",
        "0.00084617055473"
       ]
      },
      {
       "output_type": "stream",
       "stream": "stdout",
       "text": [
        "\n",
        "0.000800742648207"
       ]
      },
      {
       "output_type": "stream",
       "stream": "stdout",
       "text": [
        "\n",
        "0.000879474917034"
       ]
      },
      {
       "output_type": "stream",
       "stream": "stdout",
       "text": [
        "\n",
        "0.00089172075989"
       ]
      },
      {
       "output_type": "stream",
       "stream": "stdout",
       "text": [
        "\n",
        "0.000907044697524"
       ]
      },
      {
       "output_type": "stream",
       "stream": "stdout",
       "text": [
        "\n",
        "0.000889541969968"
       ]
      },
      {
       "output_type": "stream",
       "stream": "stdout",
       "text": [
        "\n",
        "0.000788547014798"
       ]
      },
      {
       "output_type": "stream",
       "stream": "stdout",
       "text": [
        "\n",
        "error"
       ]
      },
      {
       "output_type": "stream",
       "stream": "stdout",
       "text": [
        " 0.00302983861534\n"
       ]
      }
     ],
     "prompt_number": 14
    },
    {
     "cell_type": "code",
     "collapsed": false,
     "input": [
      "trackbins = 10000\n",
      "track_quantity1 = []\n",
      "for i in range (trackbins + 1) :\n",
      "    track_quantity1.append(0)\n",
      "track_quantity2 = []\n",
      "for i in range (trackbins + 1) :\n",
      "    track_quantity2.append(0)"
     ],
     "language": "python",
     "metadata": {},
     "outputs": [],
     "prompt_number": 9
    },
    {
     "cell_type": "code",
     "collapsed": false,
     "input": [
      "def tracking1 (vector) :\n",
      "    for i in range (trackbins) :\n",
      "        track_quantity1[i] = 0\n",
      "    for i in range (len(vector)) :\n",
      "        if int((vector[i]) * trackbins) > 1 :\n",
      "            track_quantity1[int((vector[i]) * trackbins)] += 1\n",
      "def tracking2 (vector) :\n",
      "    for i in range (trackbins) :\n",
      "        track_quantity2[i] = 0\n",
      "    for i in range (len(vector)) :\n",
      "        if int((vector[i]) * trackbins) > 1 :\n",
      "            track_quantity2[int((vector[i]) * trackbins)] += 1"
     ],
     "language": "python",
     "metadata": {},
     "outputs": [],
     "prompt_number": 10
    },
    {
     "cell_type": "code",
     "collapsed": false,
     "input": [
      "import matplotlib.pyplot as plt"
     ],
     "language": "python",
     "metadata": {},
     "outputs": [],
     "prompt_number": 11
    },
    {
     "cell_type": "code",
     "collapsed": false,
     "input": [
      "tracking1(sampleOutput)\n",
      "plt.plot([val for val in track_quantity1 if val < 10])"
     ],
     "language": "python",
     "metadata": {},
     "outputs": [
      {
       "metadata": {},
       "output_type": "pyout",
       "prompt_number": 15,
       "text": [
        "[<matplotlib.lines.Line2D at 0x7f35670047d0>]"
       ]
      },
      {
       "metadata": {},
       "output_type": "display_data",
       "png": "[encoded data removed]",
       "text": [
        "<matplotlib.figure.Figure at 0x7f35670ebe10>"
       ]
      }
     ],
     "prompt_number": 15
    },
    {
     "cell_type": "code",
     "collapsed": false,
     "input": [
      "tracking2(learningOutput)\n",
      "plt.plot([val for val in track_quantity2 if val < 10])"
     ],
     "language": "python",
     "metadata": {},
     "outputs": [
      {
       "metadata": {},
       "output_type": "pyout",
       "prompt_number": 16,
       "text": [
        "[<matplotlib.lines.Line2D at 0x7f3566fb5dd0>]"
       ]
      },
      {
       "metadata": {},
       "output_type": "display_data",
       "png": "[encoded data removed]",
       "text": [
        "<matplotlib.figure.Figure at 0x7f3566fc3950>"
       ]
      }
     ],
     "prompt_number": 16
    },
    {
     "cell_type": "code",
     "collapsed": false,
     "input": [
      "track_quantity3 = []\n",
      "for i in range (trackbins + 1) :\n",
      "    track_quantity3.append (0)\n",
      "for i in range (trackbins) :\n",
      "    track_quantity3[i]  = track_quantity1[i] - track_quantity2[i]\n",
      "plt.plot([val for val in track_quantity3 if val < 10 and val > -10])"
     ],
     "language": "python",
     "metadata": {},
     "outputs": [
      {
       "metadata": {},
       "output_type": "pyout",
       "prompt_number": 17,
       "text": [
        "[<matplotlib.lines.Line2D at 0x7f3566ef0590>]"
       ]
      },
      {
       "metadata": {},
       "output_type": "display_data",
       "png": "[encoded data removed]",
       "text": [
        "<matplotlib.figure.Figure at 0x7f3567010350>"
       ]
      }
     ],
     "prompt_number": 17
    },
    {
     "cell_type": "code",
     "collapsed": false,
     "input": [
      "plt.plot(sampleInput)"
     ],
     "language": "python",
     "metadata": {},
     "outputs": [
      {
       "metadata": {},
       "output_type": "pyout",
       "prompt_number": 18,
       "text": [
        "[<matplotlib.lines.Line2D at 0x7f3566e1d8d0>]"
       ]
      },
      {
       "metadata": {},
       "output_type": "display_data",
       "png": "[encoded data removed]",
       "text": [
        "<matplotlib.figure.Figure at 0x7f35670f52d0>"
       ]
      }
     ],
     "prompt_number": 18
    },
    {
     "cell_type": "code",
     "collapsed": false,
     "input": [
      "plt.plot(sampleOutput)"
     ],
     "language": "python",
     "metadata": {},
     "outputs": [
      {
       "metadata": {},
       "output_type": "pyout",
       "prompt_number": 19,
       "text": [
        "[<matplotlib.lines.Line2D at 0x7f3566d4ef10>]"
       ]
      },
      {
       "metadata": {},
       "output_type": "display_data",
       "png": "[encoded data removed]",
       "text": [
        "<matplotlib.figure.Figure at 0x7f3566dc9850>"
       ]
      }
     ],
     "prompt_number": 19
    },
    {
     "cell_type": "code",
     "collapsed": false,
     "input": [
      "plt.plot(learningOutput)"
     ],
     "language": "python",
     "metadata": {},
     "outputs": [
      {
       "metadata": {},
       "output_type": "pyout",
       "prompt_number": 20,
       "text": [
        "[<matplotlib.lines.Line2D at 0x7f3566c8f590>]"
       ]
      },
      {
       "metadata": {},
       "output_type": "display_data",
       "png": "[encoded data removed]",
       "text": [
        "<matplotlib.figure.Figure at 0x7f3566d72790>"
       ]
      }
     ],
     "prompt_number": 20
    },
    {
     "cell_type": "code",
     "collapsed": false,
     "input": [
      "for i in range (0,100) :\n",
      "    plt.plot (i+1,list_error[i],'bo')\n",
      "    if list_error[i+1] != 0 :\n",
      "        continue"
     ],
     "language": "python",
     "metadata": {},
     "outputs": [
      {
       "ename": "IndexError",
       "evalue": "list index out of range",
       "output_type": "pyerr",
       "traceback": [
        "\u001b[1;31m---------------------------------------------------------------------------\u001b[0m\n\u001b[1;31mIndexError\u001b[0m                                Traceback (most recent call last)",
        "\u001b[1;32m<ipython-input-18-dca49d24361f>\u001b[0m in \u001b[0;36m<module>\u001b[1;34m()\u001b[0m\n\u001b[0;32m      1\u001b[0m \u001b[1;32mfor\u001b[0m \u001b[0mi\u001b[0m \u001b[1;32min\u001b[0m \u001b[0mrange\u001b[0m \u001b[1;33m(\u001b[0m\u001b[1;36m0\u001b[0m\u001b[1;33m,\u001b[0m\u001b[1;36m100\u001b[0m\u001b[1;33m)\u001b[0m \u001b[1;33m:\u001b[0m\u001b[1;33m\u001b[0m\u001b[0m\n\u001b[0;32m      2\u001b[0m     \u001b[0mplt\u001b[0m\u001b[1;33m.\u001b[0m\u001b[0mplot\u001b[0m \u001b[1;33m(\u001b[0m\u001b[0mi\u001b[0m\u001b[1;33m+\u001b[0m\u001b[1;36m1\u001b[0m\u001b[1;33m,\u001b[0m\u001b[0mlist_error\u001b[0m\u001b[1;33m[\u001b[0m\u001b[0mi\u001b[0m\u001b[1;33m]\u001b[0m\u001b[1;33m,\u001b[0m\u001b[1;34m'bo'\u001b[0m\u001b[1;33m)\u001b[0m\u001b[1;33m\u001b[0m\u001b[0m\n\u001b[1;32m----> 3\u001b[1;33m     \u001b[1;32mif\u001b[0m \u001b[0mlist_error\u001b[0m\u001b[1;33m[\u001b[0m\u001b[0mi\u001b[0m\u001b[1;33m+\u001b[0m\u001b[1;36m1\u001b[0m\u001b[1;33m]\u001b[0m \u001b[1;33m!=\u001b[0m \u001b[1;36m0\u001b[0m \u001b[1;33m:\u001b[0m\u001b[1;33m\u001b[0m\u001b[0m\n\u001b[0m\u001b[0;32m      4\u001b[0m         \u001b[1;32mcontinue\u001b[0m\u001b[1;33m\u001b[0m\u001b[0m\n",
        "\u001b[1;31mIndexError\u001b[0m: list index out of range"
       ]
      },
      {
       "metadata": {},
       "output_type": "display_data",
       "png": "[encoded data removed]",
       "text": [
        "<matplotlib.figure.Figure at 0x7f78a732b790>"
       ]
      }
     ],
     "prompt_number": 18
    },
    {
     "cell_type": "code",
     "collapsed": false,
     "input": [
      "for i in range (0,100) :\n",
      "    plt.plot (i+1,spent[i],'bo')\n",
      "    if spent[i+1] != 0 :\n",
      "        continue"
     ],
     "language": "python",
     "metadata": {},
     "outputs": [
      {
       "ename": "IndexError",
       "evalue": "list index out of range",
       "output_type": "pyerr",
       "traceback": [
        "\u001b[1;31m---------------------------------------------------------------------------\u001b[0m\n\u001b[1;31mIndexError\u001b[0m                                Traceback (most recent call last)",
        "\u001b[1;32m<ipython-input-19-bd0332451e2d>\u001b[0m in \u001b[0;36m<module>\u001b[1;34m()\u001b[0m\n\u001b[0;32m      1\u001b[0m \u001b[1;32mfor\u001b[0m \u001b[0mi\u001b[0m \u001b[1;32min\u001b[0m \u001b[0mrange\u001b[0m \u001b[1;33m(\u001b[0m\u001b[1;36m0\u001b[0m\u001b[1;33m,\u001b[0m\u001b[1;36m100\u001b[0m\u001b[1;33m)\u001b[0m \u001b[1;33m:\u001b[0m\u001b[1;33m\u001b[0m\u001b[0m\n\u001b[0;32m      2\u001b[0m     \u001b[0mplt\u001b[0m\u001b[1;33m.\u001b[0m\u001b[0mplot\u001b[0m \u001b[1;33m(\u001b[0m\u001b[0mi\u001b[0m\u001b[1;33m+\u001b[0m\u001b[1;36m1\u001b[0m\u001b[1;33m,\u001b[0m\u001b[0mspent\u001b[0m\u001b[1;33m[\u001b[0m\u001b[0mi\u001b[0m\u001b[1;33m]\u001b[0m\u001b[1;33m,\u001b[0m\u001b[1;34m'bo'\u001b[0m\u001b[1;33m)\u001b[0m\u001b[1;33m\u001b[0m\u001b[0m\n\u001b[1;32m----> 3\u001b[1;33m     \u001b[1;32mif\u001b[0m \u001b[0mspent\u001b[0m\u001b[1;33m[\u001b[0m\u001b[0mi\u001b[0m\u001b[1;33m+\u001b[0m\u001b[1;36m1\u001b[0m\u001b[1;33m]\u001b[0m \u001b[1;33m!=\u001b[0m \u001b[1;36m0\u001b[0m \u001b[1;33m:\u001b[0m\u001b[1;33m\u001b[0m\u001b[0m\n\u001b[0m\u001b[0;32m      4\u001b[0m         \u001b[1;32mcontinue\u001b[0m\u001b[1;33m\u001b[0m\u001b[0m\n",
        "\u001b[1;31mIndexError\u001b[0m: list index out of range"
       ]
      },
      {
       "metadata": {},
       "output_type": "display_data",
       "png": "[encoded data removed]",
       "text": [
        "<matplotlib.figure.Figure at 0x7f78a73033d0>"
       ]
      }
     ],
     "prompt_number": 19
    },
    {
     "cell_type": "code",
     "collapsed": false,
     "input": [
      "#plt.plot(track_quantity (sampleOutput))"
     ],
     "language": "python",
     "metadata": {},
     "outputs": [],
     "prompt_number": 31
    },
    {
     "cell_type": "code",
     "collapsed": false,
     "input": [
      "plt.hist([val for val in sampleOutput if val!=1], bins=10000)"
     ],
     "language": "python",
     "metadata": {},
     "outputs": [
      {
       "metadata": {},
       "output_type": "pyout",
       "prompt_number": 13,
       "text": [
        "(array([ 1.,  0.,  0., ...,  0.,  0.,  1.]),\n",
        " array([ 1.01040119,  1.01049955,  1.01059792, ...,  1.99385973,\n",
        "         1.9939581 ,  1.99405646]),\n",
        " <a list of 10000 Patch objects>)"
       ]
      },
      {
       "metadata": {},
       "output_type": "display_data",
       "png": "[encoded data removed]",
       "text": [
        "<matplotlib.figure.Figure at 0x7f1414578dd0>"
       ]
      }
     ],
     "prompt_number": 13
    },
    {
     "cell_type": "code",
     "collapsed": false,
     "input": [
      "plt.hist([val for val in learningOutput if val> 1.15], bins=10000)"
     ],
     "language": "python",
     "metadata": {},
     "outputs": [
      {
       "metadata": {},
       "output_type": "pyout",
       "prompt_number": 14,
       "text": [
        "(array([ 1.,  0.,  0., ...,  0.,  0.,  1.]),\n",
        " array([ 1.15278845,  1.15280657,  1.15282469, ...,  1.33391409,\n",
        "         1.33393221,  1.33395032]),\n",
        " <a list of 10000 Patch objects>)"
       ]
      },
      {
       "metadata": {},
       "output_type": "display_data",
       "png": "[encoded data removed]",
       "text": [
        "<matplotlib.figure.Figure at 0x7f141440cb10>"
       ]
      }
     ],
     "prompt_number": 14
    },
    {
     "cell_type": "code",
     "collapsed": false,
     "input": [
      "x[2] = uniform (-1*module_size/2.0,module_size/2.0)\n",
      "x[4] = uniform (-1*module_size/2.0,module_size/2.0)\n",
      "for i in range (4) :\n",
      "    y_prime[i+1] = y[2] / cos(theta)\n",
      "x_c = 0.5 * ((x[4]**2 + y[4]**2) * (y[4]/y[2] - 1) ) / (x[2] * y[4]/y[2] - x[4])\n",
      "y_c = 0.5 * (x[2]**2 + y[2]**2 - 2 * x[2] * x_c) / y[2]\n",
      "R = sqrt(x_c**2 + y_c**2)\n",
      "if R <= max_R :\n",
      "    normalized_R = R / max_R\n",
      "    if x[2] > 0.5 * x[4] :\n",
      "        x[1] = x_c + sqrt(R**2 - (y_prime[1] - y_c)**2)\n",
      "        x[3] = x_c + sqrt(R**2 - (y_prime[3] - y_c)**2)\n",
      "    else :\n",
      "        x[1] = x_c - sqrt(R**2 - (y_prime[1] - y_c)**2)\n",
      "        x[3] = x_c - sqrt(R**2 - (y_prime[3] - y_c)**2)\n",
      "    accept = 1\n",
      "    for i in range (1,nlayers+1) :\n",
      "        if x[i] > x_edge and x[i] < -1 * x_edge :\n",
      "            continue\n",
      "        else :\n",
      "            accept = 0\n",
      "    for i in range (1,nlayers+1) :\n",
      "        x_edge = (-1) * module_size / 2.0\n",
      "        z_edge = (-1) * module_size / 2.0\n",
      "        index_hit1 = int( (x[i] - x_edge ) / module_size * module_cell )\n",
      "        index_hit2 = int( (z[i] - z_edge ) / module_size * module_cell )\n",
      "        hit = module_cell**2 * (layer - 1) + lindex_hit2 * module_cell + lindex_hit1\n",
      "        if accept == 1 :\n",
      "            sampleInput[hit] = 2\n",
      "            sampleOutput[hit] = 1 + ((track + 1) / float(ntracks))"
     ],
     "language": "python",
     "metadata": {},
     "outputs": []
    },
    {
     "cell_type": "code",
     "collapsed": false,
     "input": [],
     "language": "python",
     "metadata": {},
     "outputs": []
    }
   ],
   "metadata": {}
  }
 ]
}