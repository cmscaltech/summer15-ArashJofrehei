{
 "metadata": {
  "name": "",
  "signature": "sha256:e18a2ebaec9cc1825e19b8824456e09fcbff853883606f63e66020408054861a"
 },
 "nbformat": 3,
 "nbformat_minor": 0,
 "worksheets": [
  {
   "cells": [
    {
     "cell_type": "code",
     "collapsed": false,
     "input": [
      "import matplotlib.pyplot as plt"
     ],
     "language": "python",
     "metadata": {},
     "outputs": [],
     "prompt_number": 2
    },
    {
     "cell_type": "code",
     "collapsed": false,
     "input": [
      "a=[56.37652799\t,\n",
      "26.50284953\t,\n",
      "21.22344263\t,\n",
      "18.99703965\t,\n",
      "17.99667627\t,\n",
      "17.52427034\t,\n",
      "17.11076126\t,\n",
      "16.76568389\t,\n",
      "16.5616665\t,\n",
      "17.05587842\t,\n",
      "16.75030589\t,\n",
      "16.62311517\t,\n",
      "16.5343564\t,\n",
      "16.41675644\t,\n",
      "16.13766328\t,\n",
      "15.87609947\t,\n",
      "15.78644849\t,\n",
      "15.69276117\t,\n",
      "15.62304515\t,\n",
      "15.69890231\t,\n",
      "15.65262862\t,\n",
      "15.30822739\t,\n",
      "15.21299314\t,\n",
      "15.1703516\t,\n",
      "15.12054447\t,\n",
      "15.04762657\t,\n",
      "15.00885375\t,\n",
      "14.99648578\t,\n",
      "14.96515144\t,\n",
      "14.92903195\t,\n",
      "14.89742287\t,\n",
      "14.88706842\t,\n",
      "14.86802287\t,\n",
      "14.84890748\t,\n",
      "14.82941769\t,\n",
      "14.82260041\t,\n",
      "14.7941988\t,\n",
      "14.76487983\t,\n",
      "14.73475713\t,\n",
      "14.74842615\t,\n",
      "14.71984014\t,\n",
      "14.70862888\t,\n",
      "14.67955764\t,\n",
      "14.66052886\t,\n",
      "14.65645246\t,\n",
      "14.64526728\t,\n",
      "14.63954803\t,\n",
      "14.63922951\t,\n",
      "14.61970899\t,\n",
      "14.61867802\t,\n",
      "14.60617036\t,\n",
      "14.60473146\t,\n",
      "14.59912863\t,\n",
      "14.59183544\t,\n",
      "14.58123419\t,\n",
      "14.57355451\t,\n",
      "14.56318516\t,\n",
      "14.5634152\t,\n",
      "14.56126105\t,\n",
      "14.54492006\t,\n",
      "14.55139276\t,\n",
      "14.54505324\t,\n",
      "14.52767383\t,\n",
      "14.53083102\t,\n",
      "14.53315653\t,\n",
      "14.52581491\t,\n",
      "14.52021208\t,\n",
      "14.51418363\t,\n",
      "14.50713072\t,\n",
      "14.50432278\t,\n",
      "14.4992657\t,\n",
      "14.49040603\t,\n",
      "14.49500211\t,\n",
      "14.4857103\t,\n",
      "14.48697224\t,\n",
      "14.47047759\t,\n",
      "14.46310431\t,\n",
      "15.22800792\t,\n",
      "15.20654187\t,\n",
      "15.15772473\t,\n",
      "15.13998862\t,\n",
      "15.12921974\t,\n",
      "15.11016488\t,\n",
      "15.08894656\t,\n",
      "]"
     ],
     "language": "python",
     "metadata": {},
     "outputs": [],
     "prompt_number": 5
    },
    {
     "cell_type": "code",
     "collapsed": false,
     "input": [
      "plt.plot(a)"
     ],
     "language": "python",
     "metadata": {},
     "outputs": [
      {
       "metadata": {},
       "output_type": "pyout",
       "prompt_number": 6,
       "text": [
        "[<matplotlib.lines.Line2D at 0x7fafdc12ed10>]"
       ]
      },
      {
       "metadata": {},
       "output_type": "display_data",
       "png": "[encoded data removed]",
       "text": [
        "<matplotlib.figure.Figure at 0x7fafdc1b20d0>"
       ]
      }
     ],
     "prompt_number": 6
    }
   ],
   "metadata": {}
  }
 ]
}