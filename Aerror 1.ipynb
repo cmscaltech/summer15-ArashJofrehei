{
 "metadata": {
  "name": "",
  "signature": "sha256:06b6a9aeacf4fda422bbdd43c567c0309e3cd95e4b05f02d2f3d5e446f40f8a6"
 },
 "nbformat": 3,
 "nbformat_minor": 0,
 "worksheets": [
  {
   "cells": [
    {
     "cell_type": "raw",
     "metadata": {},
     "source": [
      "Hi reader"
     ]
    },
    {
     "cell_type": "code",
     "collapsed": false,
     "input": [
      "import time\n",
      "import numpy as np"
     ],
     "language": "python",
     "metadata": {},
     "outputs": [],
     "prompt_number": 1
    },
    {
     "cell_type": "code",
     "collapsed": false,
     "input": [
      "def similarity (exptrack,nntrack) :\n",
      "    sim_counter = 0\n",
      "    for exphit in range (len(exptrack)) :\n",
      "        for nnhit in range (len(nntrack)) :\n",
      "            if exptrack[exphit] == nntrack[nnhit] :\n",
      "                sim_counter += 1\n",
      "    return sim_counter\n",
      "def max_finder (listt) :\n",
      "    m = 0\n",
      "    for i in range (len(listt)) :\n",
      "        if listt[i] > listt[m] :\n",
      "            m = i\n",
      "    return m\n",
      "def compare (out,learn,n = 4,m = 4,efficiency = 1) : # n is nlayers , m is ntracks\n",
      "    counter = 0\n",
      "    output = np.zeros(len(out) , dtype=float32)\n",
      "    Otracks = np.zeros((m,n),dtype = float32)\n",
      "    Ltracks = np.zeros((m,n),dtype = float32)\n",
      "    for i in range (len(out)) :\n",
      "        output[i] = out[i]\n",
      "    learned = learn\n",
      "    for track in range (m) :\n",
      "        for layer in range (n) :\n",
      "            start = int(float(layer) * len(output) / n)\n",
      "            end = int(float(layer+1) * len(output) / n)\n",
      "            subOutput = output[start:end]\n",
      "            subLearned = learned[start:end]\n",
      "            #if max_finder(subOutput) == max_finder(subLearned) :\n",
      "                #subcounter += 1\n",
      "            Otracks[track][layer] = max_finder(subOutput)+start\n",
      "            Ltracks[track][layer] = max_finder(subLearned)+start\n",
      "            output[max_finder(subOutput)+start] = 0\n",
      "            learned[max_finder(subLearned)+start] = 0\n",
      "    for track in range (m) :\n",
      "        if max([similarity(Otracks[track],Ltracks[i]) for i in range(m)]) >= efficiency * n :\n",
      "            counter += 1\n",
      "    return counter"
     ],
     "language": "python",
     "metadata": {},
     "outputs": [],
     "prompt_number": 2
    },
    {
     "cell_type": "code",
     "collapsed": false,
     "input": [
      "o = [1,0,0.25,0.75,0.5,0,1,0,0.25,0.75,0.5,0,1,0,0.25,0.75,0.5,0,1,0,0.25,0.75,0.5,0]\n",
      "l = [0.95,0,0.255,0.5,0.755,0.01,0.95,0,0.255,0.5,0.755,0.01,0.95,0,0.255,0.5,0.755,0.01,0.95,0,0.255,0.5,0.755,0.01]\n",
      "counter = np.zeros(5 , dtype=float32)\n",
      "#start = time.mktime(time.gmtime())\n",
      "for i in range (1) :\n",
      "    n_good_tracks = compare(o,l,4,4,1)\n",
      "    #if n_good_tracks == 4 :\n",
      "        #print i\n",
      "    counter[n_good_tracks] += 1\n",
      "#stop = time.mktime (time.gmtime())\n",
      "#spent.append (stop - start)\n",
      "#print \"\\t\" , stop - start\n",
      "print counter"
     ],
     "language": "python",
     "metadata": {},
     "outputs": [
      {
       "output_type": "stream",
       "stream": "stdout",
       "text": [
        "[ 0.  0.  0.  0.  1.]\n"
       ]
      }
     ],
     "prompt_number": 3
    }
   ],
   "metadata": {}
  }
 ]
}