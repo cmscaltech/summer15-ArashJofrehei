{
 "metadata": {
  "name": "",
  "signature": "sha256:01cb2d5a0cc21ba9b53d7755955695f974cc0c0f54732d93ed72b01f711277bb"
 },
 "nbformat": 3,
 "nbformat_minor": 0,
 "worksheets": [
  {
   "cells": [
    {
     "cell_type": "code",
     "collapsed": false,
     "input": [
      "import pybrain"
     ],
     "language": "python",
     "metadata": {},
     "outputs": [],
     "prompt_number": 1
    },
    {
     "cell_type": "code",
     "collapsed": false,
     "input": [
      "from pybrain.tools.shortcuts import buildNetwork"
     ],
     "language": "python",
     "metadata": {},
     "outputs": [],
     "prompt_number": 2
    },
    {
     "cell_type": "code",
     "collapsed": false,
     "input": [
      "from pybrain.supervised.trainers import BackpropTrainer"
     ],
     "language": "python",
     "metadata": {},
     "outputs": [],
     "prompt_number": 3
    },
    {
     "cell_type": "code",
     "collapsed": false,
     "input": [
      "from pybrain.datasets import SupervisedDataSet"
     ],
     "language": "python",
     "metadata": {},
     "outputs": [],
     "prompt_number": 4
    },
    {
     "cell_type": "code",
     "collapsed": false,
     "input": [
      "nlayers=4\n",
      "module_size=20 #cm\n",
      "module_cell=100 #per edge\n",
      "distance_between_layers=5 #cm\n",
      "ncells=module_cell*module_cell*nlayers\n",
      "nhidden=10\n",
      "ds = SupervisedDataSet(ncells, ncells)\n",
      "net = buildNetwork(ncells, nhidden, ncells)"
     ],
     "language": "python",
     "metadata": {},
     "outputs": [],
     "prompt_number": 6
    },
    {
     "cell_type": "code",
     "collapsed": false,
     "input": [
      "sampleInput = []\n",
      "for i in range (ncells) :\n",
      "    sampleInput.append (0)\n",
      "sampleOutput = []\n",
      "for i in range (ncells) :\n",
      "    sampleOutput.append (0)"
     ],
     "language": "python",
     "metadata": {},
     "outputs": [],
     "prompt_number": 7
    },
    {
     "cell_type": "code",
     "collapsed": false,
     "input": [
      "nsamples=1000\n",
      "min_ntracks=200\n",
      "max_ntracks=1500\n",
      "maximum_hight = nlayers * distance_between_layers\n",
      "min_R = 0.5 * sqrt((maximum_hight)**2 + 0.25 * module_size**2)\n",
      "max_R= 0.5 *((maximum_hight)**2 + 0.25 * module_size**2) / (maximum_hight)\n",
      "print min_R , max_R\n",
      "for sample in range (1,nsamples) :\n",
      "    for i in range (ncells) :\n",
      "        sampleInput [i] = 0\n",
      "    for i in range (ncells) :\n",
      "        sampleOutput [i] = 0\n",
      "    R = [] ## analoguous to pT\n",
      "    ntracks = int( uniform(min_ntracks, max_ntracks ) ) #should be a better model than flat\n",
      "    #draw R within acceptnace range\n",
      "    for i in range (ntracks) :\n",
      "        R.append (uniform (min_R, max_R)) \n",
      "        \n",
      "    R = sorted (R)\n",
      "    for track in range (ntracks) :\n",
      "        r = R[track]\n",
      "        theta = uniform (-0.46,0.46)\n",
      "        charge = 1 #-1 or 1 at random\n",
      "        if uniform(0,1) < 0.5 :\n",
      "            charge = -1\n",
      "        for layer in range (1,nlayers) :\n",
      "            ## local efficiency\n",
      "            if uniform(0,1) > 0.01: \n",
      "                continue\n",
      "            ## compute 3d position in cm\n",
      "            y = distance_between_layers * layer\n",
      "            z = int(y * tan(theta))\n",
      "            x = charge * int(sqrt(r*r - (y/cos(theta) - r)**2))\n",
      "            ## local indices on the module\n",
      "            x_edge = (-1) * module_size / 2.0\n",
      "            z_edge = (-1) * module_size / 2.0\n",
      "            lindex_hit1= int( (x - x_edge ) / module_size * module_cell )\n",
      "            lindex_hit2= int( (z - z_edge ) / module_size * module_cell )\n",
      "            ## transform into the global index\n",
      "            hit = module_cell**2 * (layer - 1) + lindex_hit2 * module_cell + lindex_hit1\n",
      "            sampleInput[hit] = 1\n",
      "            sampleOutput[hit] = (track + 1) /float(ntracks)\n",
      "    ds.addSample(sampleInput,sampleOutput)"
     ],
     "language": "python",
     "metadata": {},
     "outputs": [
      {
       "output_type": "stream",
       "stream": "stdout",
       "text": [
        "11.1803398875 12.5\n"
       ]
      }
     ],
     "prompt_number": 8
    },
    {
     "cell_type": "code",
     "collapsed": false,
     "input": [
      "trainer = BackpropTrainer(net, ds)"
     ],
     "language": "python",
     "metadata": {},
     "outputs": [],
     "prompt_number": 15
    },
    {
     "cell_type": "code",
     "collapsed": false,
     "input": [
      "import time\n",
      "start = time.gmtime()\n",
      "trainer.train()\n",
      "stop = time.gmtime()\n",
      "spend = stop - start\n"
     ],
     "language": "python",
     "metadata": {},
     "outputs": [
      {
       "output_type": "stream",
       "stream": "stdout",
       "text": [
        "Total error: 0.000464063413495\n"
       ]
      },
      {
       "metadata": {},
       "output_type": "pyout",
       "prompt_number": 25,
       "text": [
        "0.00046406341349515778"
       ]
      }
     ],
     "prompt_number": 25
    },
    {
     "cell_type": "code",
     "collapsed": false,
     "input": [
      "learningOutput = net.activate (sampleInput)\n",
      "errorsquare = 0\n",
      "for i in range (ncells) :\n",
      "    errorsquare += (sampleOutput[i] - learningOutput[i])**2\n",
      "error = sqrt(errorsquare)/ncells\n",
      "print error"
     ],
     "language": "python",
     "metadata": {},
     "outputs": [
      {
       "output_type": "stream",
       "stream": "stdout",
       "text": [
        "0.000688621203522\n"
       ]
      }
     ],
     "prompt_number": 21
    },
    {
     "cell_type": "markdown",
     "metadata": {},
     "source": [
      "create new data, compute expected output, compare with NN output"
     ]
    },
    {
     "cell_type": "code",
     "collapsed": false,
     "input": [],
     "language": "python",
     "metadata": {},
     "outputs": [],
     "prompt_number": 24
    },
    {
     "cell_type": "code",
     "collapsed": false,
     "input": [
      "import matplotlib.pyplot as plt"
     ],
     "language": "python",
     "metadata": {},
     "outputs": [],
     "prompt_number": 26
    },
    {
     "cell_type": "code",
     "collapsed": false,
     "input": [
      "plt.plot(sampleInput)"
     ],
     "language": "python",
     "metadata": {},
     "outputs": [
      {
       "metadata": {},
       "output_type": "pyout",
       "prompt_number": 27,
       "text": [
        "[<matplotlib.lines.Line2D at 0x7fca6136e9d0>]"
       ]
      },
      {
       "metadata": {},
       "output_type": "display_data",
       "png": "[encoded data removed]",
       "text": [
        "<matplotlib.figure.Figure at 0x7fca61779710>"
       ]
      }
     ],
     "prompt_number": 27
    },
    {
     "cell_type": "code",
     "collapsed": false,
     "input": [
      "plt.hist(learningOutput, bins=100)"
     ],
     "language": "python",
     "metadata": {},
     "outputs": [
      {
       "metadata": {},
       "output_type": "pyout",
       "prompt_number": 28,
       "text": [
        "(array([  2.00000000e+00,   2.00000000e+00,   4.00000000e+00,\n",
        "          4.00000000e+00,   9.00000000e+00,   9.00000000e+00,\n",
        "          1.00000000e+01,   1.80000000e+01,   2.80000000e+01,\n",
        "          4.00000000e+01,   5.10000000e+01,   6.50000000e+01,\n",
        "          8.50000000e+01,   1.17000000e+02,   1.53000000e+02,\n",
        "          2.05000000e+02,   2.61000000e+02,   3.09000000e+02,\n",
        "          4.14000000e+02,   4.85000000e+02,   6.37000000e+02,\n",
        "          6.94000000e+02,   7.99000000e+02,   9.39000000e+02,\n",
        "          1.13200000e+03,   1.21000000e+03,   1.40500000e+03,\n",
        "          1.48700000e+03,   1.51800000e+03,   1.67700000e+03,\n",
        "          1.84200000e+03,   1.77300000e+03,   1.93600000e+03,\n",
        "          1.81700000e+03,   1.83400000e+03,   1.76500000e+03,\n",
        "          1.80500000e+03,   1.70800000e+03,   1.61200000e+03,\n",
        "          1.38800000e+03,   1.33400000e+03,   1.14500000e+03,\n",
        "          1.05100000e+03,   9.07000000e+02,   7.56000000e+02,\n",
        "          6.84000000e+02,   6.23000000e+02,   4.52000000e+02,\n",
        "          4.20000000e+02,   3.43000000e+02,   2.25000000e+02,\n",
        "          1.78000000e+02,   1.49000000e+02,   1.02000000e+02,\n",
        "          7.80000000e+01,   6.50000000e+01,   4.20000000e+01,\n",
        "          4.00000000e+01,   2.30000000e+01,   2.40000000e+01,\n",
        "          1.10000000e+01,   7.00000000e+00,   4.00000000e+00,\n",
        "          9.00000000e+00,   7.00000000e+00,   3.00000000e+00,\n",
        "          2.00000000e+00,   3.00000000e+00,   5.00000000e+00,\n",
        "          4.00000000e+00,   2.00000000e+00,   0.00000000e+00,\n",
        "          2.00000000e+00,   1.00000000e+00,   6.00000000e+00,\n",
        "          3.00000000e+00,   3.00000000e+00,   1.00000000e+00,\n",
        "          1.00000000e+00,   4.00000000e+00,   2.00000000e+00,\n",
        "          7.00000000e+00,   0.00000000e+00,   1.00000000e+00,\n",
        "          2.00000000e+00,   5.00000000e+00,   1.00000000e+00,\n",
        "          3.00000000e+00,   2.00000000e+00,   3.00000000e+00,\n",
        "          2.00000000e+00,   1.00000000e+00,   1.00000000e+00,\n",
        "          0.00000000e+00,   1.00000000e+00,   0.00000000e+00,\n",
        "          0.00000000e+00,   0.00000000e+00,   0.00000000e+00,\n",
        "          1.00000000e+00]),\n",
        " array([-0.53998299, -0.52377066, -0.50755833, -0.49134599, -0.47513366,\n",
        "        -0.45892133, -0.442709  , -0.42649667, -0.41028433, -0.394072  ,\n",
        "        -0.37785967, -0.36164734, -0.345435  , -0.32922267, -0.31301034,\n",
        "        -0.29679801, -0.28058568, -0.26437334, -0.24816101, -0.23194868,\n",
        "        -0.21573635, -0.19952402, -0.18331168, -0.16709935, -0.15088702,\n",
        "        -0.13467469, -0.11846236, -0.10225002, -0.08603769, -0.06982536,\n",
        "        -0.05361303, -0.0374007 , -0.02118836, -0.00497603,  0.0112363 ,\n",
        "         0.02744863,  0.04366096,  0.0598733 ,  0.07608563,  0.09229796,\n",
        "         0.10851029,  0.12472262,  0.14093496,  0.15714729,  0.17335962,\n",
        "         0.18957195,  0.20578428,  0.22199662,  0.23820895,  0.25442128,\n",
        "         0.27063361,  0.28684595,  0.30305828,  0.31927061,  0.33548294,\n",
        "         0.35169527,  0.36790761,  0.38411994,  0.40033227,  0.4165446 ,\n",
        "         0.43275693,  0.44896927,  0.4651816 ,  0.48139393,  0.49760626,\n",
        "         0.51381859,  0.53003093,  0.54624326,  0.56245559,  0.57866792,\n",
        "         0.59488025,  0.61109259,  0.62730492,  0.64351725,  0.65972958,\n",
        "         0.67594191,  0.69215425,  0.70836658,  0.72457891,  0.74079124,\n",
        "         0.75700357,  0.77321591,  0.78942824,  0.80564057,  0.8218529 ,\n",
        "         0.83806523,  0.85427757,  0.8704899 ,  0.88670223,  0.90291456,\n",
        "         0.9191269 ,  0.93533923,  0.95155156,  0.96776389,  0.98397622,\n",
        "         1.00018856,  1.01640089,  1.03261322,  1.04882555,  1.06503788,\n",
        "         1.08125022]),\n",
        " <a list of 100 Patch objects>)"
       ]
      },
      {
       "metadata": {},
       "output_type": "display_data",
       "png": "[encoded data removed]",
       "text": [
        "<matplotlib.figure.Figure at 0x7fca6139e150>"
       ]
      }
     ],
     "prompt_number": 28
    },
    {
     "cell_type": "code",
     "collapsed": false,
     "input": [
      "plt.hist([val for val in sampleOutput if val!=0], bins=100)"
     ],
     "language": "python",
     "metadata": {},
     "outputs": [
      {
       "metadata": {},
       "output_type": "pyout",
       "prompt_number": 30,
       "text": [
        "(array([  3.,   2.,   1.,   0.,   1.,   0.,   0.,   1.,   0.,   2.,   0.,\n",
        "          1.,   0.,   0.,   0.,   0.,   0.,   1.,   2.,   1.,   4.,   2.,\n",
        "          3.,   0.,   2.,   2.,   0.,   2.,   2.,   0.,   1.,   0.,   1.,\n",
        "          0.,   1.,   0.,   0.,   0.,   0.,   1.,   3.,   0.,   0.,   1.,\n",
        "          0.,   1.,   2.,   1.,   0.,   0.,   1.,   2.,   0.,   1.,   3.,\n",
        "          2.,   1.,   3.,   1.,   2.,   0.,   1.,   0.,   1.,   0.,   1.,\n",
        "          1.,   2.,   0.,   1.,   0.,   3.,   0.,   1.,   0.,   1.,   0.,\n",
        "          0.,   2.,   1.,   0.,   1.,   0.,   2.,   2.,   1.,   1.,   1.,\n",
        "          2.,   0.,   0.,   0.,   2.,   3.,   5.,   2.,   4.,   1.,   8.,\n",
        "         21.]),\n",
        " array([ 0.00645161,  0.0163871 ,  0.02632258,  0.03625806,  0.04619355,\n",
        "         0.05612903,  0.06606452,  0.076     ,  0.08593548,  0.09587097,\n",
        "         0.10580645,  0.11574194,  0.12567742,  0.1356129 ,  0.14554839,\n",
        "         0.15548387,  0.16541935,  0.17535484,  0.18529032,  0.19522581,\n",
        "         0.20516129,  0.21509677,  0.22503226,  0.23496774,  0.24490323,\n",
        "         0.25483871,  0.26477419,  0.27470968,  0.28464516,  0.29458065,\n",
        "         0.30451613,  0.31445161,  0.3243871 ,  0.33432258,  0.34425806,\n",
        "         0.35419355,  0.36412903,  0.37406452,  0.384     ,  0.39393548,\n",
        "         0.40387097,  0.41380645,  0.42374194,  0.43367742,  0.4436129 ,\n",
        "         0.45354839,  0.46348387,  0.47341935,  0.48335484,  0.49329032,\n",
        "         0.50322581,  0.51316129,  0.52309677,  0.53303226,  0.54296774,\n",
        "         0.55290323,  0.56283871,  0.57277419,  0.58270968,  0.59264516,\n",
        "         0.60258065,  0.61251613,  0.62245161,  0.6323871 ,  0.64232258,\n",
        "         0.65225806,  0.66219355,  0.67212903,  0.68206452,  0.692     ,\n",
        "         0.70193548,  0.71187097,  0.72180645,  0.73174194,  0.74167742,\n",
        "         0.7516129 ,  0.76154839,  0.77148387,  0.78141935,  0.79135484,\n",
        "         0.80129032,  0.81122581,  0.82116129,  0.83109677,  0.84103226,\n",
        "         0.85096774,  0.86090323,  0.87083871,  0.88077419,  0.89070968,\n",
        "         0.90064516,  0.91058065,  0.92051613,  0.93045161,  0.9403871 ,\n",
        "         0.95032258,  0.96025806,  0.97019355,  0.98012903,  0.99006452,  1.        ]),\n",
        " <a list of 100 Patch objects>)"
       ]
      },
      {
       "metadata": {},
       "output_type": "display_data",
       "png": "[encoded data removed]",
       "text": [
        "<matplotlib.figure.Figure at 0x7fca60fd3f10>"
       ]
      }
     ],
     "prompt_number": 30
    }
   ],
   "metadata": {}
  }
 ]
}