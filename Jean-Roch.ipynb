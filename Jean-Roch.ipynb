{
 "metadata": {
  "name": "",
  "signature": "sha256:0f57879c5248f59a9fa28b674e080b7b5c263b2b84bf2e4617f306c60f184e25"
 },
 "nbformat": 3,
 "nbformat_minor": 0,
 "worksheets": [
  {
   "cells": [
    {
     "cell_type": "raw",
     "metadata": {},
     "source": [
      "Notebook under construction ..."
     ]
    }
   ],
   "metadata": {}
  }
 ]
}