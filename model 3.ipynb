{
 "metadata": {
  "name": "",
  "signature": "sha256:9cc333ddaed6d3ff790b66a96a20555b008bbbd3a48cf80f7fc051b3e3c3b8ff"
 },
 "nbformat": 3,
 "nbformat_minor": 0,
 "worksheets": [
  {
   "cells": [
    {
     "cell_type": "code",
     "collapsed": false,
     "input": [
      "import pybrain"
     ],
     "language": "python",
     "metadata": {},
     "outputs": [],
     "prompt_number": 1
    },
    {
     "cell_type": "code",
     "collapsed": false,
     "input": [
      "from pybrain.tools.shortcuts import buildNetwork"
     ],
     "language": "python",
     "metadata": {},
     "outputs": [],
     "prompt_number": 2
    },
    {
     "cell_type": "code",
     "collapsed": false,
     "input": [
      "from pybrain.supervised.trainers import BackpropTrainer"
     ],
     "language": "python",
     "metadata": {},
     "outputs": [],
     "prompt_number": 3
    },
    {
     "cell_type": "code",
     "collapsed": false,
     "input": [
      "from pybrain.datasets import SupervisedDataSet"
     ],
     "language": "python",
     "metadata": {},
     "outputs": [],
     "prompt_number": 4
    },
    {
     "cell_type": "code",
     "collapsed": false,
     "input": [
      "import time"
     ],
     "language": "python",
     "metadata": {},
     "outputs": [],
     "prompt_number": 5
    },
    {
     "cell_type": "code",
     "collapsed": false,
     "input": [
      "nlayers = 4\n",
      "module_size=20 #cm\n",
      "module_cell = 100 #per edge\n",
      "distance_between_layers = 5 #cm\n",
      "ncells=module_cell*module_cell*nlayers\n",
      "nhidden=10\n",
      "net = buildNetwork(ncells, nhidden, ncells)\n",
      "ds = SupervisedDataSet(ncells, ncells)\n",
      "trainer = BackpropTrainer(net, ds)\n",
      "maximum_hight = nlayers * distance_between_layers\n",
      "theta_max = math.atan(0.5 * module_size / maximum_hight)\n",
      "theta_min = -1 * theta_max\n",
      "min_R = nlayers * distance_between_layers / 2.0\n",
      "max_R = 50\n",
      "y = []\n",
      "y.append(0)\n",
      "y_prime = []\n",
      "y_prime.append(0)\n",
      "z = []\n",
      "z.append(0)\n",
      "x = []\n",
      "x.append(0)\n",
      "for i in range (nlayers) :\n",
      "    y.append((i+1) * distance_between_layers)\n",
      "    y_prime.append((i+1) * distance_between_layers)\n",
      "    z.append(0)\n",
      "    x.append(0)"
     ],
     "language": "python",
     "metadata": {},
     "outputs": [],
     "prompt_number": 6
    },
    {
     "cell_type": "code",
     "collapsed": false,
     "input": [
      "spent = []\n",
      "list_error = []\n",
      "sampleInput = []\n",
      "for i in range (ncells) :\n",
      "    sampleInput.append (1)\n",
      "sampleOutput = []\n",
      "for i in range (ncells) :\n",
      "    sampleOutput.append (1)\n",
      "min_ntracks = 200\n",
      "max_ntracks = 1500\n",
      "nsamples = 1000\n",
      "training_ratio = 0.8\n",
      "ntraining = int (training_ratio * nsamples)\n",
      "testing_ratio = 0.2\n",
      "ntesting = int(testing_ratio * nsamples)\n",
      "def sample_creater () :\n",
      "    for i in range (ncells) :\n",
      "        sampleInput [i] = 1\n",
      "    for i in range (ncells) :\n",
      "        sampleOutput [i] = 1\n",
      "    ntracks = int( uniform(min_ntracks, max_ntracks ) ) #should be a better model than flat\n",
      "    for track in range (ntracks) :\n",
      "        theta = uniform (theta_min,theta_max)\n",
      "        x[2] = uniform (-1*module_size/2.0,module_size/2.0)\n",
      "        x[4] = uniform (-1*module_size/2.0,module_size/2.0)\n",
      "        for i in range (4) :\n",
      "            y_prime[i+1] = y[i+1] / cos(theta)\n",
      "            z[i+1] = y[i+1] * tan(theta)\n",
      "        x_c = 0.5 * (((x[2]**2 + y_prime[2]**2) * y_prime[4]/y_prime[2] ) - x[4]**2 - y_prime[4]**2 )/ (x[2] * y_prime[4]/y_prime[2] - x[4])\n",
      "        y_c = 0.5 * (x[2]**2 + y_prime[2]**2 - 2 * x[2] * x_c) / y_prime[2]\n",
      "        R = sqrt(x_c**2 + y_c**2)\n",
      "        if R <= max_R :\n",
      "            normalized_R = (R - min_R) / (max_R - min_R)\n",
      "            if x[2] > 0.5 * x[4] :\n",
      "                x[1] = x_c + sqrt(R**2 - (y_prime[1] - y_c)**2)\n",
      "                x[3] = x_c + sqrt(R**2 - (y_prime[3] - y_c)**2)\n",
      "            else :\n",
      "                x[1] = x_c - sqrt(R**2 - (y_prime[1] - y_c)**2)\n",
      "                x[3] = x_c - sqrt(R**2 - (y_prime[3] - y_c)**2)\n",
      "            acceptance = 1\n",
      "            x_edge = (-1) * module_size / 2.0\n",
      "            z_edge = (-1) * module_size / 2.0\n",
      "            for i in range (1,nlayers + 1) :\n",
      "                if x[i] > x_edge and x[i] < -1 * x_edge :\n",
      "                    continue\n",
      "                else :\n",
      "                    acceptance = 0\n",
      "            for layer in range (1,nlayers+1) :\n",
      "                index_hit1 = int( (x[i] - x_edge ) / module_size * module_cell )\n",
      "                index_hit2 = int( (z[i] - z_edge ) / module_size * module_cell )\n",
      "                hit = module_cell**2 * (layer - 1) + index_hit2 * module_cell + index_hit1\n",
      "                if acceptance == 1 :\n",
      "                    sampleInput[hit] = 2\n",
      "                    sampleOutput[hit] = 1 + normalized_R\n",
      "    ds.addSample(sampleInput,sampleOutput)"
     ],
     "language": "python",
     "metadata": {},
     "outputs": [],
     "prompt_number": 7
    },
    {
     "cell_type": "code",
     "collapsed": false,
     "input": [
      "for train_counter in range (9) :\n",
      "    start = time.mktime(time.gmtime())\n",
      "    ds.clear()\n",
      "    for sample in range (1,ntraining + 1) :\n",
      "        sample_creater ()\n",
      "    trainer.train()\n",
      "    errorsquare = 0\n",
      "    sample_sum_error = 0\n",
      "    error = 0\n",
      "    for sample in range (1,ntesting + 1) :\n",
      "        sample_creater ()\n",
      "        learningOutput = net.activate (sampleInput)\n",
      "        for i in range (ncells) :\n",
      "            errorsquare += (sampleOutput[i] - learningOutput[i])**2\n",
      "        sample_sum_error += sqrt(errorsquare)/ncells\n",
      "    error = sample_sum_error / ntesting\n",
      "    list_error.append (error)\n",
      "    print error\n",
      "    stop = time.mktime (time.gmtime())\n",
      "    spent.append (stop - start)"
     ],
     "language": "python",
     "metadata": {},
     "outputs": [
      {
       "output_type": "stream",
       "stream": "stdout",
       "text": [
        "0.00347713001298\n",
        "0.00345636206674"
       ]
      },
      {
       "output_type": "stream",
       "stream": "stdout",
       "text": [
        "\n",
        "0.00344758132749"
       ]
      },
      {
       "output_type": "stream",
       "stream": "stdout",
       "text": [
        "\n",
        "0.00342763753665"
       ]
      },
      {
       "output_type": "stream",
       "stream": "stdout",
       "text": [
        "\n",
        "0.0034031415722"
       ]
      },
      {
       "output_type": "stream",
       "stream": "stdout",
       "text": [
        "\n",
        "0.00341177139845"
       ]
      },
      {
       "output_type": "stream",
       "stream": "stdout",
       "text": [
        "\n",
        "0.00334120228605"
       ]
      },
      {
       "output_type": "stream",
       "stream": "stdout",
       "text": [
        "\n",
        "0.00352358932629"
       ]
      },
      {
       "output_type": "stream",
       "stream": "stdout",
       "text": [
        "\n",
        "0.0033410591114"
       ]
      },
      {
       "output_type": "stream",
       "stream": "stdout",
       "text": [
        "\n"
       ]
      }
     ],
     "prompt_number": 48
    },
    {
     "cell_type": "code",
     "collapsed": false,
     "input": [
      "trackbins = 10000\n",
      "track_quantity1 = []\n",
      "for i in range (trackbins + 1) :\n",
      "    track_quantity1.append(0)\n",
      "track_quantity2 = []\n",
      "for i in range (trackbins + 1) :\n",
      "    track_quantity2.append(0)"
     ],
     "language": "python",
     "metadata": {},
     "outputs": [],
     "prompt_number": 41
    },
    {
     "cell_type": "code",
     "collapsed": false,
     "input": [
      "def tracking1 (vector) :\n",
      "    for i in range (trackbins) :\n",
      "        track_quantity1[i] = 0\n",
      "    for i in range (len(vector)) :\n",
      "        if int((vector[i] - 1) * trackbins) > 1 :\n",
      "            track_quantity1[int((vector[i] - 1) * trackbins)] += 1\n",
      "def tracking2 (vector) :\n",
      "    for i in range (trackbins) :\n",
      "        track_quantity2[i] = 0\n",
      "    for i in range (len(vector)) :\n",
      "        if int((vector[i] - 1) * trackbins) > 1 :\n",
      "            track_quantity2[int((vector[i] - 1) * trackbins)] += 1"
     ],
     "language": "python",
     "metadata": {},
     "outputs": [],
     "prompt_number": 46
    },
    {
     "cell_type": "code",
     "collapsed": false,
     "input": [
      "import matplotlib.pyplot as plt"
     ],
     "language": "python",
     "metadata": {},
     "outputs": [],
     "prompt_number": 32
    },
    {
     "cell_type": "code",
     "collapsed": false,
     "input": [
      "tracking1(sampleOutput)\n",
      "plt.plot([val for val in track_quantity1 if val < 10])"
     ],
     "language": "python",
     "metadata": {},
     "outputs": [
      {
       "metadata": {},
       "output_type": "pyout",
       "prompt_number": 51,
       "text": [
        "[<matplotlib.lines.Line2D at 0x7f91bf5ac8d0>]"
       ]
      },
      {
       "metadata": {},
       "output_type": "display_data",
       "png": "[encoded data removed]",
       "text": [
        "<matplotlib.figure.Figure at 0x7f91bf6c97d0>"
       ]
      }
     ],
     "prompt_number": 51
    },
    {
     "cell_type": "code",
     "collapsed": false,
     "input": [
      "tracking2(learningOutput)\n",
      "plt.plot([val for val in track_quantity2 if val < 10])"
     ],
     "language": "python",
     "metadata": {},
     "outputs": [
      {
       "metadata": {},
       "output_type": "pyout",
       "prompt_number": 52,
       "text": [
        "[<matplotlib.lines.Line2D at 0x7f91bf679d90>]"
       ]
      },
      {
       "metadata": {},
       "output_type": "display_data",
       "png": "[encoded data removed]",
       "text": [
        "<matplotlib.figure.Figure at 0x7f91bf56ab90>"
       ]
      }
     ],
     "prompt_number": 52
    },
    {
     "cell_type": "code",
     "collapsed": false,
     "input": [
      "track_quantity3 = []\n",
      "for i in range (trackbins + 1) :\n",
      "    track_quantity3.append (0)\n",
      "for i in range (trackbins) :\n",
      "    track_quantity3[i]  = track_quantity1[i] - track_quantity2[i]\n",
      "plt.plot([val for val in track_quantity3 if val < 10 and val > -10])"
     ],
     "language": "python",
     "metadata": {},
     "outputs": [
      {
       "metadata": {},
       "output_type": "pyout",
       "prompt_number": 53,
       "text": [
        "[<matplotlib.lines.Line2D at 0x7f91bf88c750>]"
       ]
      },
      {
       "metadata": {},
       "output_type": "display_data",
       "png": "[encoded data removed]",
       "text": [
        "<matplotlib.figure.Figure at 0x7f91bf6980d0>"
       ]
      }
     ],
     "prompt_number": 53
    },
    {
     "cell_type": "code",
     "collapsed": false,
     "input": [
      "plt.plot(sampleInput)"
     ],
     "language": "python",
     "metadata": {},
     "outputs": [
      {
       "metadata": {},
       "output_type": "pyout",
       "prompt_number": 54,
       "text": [
        "[<matplotlib.lines.Line2D at 0x7f91bf6b17d0>]"
       ]
      },
      {
       "metadata": {},
       "output_type": "display_data",
       "png": "[encoded data removed]",
       "text": [
        "<matplotlib.figure.Figure at 0x7f91bf7cad50>"
       ]
      }
     ],
     "prompt_number": 54
    },
    {
     "cell_type": "code",
     "collapsed": false,
     "input": [
      "plt.plot(sampleOutput)"
     ],
     "language": "python",
     "metadata": {},
     "outputs": [
      {
       "metadata": {},
       "output_type": "pyout",
       "prompt_number": 55,
       "text": [
        "[<matplotlib.lines.Line2D at 0x7f91bf4deb50>]"
       ]
      },
      {
       "metadata": {},
       "output_type": "display_data",
       "png": "[encoded data removed]",
       "text": [
        "<matplotlib.figure.Figure at 0x7f91bf694590>"
       ]
      }
     ],
     "prompt_number": 55
    },
    {
     "cell_type": "code",
     "collapsed": false,
     "input": [
      "plt.plot(learningOutput)"
     ],
     "language": "python",
     "metadata": {},
     "outputs": [
      {
       "metadata": {},
       "output_type": "pyout",
       "prompt_number": 56,
       "text": [
        "[<matplotlib.lines.Line2D at 0x7f91bf41b710>]"
       ]
      },
      {
       "metadata": {},
       "output_type": "display_data",
       "png": "[encoded data removed]",
       "text": [
        "<matplotlib.figure.Figure at 0x7f91bf501a90>"
       ]
      }
     ],
     "prompt_number": 56
    },
    {
     "cell_type": "code",
     "collapsed": false,
     "input": [
      "for i in range (0,100) :\n",
      "    plt.plot (i+1,list_error[i],'bo')\n",
      "    if list_error[i+1] != 0 :\n",
      "        continue"
     ],
     "language": "python",
     "metadata": {},
     "outputs": [
      {
       "ename": "IndexError",
       "evalue": "list index out of range",
       "output_type": "pyerr",
       "traceback": [
        "\u001b[1;31m---------------------------------------------------------------------------\u001b[0m\n\u001b[1;31mIndexError\u001b[0m                                Traceback (most recent call last)",
        "\u001b[1;32m<ipython-input-49-dca49d24361f>\u001b[0m in \u001b[0;36m<module>\u001b[1;34m()\u001b[0m\n\u001b[0;32m      1\u001b[0m \u001b[1;32mfor\u001b[0m \u001b[0mi\u001b[0m \u001b[1;32min\u001b[0m \u001b[0mrange\u001b[0m \u001b[1;33m(\u001b[0m\u001b[1;36m0\u001b[0m\u001b[1;33m,\u001b[0m\u001b[1;36m100\u001b[0m\u001b[1;33m)\u001b[0m \u001b[1;33m:\u001b[0m\u001b[1;33m\u001b[0m\u001b[0m\n\u001b[0;32m      2\u001b[0m     \u001b[0mplt\u001b[0m\u001b[1;33m.\u001b[0m\u001b[0mplot\u001b[0m \u001b[1;33m(\u001b[0m\u001b[0mi\u001b[0m\u001b[1;33m+\u001b[0m\u001b[1;36m1\u001b[0m\u001b[1;33m,\u001b[0m\u001b[0mlist_error\u001b[0m\u001b[1;33m[\u001b[0m\u001b[0mi\u001b[0m\u001b[1;33m]\u001b[0m\u001b[1;33m,\u001b[0m\u001b[1;34m'bo'\u001b[0m\u001b[1;33m)\u001b[0m\u001b[1;33m\u001b[0m\u001b[0m\n\u001b[1;32m----> 3\u001b[1;33m     \u001b[1;32mif\u001b[0m \u001b[0mlist_error\u001b[0m\u001b[1;33m[\u001b[0m\u001b[0mi\u001b[0m\u001b[1;33m+\u001b[0m\u001b[1;36m1\u001b[0m\u001b[1;33m]\u001b[0m \u001b[1;33m!=\u001b[0m \u001b[1;36m0\u001b[0m \u001b[1;33m:\u001b[0m\u001b[1;33m\u001b[0m\u001b[0m\n\u001b[0m\u001b[0;32m      4\u001b[0m         \u001b[1;32mcontinue\u001b[0m\u001b[1;33m\u001b[0m\u001b[0m\n",
        "\u001b[1;31mIndexError\u001b[0m: list index out of range"
       ]
      },
      {
       "metadata": {},
       "output_type": "display_data",
       "png": "[encoded data removed]",
       "text": [
        "<matplotlib.figure.Figure at 0x7f91bf8a1050>"
       ]
      }
     ],
     "prompt_number": 49
    },
    {
     "cell_type": "code",
     "collapsed": false,
     "input": [
      "for i in range (0,100) :\n",
      "    plt.plot (i+1,spent[i],'bo')\n",
      "    if spent[i+1] != 0 :\n",
      "        continue"
     ],
     "language": "python",
     "metadata": {},
     "outputs": [
      {
       "ename": "IndexError",
       "evalue": "list index out of range",
       "output_type": "pyerr",
       "traceback": [
        "\u001b[1;31m---------------------------------------------------------------------------\u001b[0m\n\u001b[1;31mIndexError\u001b[0m                                Traceback (most recent call last)",
        "\u001b[1;32m<ipython-input-50-bd0332451e2d>\u001b[0m in \u001b[0;36m<module>\u001b[1;34m()\u001b[0m\n\u001b[0;32m      1\u001b[0m \u001b[1;32mfor\u001b[0m \u001b[0mi\u001b[0m \u001b[1;32min\u001b[0m \u001b[0mrange\u001b[0m \u001b[1;33m(\u001b[0m\u001b[1;36m0\u001b[0m\u001b[1;33m,\u001b[0m\u001b[1;36m100\u001b[0m\u001b[1;33m)\u001b[0m \u001b[1;33m:\u001b[0m\u001b[1;33m\u001b[0m\u001b[0m\n\u001b[0;32m      2\u001b[0m     \u001b[0mplt\u001b[0m\u001b[1;33m.\u001b[0m\u001b[0mplot\u001b[0m \u001b[1;33m(\u001b[0m\u001b[0mi\u001b[0m\u001b[1;33m+\u001b[0m\u001b[1;36m1\u001b[0m\u001b[1;33m,\u001b[0m\u001b[0mspent\u001b[0m\u001b[1;33m[\u001b[0m\u001b[0mi\u001b[0m\u001b[1;33m]\u001b[0m\u001b[1;33m,\u001b[0m\u001b[1;34m'bo'\u001b[0m\u001b[1;33m)\u001b[0m\u001b[1;33m\u001b[0m\u001b[0m\n\u001b[1;32m----> 3\u001b[1;33m     \u001b[1;32mif\u001b[0m \u001b[0mspent\u001b[0m\u001b[1;33m[\u001b[0m\u001b[0mi\u001b[0m\u001b[1;33m+\u001b[0m\u001b[1;36m1\u001b[0m\u001b[1;33m]\u001b[0m \u001b[1;33m!=\u001b[0m \u001b[1;36m0\u001b[0m \u001b[1;33m:\u001b[0m\u001b[1;33m\u001b[0m\u001b[0m\n\u001b[0m\u001b[0;32m      4\u001b[0m         \u001b[1;32mcontinue\u001b[0m\u001b[1;33m\u001b[0m\u001b[0m\n",
        "\u001b[1;31mIndexError\u001b[0m: list index out of range"
       ]
      },
      {
       "metadata": {},
       "output_type": "display_data",
       "png": "[encoded data removed]",
       "text": [
        "<matplotlib.figure.Figure at 0x7f91bf88c6d0>"
       ]
      }
     ],
     "prompt_number": 50
    },
    {
     "cell_type": "code",
     "collapsed": false,
     "input": [
      "#plt.plot(track_quantity (sampleOutput))"
     ],
     "language": "python",
     "metadata": {},
     "outputs": [],
     "prompt_number": 31
    },
    {
     "cell_type": "code",
     "collapsed": false,
     "input": [
      "plt.hist([val for val in sampleOutput if val!=1], bins=10000)"
     ],
     "language": "python",
     "metadata": {},
     "outputs": [
      {
       "metadata": {},
       "output_type": "pyout",
       "prompt_number": 13,
       "text": [
        "(array([ 1.,  0.,  0., ...,  0.,  0.,  1.]),\n",
        " array([ 1.01040119,  1.01049955,  1.01059792, ...,  1.99385973,\n",
        "         1.9939581 ,  1.99405646]),\n",
        " <a list of 10000 Patch objects>)"
       ]
      },
      {
       "metadata": {},
       "output_type": "display_data",
       "png": "[encoded data removed]",
       "text": [
        "<matplotlib.figure.Figure at 0x7f1414578dd0>"
       ]
      }
     ],
     "prompt_number": 13
    },
    {
     "cell_type": "code",
     "collapsed": false,
     "input": [
      "plt.hist([val for val in learningOutput if val> 1.15], bins=10000)"
     ],
     "language": "python",
     "metadata": {},
     "outputs": [
      {
       "metadata": {},
       "output_type": "pyout",
       "prompt_number": 14,
       "text": [
        "(array([ 1.,  0.,  0., ...,  0.,  0.,  1.]),\n",
        " array([ 1.15278845,  1.15280657,  1.15282469, ...,  1.33391409,\n",
        "         1.33393221,  1.33395032]),\n",
        " <a list of 10000 Patch objects>)"
       ]
      },
      {
       "metadata": {},
       "output_type": "display_data",
       "png": "[encoded data removed]",
       "text": [
        "<matplotlib.figure.Figure at 0x7f141440cb10>"
       ]
      }
     ],
     "prompt_number": 14
    },
    {
     "cell_type": "code",
     "collapsed": false,
     "input": [
      "x[2] = uniform (-1*module_size/2.0,module_size/2.0)\n",
      "x[4] = uniform (-1*module_size/2.0,module_size/2.0)\n",
      "for i in range (4) :\n",
      "    y_prime[i+1] = y[2] / cos(theta)\n",
      "x_c = 0.5 * ((x[4]**2 + y[4]**2) * (y[4]/y[2] - 1) ) / (x[2] * y[4]/y[2] - x[4])\n",
      "y_c = 0.5 * (x[2]**2 + y[2]**2 - 2 * x[2] * x_c) / y[2]\n",
      "R = sqrt(x_c**2 + y_c**2)\n",
      "if R <= max_R :\n",
      "    normalized_R = R / max_R\n",
      "    if x[2] > 0.5 * x[4] :\n",
      "        x[1] = x_c + sqrt(R**2 - (y_prime[1] - y_c)**2)\n",
      "        x[3] = x_c + sqrt(R**2 - (y_prime[3] - y_c)**2)\n",
      "    else :\n",
      "        x[1] = x_c - sqrt(R**2 - (y_prime[1] - y_c)**2)\n",
      "        x[3] = x_c - sqrt(R**2 - (y_prime[3] - y_c)**2)\n",
      "    accept = 1\n",
      "    for i in range (1,nlayers+1) :\n",
      "        if x[i] > x_edge and x[i] < -1 * x_edge :\n",
      "            continue\n",
      "        else :\n",
      "            accept = 0\n",
      "    for i in range (1,nlayers+1) :\n",
      "        x_edge = (-1) * module_size / 2.0\n",
      "        z_edge = (-1) * module_size / 2.0\n",
      "        index_hit1 = int( (x[i] - x_edge ) / module_size * module_cell )\n",
      "        index_hit2 = int( (z[i] - z_edge ) / module_size * module_cell )\n",
      "        hit = module_cell**2 * (layer - 1) + lindex_hit2 * module_cell + lindex_hit1\n",
      "        if accept == 1 :\n",
      "            sampleInput[hit] = 2\n",
      "            sampleOutput[hit] = 1 + ((track + 1) / float(ntracks))"
     ],
     "language": "python",
     "metadata": {},
     "outputs": []
    },
    {
     "cell_type": "code",
     "collapsed": false,
     "input": [],
     "language": "python",
     "metadata": {},
     "outputs": []
    }
   ],
   "metadata": {}
  }
 ]
}