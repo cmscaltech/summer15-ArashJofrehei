{
 "metadata": {
  "name": "",
  "signature": "sha256:d4f84be773f72b78611720fc5fae9fb78c4f779e73e28bb77506ed35fce5f887"
 },
 "nbformat": 3,
 "nbformat_minor": 0,
 "worksheets": [
  {
   "cells": [
    {
     "cell_type": "code",
     "collapsed": false,
     "input": [
      "# My latest codes are the ones with batches. So this code can be completely replaced\n",
      "# by \"->  10C-4T-3L-2KN-1M-Batch\" + \"->  Saving_Data_Batch_by_Batch\"\n",
      "# You should just set module_size and number of hidden layers and ... and also ignoring batch-wise loading would be the same as\n",
      "# setting BATCH-SIZE to nsamples and then require any batch size while calling trainer\n",
      "# so it's recommended to use updated codes\n",
      "\n",
      "import theanets\n",
      "import matplotlib.pyplot as plt\n",
      "import time\n",
      "import numpy as np\n",
      "from theanets.trainer import SupervisedPretrainer\n",
      "import math\n",
      "from random import uniform\n",
      "from math import cos,tan,sqrt\n",
      "from numpy import float32,int32\n",
      "import pickle\n",
      "from sklearn.cluster import KMeans\n",
      "\n",
      "\n",
      "nlayers = 4\n",
      "module_size=20 #cm\n",
      "module_cell = 5 #per edge\n",
      "distance_between_layers = 5 #cm\n",
      "ncells=module_cell*module_cell*nlayers\n",
      "nhidden=ncells\n",
      "nhidden_layers = 10\n",
      "layers = (ncells,) + tuple([nhidden for i in range(nhidden_layers)])\n",
      "trainer = theanets.Experiment(theanets.feedforward.Regressor(layers=(ncells,ncells,ncells,ncells,ncells,ncells,ncells,(ncells,'logistic'))))\n",
      "net = trainer.network\n",
      "maximum_hight = nlayers * distance_between_layers\n",
      "theta_max = math.atan(0.5 * module_size / maximum_hight)\n",
      "theta_min = -1 * theta_max\n",
      "y = []\n",
      "y.append(0)\n",
      "y_prime = []\n",
      "y_prime.append(0)\n",
      "z = []\n",
      "z.append(0)\n",
      "x = []\n",
      "x.append(0)\n",
      "for i in range (nlayers) :\n",
      "    y.append((i+1) * distance_between_layers)\n",
      "    y_prime.append((i+1) * distance_between_layers)\n",
      "    z.append(0)\n",
      "    x.append(0)\n",
      "spent = []\n",
      "list_error = []\n",
      "color_list = ['bo','yo','ro','co','mo','go','ko','wo']\n",
      "min_ntracks = 4\n",
      "max_ntracks = 4\n",
      "nsamples = 700000\n",
      "#nsamples = 2 * ncells * ncells * (nhidden_layers + 1)\n",
      "#print nsamples\n",
      "training_ratio = 0.9\n",
      "ds_input = np.zeros((nsamples,ncells),dtype = float32)\n",
      "ds_output = np.zeros((nsamples,ncells),dtype = float32)\n",
      "cut = int(nsamples * training_ratio)\n",
      "train = ds_input[:cut], ds_output[:cut]\n",
      "valid = ds_input[cut:], ds_output[cut:]\n",
      "\n",
      "def addSample (sample_number = 1,sampleInput = np.zeros (ncells,dtype = float32),sampleOutput = np.zeros (ncells,dtype = float32)) :\n",
      "    for i in range (ncells) :\n",
      "        ds_input[sample_number][i] = sampleInput[i]\n",
      "        ds_output[sample_number][i] = sampleOutput[i]\n",
      "    \n",
      "def sample_creater(sample_number = 1,display = False) :                  # creates a sample with a random number of tracks\n",
      "    sampleInput = np.zeros (ncells,dtype = float32)\n",
      "    sampleOutput = np.zeros (ncells,dtype = float32)\n",
      "    ntracks = int( uniform(min_ntracks, max_ntracks ) ) #should be a better model than flat\n",
      "    sample_matrix = [[0 for t in range(nlayers + 1)] for t in range(ntracks)]\n",
      "# first argument of each row is track's radius and the other \"nlayers\" ones are hit indices of that track\n",
      "# then we would be able to sort these hits by their radius\n",
      "    \n",
      "# theta is the angle between the circle plane and xy plane. we randomly choose two points in the second and 4th layer and then fit a circle through these two points and also the coordinate origin\n",
      "# as y is fixed for each layer and z can be derived easily by y*tan(theta) , to specify a point in a layer we only need x of it\n",
      "    track = 0\n",
      "    while track < ntracks :\n",
      "        theta = uniform (theta_min,theta_max)\n",
      "        x[2] = uniform (-1*module_size/2.0,module_size/2.0)\n",
      "        x[4] = uniform (-1*module_size/2.0,module_size/2.0)\n",
      "        for i in range (4) :\n",
      "            y_prime[i+1] = y[i+1] / cos(theta)\n",
      "            z[i+1] = y[i+1] * tan(theta)\n",
      "        # center point of our circle\n",
      "        x_c = 0.5 * (((x[2]**2 + y_prime[2]**2) * y_prime[4]/y_prime[2] ) - x[4]**2 - y_prime[4]**2 )/ (x[2] * y_prime[4]/y_prime[2] - x[4])\n",
      "        y_c = 0.5 * (x[2]**2 + y_prime[2]**2 - 2 * x[2] * x_c) / y_prime[2]\n",
      "        R = sqrt(x_c**2 + y_c**2)\n",
      "# y_prime is the y component when we place our coordinate on the circle plane and as the layers are parallel, it would be y/cos(theta) for each layer\n",
      "        if x[2] > 0.5 * x[4] :\n",
      "            x[1] = x_c + sqrt(R**2 - (y_prime[1] - y_c)**2)\n",
      "            x[3] = x_c + sqrt(R**2 - (y_prime[3] - y_c)**2)\n",
      "        else :\n",
      "            x[1] = x_c - sqrt(R**2 - (y_prime[1] - y_c)**2)\n",
      "            x[3] = x_c - sqrt(R**2 - (y_prime[3] - y_c)**2)\n",
      "        sample_matrix [track][0] = R\n",
      "        x_edge = (-1) * module_size / 2.0\n",
      "        z_edge = (-1) * module_size / 2.0\n",
      "        \n",
      "        track_hits = np.zeros(nlayers,dtype = float32)\n",
      "        no_good = False\n",
      "        for layer in range (1,nlayers+1) :\n",
      "            # local indices on the module\n",
      "            index_hit1 = int( (x[layer] - x_edge ) / module_size * module_cell )\n",
      "            index_hit2 = int( (z[layer] - z_edge ) / module_size * module_cell )\n",
      "            # transform into the global index\n",
      "            hit = module_cell**2 * (layer - 1) + index_hit2 * module_cell + index_hit1\n",
      "            track_hits[layer-1] = hit\n",
      "            if sampleInput[hit] == 1:\n",
      "                    #discard this track\n",
      "                    no_good = True\n",
      "        if no_good:\n",
      "            #print \"discarding an overlaping track\"\n",
      "            continue\n",
      "        else:\n",
      "            for (layer,hit) in enumerate(track_hits):\n",
      "                sampleInput[int(hit)] = 1\n",
      "                sample_matrix [track][layer+1] = int(hit)\n",
      "        if display:\n",
      "            for i in range (0,5) :\n",
      "                plt.figure(1)\n",
      "                plt.plot(x[i],y_prime[i],color_list[track])\n",
      "                axis([-module_size/2. + 1 , module_size/2. + 1, 0, maximum_hight/cos(theta) + 1])\n",
      "                plt.suptitle('x - y_prime (perpendicular view of the circle plane)')\n",
      "                plt.xlabel('x')\n",
      "                plt.ylabel('y_prime')\n",
      "                plt.figure(2)\n",
      "                plt.plot(x[i],z[i],color_list[track])\n",
      "                axis([-module_size/2. + 1, module_size/2. + 1,-module_size/2. + 1, module_size/2. + 1])\n",
      "                plt.suptitle('x - z')\n",
      "                plt.xlabel('x')\n",
      "                plt.ylabel('z')\n",
      "                plt.figure(3)\n",
      "                plt.plot(z[i],y[i],color_list[track])\n",
      "                axis([-module_size/2. + 1, module_size/2. + 1, 0, maximum_hight/cos(theta) + 1])\n",
      "                plt.suptitle('z - y')\n",
      "                plt.xlabel('z')\n",
      "                plt.ylabel('y')\n",
      "        track += 1\n",
      "    sample_matrix.sort(key=lambda x: x[0])\n",
      "    for i in range (ntracks) :\n",
      "        for j in range(1,nlayers+1) :\n",
      "            sampleOutput[sample_matrix[i][j]] = (i+1)/float(ntracks)\n",
      "    if display == False :\n",
      "        addSample(sample_number,sampleInput,sampleOutput)\n",
      "        \n",
      "def new_samples() :\n",
      "    ds_input = np.zeros((nsamples,ncells),dtype = float32)\n",
      "    ds_output = np.zeros((nsamples,ncells),dtype = float32)\n",
      "    for i in range (nsamples) :\n",
      "        sample_creater(i,False)\n",
      "    train = ds_input[:cut], ds_output[:cut]\n",
      "    valid = ds_input[cut:], ds_output[cut:]\n",
      "\n",
      "\n",
      "# In[2]:\n",
      "\n",
      "def clusterer (in_array,revised_number = 0) :\n",
      "    n_lines = len(in_array)\n",
      "    n_gaps = n_lines - 1\n",
      "    gap_matrix = np.zeros((n_gaps,3),dtype=float32)\n",
      "    length_array = np.zeros(n_gaps,dtype=float32)\n",
      "    for i in range (n_gaps) :\n",
      "        gap_matrix[i][2] = i\n",
      "        gap_matrix[i][0] = in_array[i+1] - in_array[i]\n",
      "        length_array[i] = in_array[i+1] - in_array[i]\n",
      "        gap_matrix[i][1] = (in_array[i+1] + in_array[i])/2.0\n",
      "    length_array = sorted(length_array)\n",
      "    gap_matrix.view('f32,f32,f32').sort(order=['f0'], axis=0)\n",
      "    out_matrix = np.zeros((int(n_lines),2),dtype=int32)\n",
      "    if revised_number == 0 :\n",
      "        col = np.reshape(length_array,(len(length_array),1))\n",
      "        algo = KMeans(n_clusters=2)\n",
      "        gap_candidates = algo.fit_predict(col)\n",
      "        if gap_candidates[0] == 0:\n",
      "            accepted = list(gap_candidates).count(1)\n",
      "        else :\n",
      "            accepted = list(gap_candidates).count(0)\n",
      "    else :\n",
      "        accepted = revised_number-1\n",
      "    for i in range (n_gaps-accepted) :\n",
      "        gap_matrix[i][1] = in_array[n_gaps]\n",
      "    gap_matrix.view('f32,f32,f32').sort(order=['f1'], axis=0)\n",
      "    if accepted == 0 :\n",
      "        out_matrix [0] = [0,n_gaps]\n",
      "        return accepted+1,out_matrix\n",
      "    out_matrix [0] = [0,gap_matrix[0][2]]\n",
      "    out_matrix [accepted] = [gap_matrix[accepted-1][2]+1,n_gaps]\n",
      "    for bunch in range (1,accepted) :\n",
      "        out_matrix [bunch] = [int(gap_matrix[bunch-1][2]+1),int(gap_matrix[bunch][2])]\n",
      "    return accepted+1,out_matrix\n",
      "\n",
      "def clustering (in_array) :\n",
      "    central_tracks ,_ = clusterer (in_array)\n",
      "    col = np.reshape(in_array,(len(in_array),1))\n",
      "    min_n = max(1,int((0.75*central_tracks)))\n",
      "    max_n = int(1.25*central_tracks)\n",
      "    if max_n <= min_n + 1 :\n",
      "        return clusterer (in_array,max_n)\n",
      "    goc = np.zeros(1+max_n-min_n)\n",
      "    for nclu in range(min_n ,max_n +1):\n",
      "        algo = KMeans(n_clusters=nclu)\n",
      "        track_candidates = algo.fit_predict(col)\n",
      "        track_candidate_values = [np.array(in_array)[np.where(track_candidates==n)] for n in range(nclu)]\n",
      "        goc[nclu - min_n] = algo.score(col)\n",
      "    d_goc = []\n",
      "    for i in range (max_n-min_n):\n",
      "        d_goc.append(goc[i+1] - goc[i])\n",
      "    col = np.reshape(d_goc,(len(d_goc),1))\n",
      "    algo = KMeans(n_clusters=2)\n",
      "    gap_candidates = algo.fit_predict(col)\n",
      "    if gap_candidates[0] == 0:\n",
      "        accepted = list(gap_candidates).count(1)\n",
      "    else :\n",
      "        accepted = list(gap_candidates).count(0)\n",
      "    revised_number = max_n-accepted\n",
      "    return clusterer (in_array,revised_number)\n",
      "def similarity (exptrack,nntrack) :\n",
      "    sim_counter = 0\n",
      "    for exphit in range (len(exptrack)) :\n",
      "        for nnhit in range (len(nntrack)) :\n",
      "            if exptrack[exphit] == nntrack[nnhit] :\n",
      "                sim_counter += 1\n",
      "    return sim_counter\n",
      "def got (exp,nn,cut = 0.1,requested_efficiency = 1) : # Dear reader, get ready for awful variable names and no comment !\n",
      "    goodTrack = 0\n",
      "    # creating MidPut\n",
      "    for i in range (len(nn)) :\n",
      "        if nn[i] < cut :\n",
      "            nn[i] = 0\n",
      "    exp_Output = np.array([[i,exp[i]] for i in range (len(exp)) if exp[i] != 0],dtype = float32)\n",
      "    nn_Output = np.array([[i,nn[i]] for i in range (len(nn)) if nn[i] != 0],dtype = float32)\n",
      "    exp_Output.view('f32,f32').sort(order=['f1'], axis=0)\n",
      "    nn_Output.view('f32,f32').sort(order=['f1'], axis=0)\n",
      "    n_exp,exp_matrix = clustering (exp_Output[:,1])\n",
      "    n_nn,nn_matrix = clustering (nn_Output[:,1])\n",
      "    expM = np.array([[exp_Output[i][0] for i in range (exp_matrix[track][0],exp_matrix[track][1]+1)] for track in range (n_exp)])\n",
      "    nnM = np.array([[nn_Output[i][0] for i in range (nn_matrix[track][0],nn_matrix[track][1]+1)] for track in range (n_nn)])\n",
      "    similarities = np.zeros(n_exp,dtype = float32)\n",
      "    # doesn't work quite well for efficiencies less than 1,I know the reason,but don't have time to fix it !\n",
      "    good_hit = 0\n",
      "    total_hit = len(expM[1]) * n_exp\n",
      "    for i in range (-len(expM[1]),0):\n",
      "      remained_NNtracks = np.array([j for j in range (len(nnM))])\n",
      "      for exptrack in range (n_exp) :\n",
      "          for nntrack in remained_NNtracks :\n",
      "              if similarity(expM[exptrack],nnM[nntrack]) == -i :\n",
      "                  good_hit += -i\n",
      "                  if similarity(expM[exptrack],nnM[nntrack]) >= requested_efficiency * len(expM[1]) :\n",
      "                    goodTrack +=1\n",
      "                  remained_NNtracks = np.array([remained_NNtracks[j] for j in range (len(remained_NNtracks)) if j != nntrack]) #like !\n",
      "                  break\n",
      "        #similarities[exptrack] = max([similarity(expM[exptrack],nnM[nntrack]) for nntrack in range (len(nnM))])\n",
      "    return float(goodTrack)/len(expM),good_hit,total_hit\n",
      "def max_finder (listt) :\n",
      "    m = 0\n",
      "    for i in range (len(listt)) :\n",
      "        if listt[i] > listt[m] :\n",
      "            m = i\n",
      "    return m\n",
      "def compare (out,learn,n = 4,m = 4,efficiency = 1) : # n is nlayers , m is ntracks\n",
      "    counter = 0\n",
      "    output = np.zeros(len(out) , dtype=float32)\n",
      "    learned = np.zeros(len(learn) , dtype=float32)\n",
      "    Otracks = np.zeros((m,n),dtype = float32)\n",
      "    Ltracks = np.zeros((m,n),dtype = float32)\n",
      "    for i in range (len(out)) :\n",
      "        output[i] = out[i]\n",
      "    for i in range (len(learn)) :\n",
      "        learned[i] = learn[i]\n",
      "    for track in range (m) :\n",
      "        for layer in range (n) :\n",
      "            start = int(float(layer) * len(output) / n)\n",
      "            end = int(float(layer+1) * len(output) / n)\n",
      "            subOutput = output[start:end]\n",
      "            subLearned = learned[start:end]\n",
      "            Otracks[track][layer] = max_finder(subOutput)+start\n",
      "            Ltracks[track][layer] = max_finder(subLearned)+start\n",
      "            output[max_finder(subOutput)+start] = 0\n",
      "            learned[max_finder(subLearned)+start] = 0\n",
      "    for track in range (m) :\n",
      "        if max([similarity(Otracks[track],Ltracks[i]) for i in range(m)]) >= efficiency * n :\n",
      "            counter += 1\n",
      "    return counter\n",
      "\n",
      "\n",
      "# In[3]:\n",
      "print \"creating samples ...\"\n",
      "new_samples()\n",
      "print \"Done\"\n",
      "\n",
      "\n",
      "\n",
      "# In[10]:\n",
      "\n",
      "#print net.find('hid1', 'b').get_value()\n",
      "#print net.find('hid1', 'w').get_value()\n",
      "#print \"\"\n",
      "#print net.find('hid2', 'b').get_value()\n",
      "#print net.find('hid2', 'w').get_value()\n",
      "#print \"\"\n",
      "#print net.find('hid3', 'b').get_value()\n",
      "#print net.find('hid3', 'w').get_value()\n",
      "#print \"\"\n",
      "#print net.find('hid4', 'b').get_value()\n",
      "#print net.find('hid4', 'w').get_value()\n",
      "#print \"\"\n",
      "#print net.find('out', 'b').get_value()\n",
      "#print net.find('out', 'w').get_value()\n",
      "#print \"\"\n",
      "#print \"\\t load\"\n",
      "\n",
      "#trainer.load(\"network/5C-6L-700K-4T\")\n",
      "\n",
      "#print net.find('hid1', 'b').get_value()\n",
      "#print net.find('hid1', 'w').get_value()\n",
      "#print \"\"\n",
      "#print net.find('hid2', 'b').get_value()\n",
      "#print net.find('hid2', 'w').get_value()\n",
      "#print \"\"\n",
      "#print net.find('hid3', 'b').get_value()\n",
      "#print net.find('hid3', 'w').get_value()\n",
      "#print \"\"\n",
      "#print net.find('hid4', 'b').get_value()\n",
      "#print net.find('hid4', 'w').get_value()\n",
      "#print \"\"\n",
      "#print net.find('out', 'b').get_value()\n",
      "#print net.find('out', 'w').get_value()\n",
      "#print \"\"\n",
      "#print \"\\t load\"\n",
      "\n",
      "\n",
      "# In[ ]:\n",
      "\n",
      "#training_file = open(\"T_5C-6L-700K-4T.txt\", \"a\")\n",
      "#validating_file = open(\"V_5C-6L-700K-4T.txt\", \"a\")\n",
      "\n",
      "##############################################################################################################################\n",
      "print \"training ...\"\n",
      "niter=1\n",
      "ntrain=1\n",
      "for i in range (1,2) :\n",
      "    # training on training samples\n",
      "    for j in range (ntrain) :\n",
      "        start = time.mktime(time.gmtime())\n",
      "        print \"training started ... \"\n",
      "        epoch_counter = 0\n",
      "        LR = 0.05\n",
      "        for trn, val in trainer.itertrain(train,valid, algo='rprop',learning_rate = LR,\n",
      "                                          batch_size=1024,validate_every = 1,patience=100000,min_improvement = 0.000001) :\n",
      "            trainer.save(\"network/5C-6L-700K-4T\")\n",
      "            if epoch_counter%1 == 0 :\n",
      "                print \"epoch \",epoch_counter+1,\"\\ttraining_error =\",1000*trn['err'],\" \\tvalidation_error =\",1000*val['err']\n",
      "            epoch_counter += 1\n",
      "            #if epoch_counter == 400 :\n",
      "            #  LR = 1e-3\n",
      "            #if epoch_counter == 2000 :\n",
      "            #  LR = 1e-4\n",
      "            #if epoch_counter == 2000 :\n",
      "            #  break\n",
      "        print \"\\t training ended\"\n",
      "        stop = time.mktime (time.gmtime())\n",
      "        spent.append (stop - start)\n",
      "        print \"training time (seconds) \\t\" , stop - start\n",
      "\n",
      "#training_file.close()\n",
      "#validating_file.close()\n",
      "###################################################################################################################################\n",
      "\n",
      "print spent\n",
      "\n",
      "\n",
      "#trainer.save(\"network/5C-6L-700K-4T\")\n",
      "\n",
      "\n",
      "# In[ ]:\n",
      "\n",
      "Predict = trainer.network.predict(valid[0])\n",
      "\n",
      "\n",
      "# In[ ]:\n",
      "\n",
      "gots = np.zeros(5 , dtype=float32)\n",
      "start = time.mktime(time.gmtime())\n",
      "goodHit = 0\n",
      "totalHit = 0\n",
      "for i in range (500) :\n",
      "    ratio_goodTracks,good_hit,total_hit = got(ds_output[cut+i],Predict[i],0.1,1)\n",
      "    goodHit += good_hit\n",
      "    totalHit += total_hit\n",
      "    if ratio_goodTracks == 1 :\n",
      "        print i\n",
      "    gots[int(4*ratio_goodTracks)] += 1\n",
      "print \"goh = \",float(goodHit)/totalHit\n",
      "stop = time.mktime (time.gmtime())\n",
      "spent.append (stop - start)\n",
      "print \"\\t\" , stop - start\n",
      "print \"gots :\\t\",gots\n",
      "print sum([i*gots[i] for i in range (5)])/(500*0.04)\n",
      "\n",
      "gots = np.zeros(5 , dtype=float32)\n",
      "start = time.mktime(time.gmtime())\n",
      "goodHit = 0\n",
      "totalHit = 0\n",
      "for i in range (500) :\n",
      "    ratio_goodTracks,good_hit,total_hit = got(ds_output[cut+i],Predict[i],0.1,0.75)\n",
      "    goodHit += good_hit\n",
      "    totalHit += total_hit\n",
      "    #if ratio_goodTracks == 1 :\n",
      "        #print i\n",
      "    gots[int(4*ratio_goodTracks)] += 1\n",
      "print \"goh = \",float(goodHit)/totalHit\n",
      "stop = time.mktime (time.gmtime())\n",
      "spent.append (stop - start)\n",
      "print \"\\t\" , stop - start\n",
      "print \"gots :\\t\",gots\n",
      "print sum([i*gots[i] for i in range (5)])/(500*0.04)\n",
      "\n",
      "\n",
      "\n",
      "# In[ ]:\n",
      "\n",
      "counter = np.zeros(5 , dtype=float32)\n",
      "start = time.mktime(time.gmtime())\n",
      "for i in range (2000) :\n",
      "    n_good_tracks = compare(ds_output[cut+i],Predict[i],4,4,1)\n",
      "    #if n_good_tracks == 4 :\n",
      "        #print i\n",
      "    counter[n_good_tracks] += 1\n",
      "stop = time.mktime (time.gmtime())\n",
      "spent.append (stop - start)\n",
      "print \"\\t\" , stop - start\n",
      "print \"A-error: \",counter\n",
      "print sum([i*counter[i] for i in range (5)])/(2000*0.04)\n",
      "\n",
      "\n",
      "counter = np.zeros(5 , dtype=float32)\n",
      "start = time.mktime(time.gmtime())\n",
      "for i in range (2001,4001) :\n",
      "    n_good_tracks = compare(ds_output[cut+i],Predict[i],4,4,0.75)\n",
      "    #if n_good_tracks == 4 :\n",
      "        #print i\n",
      "    counter[n_good_tracks] += 1\n",
      "stop = time.mktime (time.gmtime())\n",
      "spent.append (stop - start)\n",
      "print \"\\t\" , stop - start\n",
      "print \"A-error: \",counter\n",
      "print sum([i*counter[i] for i in range (5)])/(2000*0.04)"
     ],
     "language": "python",
     "metadata": {},
     "outputs": [
      {
       "output_type": "stream",
       "stream": "stdout",
       "text": [
        "creating samples ...\n",
        "Done"
       ]
      },
      {
       "output_type": "stream",
       "stream": "stdout",
       "text": [
        "\n",
        "training ...\n",
        "training started ... \n",
        "epoch "
       ]
      },
      {
       "output_type": "stream",
       "stream": "stdout",
       "text": [
        " 1 \ttraining_error = 65.1906064454  \tvalidation_error = 297.806492931\n",
        "epoch "
       ]
      },
      {
       "output_type": "stream",
       "stream": "stdout",
       "text": [
        " 2 \ttraining_error = 47.5282528243  \tvalidation_error = 55.9267298677\n",
        "epoch "
       ]
      },
      {
       "output_type": "stream",
       "stream": "stdout",
       "text": [
        " 3 \ttraining_error = 41.2850752891  \tvalidation_error = 43.4343372928\n",
        "epoch "
       ]
      },
      {
       "output_type": "stream",
       "stream": "stdout",
       "text": [
        " 4 \ttraining_error = 38.2531906742  \tvalidation_error = 39.4678759519\n",
        "epoch "
       ]
      },
      {
       "output_type": "stream",
       "stream": "stdout",
       "text": [
        " 5 \ttraining_error = 36.5974340684  \tvalidation_error = 37.2511526464\n",
        "epoch "
       ]
      },
      {
       "output_type": "stream",
       "stream": "stdout",
       "text": [
        " 6 \ttraining_error = 35.5227078178  \tvalidation_error = 35.9957053235\n",
        "epoch "
       ]
      },
      {
       "output_type": "stream",
       "stream": "stdout",
       "text": [
        " 7 \ttraining_error = 34.7105278572  \tvalidation_error = 35.0532362867\n",
        "epoch "
       ]
      },
      {
       "output_type": "stream",
       "stream": "stdout",
       "text": [
        " 8 \ttraining_error = 34.1342599736  \tvalidation_error = 34.3701842527\n",
        "epoch "
       ]
      },
      {
       "output_type": "stream",
       "stream": "stdout",
       "text": [
        " 9 \ttraining_error = 33.7297453033  \tvalidation_error = 33.8993294442\n",
        "epoch "
       ]
      },
      {
       "output_type": "stream",
       "stream": "stdout",
       "text": [
        " 10 \ttraining_error = 33.4130446664  \tvalidation_error = 33.5438384703\n",
        "epoch "
       ]
      },
      {
       "output_type": "stream",
       "stream": "stdout",
       "text": [
        " 11 \ttraining_error = 33.1537591555  \tvalidation_error = 33.2634854296\n",
        "epoch "
       ]
      },
      {
       "output_type": "stream",
       "stream": "stdout",
       "text": [
        " 12 \ttraining_error = 32.9340785379  \tvalidation_error = 33.0236005865\n",
        "epoch "
       ]
      },
      {
       "output_type": "stream",
       "stream": "stdout",
       "text": [
        " 13 \ttraining_error = 32.746755055  \tvalidation_error = 32.8197805004\n",
        "epoch "
       ]
      },
      {
       "output_type": "stream",
       "stream": "stdout",
       "text": [
        " 14 \ttraining_error = 32.5887990965  \tvalidation_error = 32.6575869621\n",
        "epoch "
       ]
      },
      {
       "output_type": "stream",
       "stream": "stdout",
       "text": [
        " 15 \ttraining_error = 32.449076463  \tvalidation_error = 32.5115320556\n",
        "epoch "
       ]
      },
      {
       "output_type": "stream",
       "stream": "stdout",
       "text": [
        " 16 \ttraining_error = 32.3247681812  \tvalidation_error = 32.3826401231\n",
        "epoch "
       ]
      },
      {
       "output_type": "stream",
       "stream": "stdout",
       "text": [
        " 17 \ttraining_error = 32.2078851861  \tvalidation_error = 32.2643840151\n",
        "epoch "
       ]
      },
      {
       "output_type": "stream",
       "stream": "stdout",
       "text": [
        " 18 \ttraining_error = 32.1022367934  \tvalidation_error = 32.1561495221\n",
        "epoch "
       ]
      },
      {
       "output_type": "stream",
       "stream": "stdout",
       "text": [
        " 19 \ttraining_error = 32.0060996097  \tvalidation_error = 32.0536574844\n",
        "epoch "
       ]
      },
      {
       "output_type": "stream",
       "stream": "stdout",
       "text": [
        " 20 \ttraining_error = 31.9177902067  \tvalidation_error = 31.9689756548\n",
        "epoch "
       ]
      },
      {
       "output_type": "stream",
       "stream": "stdout",
       "text": [
        " 21 \ttraining_error = 31.8361434772  \tvalidation_error = 31.8765528147\n",
        "epoch "
       ]
      },
      {
       "output_type": "stream",
       "stream": "stdout",
       "text": [
        " 22 \ttraining_error = 31.7616578883  \tvalidation_error = 31.8040971864\n",
        "epoch "
       ]
      },
      {
       "output_type": "stream",
       "stream": "stdout",
       "text": [
        " 23 \ttraining_error = 31.6907434022  \tvalidation_error = 31.731335022\n",
        "epoch "
       ]
      },
      {
       "output_type": "stream",
       "stream": "stdout",
       "text": [
        " 24 \ttraining_error = 31.625228715  \tvalidation_error = 31.6640763535\n",
        "epoch "
       ]
      },
      {
       "output_type": "stream",
       "stream": "stdout",
       "text": [
        " 25 \ttraining_error = 31.5636565921  \tvalidation_error = 31.6045898114\n",
        "epoch "
       ]
      },
      {
       "output_type": "stream",
       "stream": "stdout",
       "text": [
        " 26 \ttraining_error = 31.5015811292  \tvalidation_error = 31.5454244818\n",
        "epoch "
       ]
      },
      {
       "output_type": "stream",
       "stream": "stdout",
       "text": [
        " 27 \ttraining_error = 31.444789141  \tvalidation_error = 31.4840679161\n",
        "\t training ended"
       ]
      },
      {
       "output_type": "stream",
       "stream": "stdout",
       "text": [
        "\n",
        "training time (seconds) \t1639.0\n",
        "[1639.0]\n",
        "goh = "
       ]
      },
      {
       "output_type": "stream",
       "stream": "stdout",
       "text": [
        " 0.552125\n",
        "\t71.0\n",
        "gots :\t[ 375.  121.    4.    0.    0.]\n",
        "6.45\n",
        "goh = "
       ]
      },
      {
       "output_type": "stream",
       "stream": "stdout",
       "text": [
        " 0.550125\n",
        "\t71.0\n",
        "gots :\t[  48.  216.  195.   40.    1.]\n",
        "36.5\n",
        "\t"
       ]
      },
      {
       "output_type": "stream",
       "stream": "stdout",
       "text": [
        "1.0\n",
        "A-error:  [ 1420.   559.    21.     0.     0.]\n",
        "7.5125\n",
        "\t"
       ]
      },
      {
       "output_type": "stream",
       "stream": "stdout",
       "text": [
        "2.0\n",
        "A-error:  [ 433.  978.  537.   52.    0.]\n",
        "27.6\n"
       ]
      }
     ],
     "prompt_number": 42
    },
    {
     "cell_type": "code",
     "collapsed": false,
     "input": [
      "#plt.plot(net.find('hid1', 'b').get_value())\n",
      "plt.plot(net.find('hid1', 'w').get_value()[0])"
     ],
     "language": "python",
     "metadata": {},
     "outputs": [
      {
       "metadata": {},
       "output_type": "pyout",
       "prompt_number": 45,
       "text": [
        "[<matplotlib.lines.Line2D at 0x7ff065192710>]"
       ]
      },
      {
       "metadata": {},
       "output_type": "display_data",
       "png": "[encoded data removed]",
       "text": [
        "<matplotlib.figure.Figure at 0x7ff066e8c2d0>"
       ]
      }
     ],
     "prompt_number": 45
    },
    {
     "cell_type": "code",
     "collapsed": false,
     "input": [
      "#plt.plot(Predict[0])\n",
      "#plt.axis([0, 100, 0, 1])\n",
      "plt.hist([val for val in net.find('hid1', 'w').get_value()[0] if abs(val) < 1.5],bins = 200)"
     ],
     "language": "python",
     "metadata": {},
     "outputs": [
      {
       "metadata": {},
       "output_type": "pyout",
       "prompt_number": 48,
       "text": [
        "(array([ 1.,  0.,  0.,  0.,  0.,  0.,  0.,  0.,  0.,  0.,  0.,  0.,  0.,\n",
        "         0.,  0.,  0.,  0.,  0.,  0.,  0.,  0.,  0.,  0.,  0.,  0.,  0.,\n",
        "         0.,  0.,  0.,  0.,  0.,  0.,  0.,  0.,  0.,  0.,  0.,  0.,  0.,\n",
        "         0.,  0.,  0.,  0.,  0.,  0.,  0.,  0.,  0.,  0.,  0.,  0.,  0.,\n",
        "         1.,  0.,  0.,  0.,  0.,  0.,  0.,  1.,  0.,  0.,  0.,  0.,  1.,\n",
        "         0.,  0.,  0.,  0.,  0.,  0.,  0.,  1.,  0.,  1.,  0.,  0.,  0.,\n",
        "         0.,  0.,  0.,  0.,  1.,  0.,  2.,  1.,  1.,  0.,  0.,  1.,  0.,\n",
        "         1.,  1.,  0.,  0.,  1.,  0.,  1.,  3.,  0.,  3.,  0.,  1.,  1.,\n",
        "         0.,  2.,  0.,  0.,  0.,  1.,  1.,  2.,  1.,  3.,  0.,  0.,  3.,\n",
        "         0.,  0.,  2.,  1.,  0.,  2.,  2.,  0.,  2.,  1.,  2.,  0.,  2.,\n",
        "         2.,  1.,  1.,  0.,  3.,  0.,  1.,  2.,  2.,  1.,  1.,  2.,  0.,\n",
        "         3.,  2.,  0.,  2.,  1.,  0.,  0.,  0.,  0.,  1.,  0.,  0.,  0.,\n",
        "         0.,  5.,  1.,  1.,  2.,  1.,  2.,  0.,  0.,  1.,  0.,  0.,  0.,\n",
        "         0.,  2.,  0.,  1.,  1.,  1.,  1.,  0.,  0.,  0.,  0.,  1.,  0.,\n",
        "         1.,  0.,  0.,  0.,  0.,  1.,  0.,  0.,  0.,  0.,  0.,  0.,  1.,\n",
        "         0.,  0.,  0.,  0.,  1.]),\n",
        " array([-0.25491971, -0.25294141, -0.25096311, -0.24898481, -0.24700651,\n",
        "        -0.24502821, -0.24304991, -0.24107161, -0.23909331, -0.23711502,\n",
        "        -0.23513672, -0.23315842, -0.23118012, -0.22920182, -0.22722352,\n",
        "        -0.22524522, -0.22326692, -0.22128862, -0.21931032, -0.21733202,\n",
        "        -0.21535372, -0.21337542, -0.21139712, -0.20941882, -0.20744053,\n",
        "        -0.20546223, -0.20348393, -0.20150563, -0.19952733, -0.19754903,\n",
        "        -0.19557073, -0.19359243, -0.19161413, -0.18963583, -0.18765753,\n",
        "        -0.18567923, -0.18370093, -0.18172263, -0.17974433, -0.17776604,\n",
        "        -0.17578774, -0.17380944, -0.17183114, -0.16985284, -0.16787454,\n",
        "        -0.16589624, -0.16391794, -0.16193964, -0.15996134, -0.15798304,\n",
        "        -0.15600474, -0.15402644, -0.15204814, -0.15006984, -0.14809155,\n",
        "        -0.14611325, -0.14413495, -0.14215665, -0.14017835, -0.13820005,\n",
        "        -0.13622175, -0.13424345, -0.13226515, -0.13028685, -0.12830855,\n",
        "        -0.12633025, -0.12435195, -0.12237365, -0.12039536, -0.11841706,\n",
        "        -0.11643876, -0.11446046, -0.11248216, -0.11050386, -0.10852556,\n",
        "        -0.10654726, -0.10456896, -0.10259066, -0.10061236, -0.09863406,\n",
        "        -0.09665576, -0.09467746, -0.09269916, -0.09072087, -0.08874257,\n",
        "        -0.08676427, -0.08478597, -0.08280767, -0.08082937, -0.07885107,\n",
        "        -0.07687277, -0.07489447, -0.07291617, -0.07093787, -0.06895957,\n",
        "        -0.06698127, -0.06500297, -0.06302467, -0.06104638, -0.05906808,\n",
        "        -0.05708978, -0.05511148, -0.05313318, -0.05115488, -0.04917658,\n",
        "        -0.04719828, -0.04521998, -0.04324168, -0.04126338, -0.03928508,\n",
        "        -0.03730678, -0.03532848, -0.03335019, -0.03137189, -0.02939359,\n",
        "        -0.02741529, -0.02543699, -0.02345869, -0.02148039, -0.01950209,\n",
        "        -0.01752379, -0.01554549, -0.01356719, -0.01158889, -0.00961059,\n",
        "        -0.00763229, -0.00565399, -0.0036757 , -0.0016974 ,  0.0002809 ,\n",
        "         0.0022592 ,  0.0042375 ,  0.0062158 ,  0.0081941 ,  0.0101724 ,\n",
        "         0.0121507 ,  0.014129  ,  0.0161073 ,  0.0180856 ,  0.0200639 ,\n",
        "         0.0220422 ,  0.0240205 ,  0.02599879,  0.02797709,  0.02995539,\n",
        "         0.03193369,  0.03391199,  0.03589029,  0.03786859,  0.03984689,\n",
        "         0.04182519,  0.04380349,  0.04578179,  0.04776009,  0.04973839,\n",
        "         0.05171669,  0.05369499,  0.05567328,  0.05765158,  0.05962988,\n",
        "         0.06160818,  0.06358648,  0.06556478,  0.06754308,  0.06952138,\n",
        "         0.07149968,  0.07347798,  0.07545628,  0.07743458,  0.07941288,\n",
        "         0.08139118,  0.08336947,  0.08534777,  0.08732607,  0.08930437,\n",
        "         0.09128267,  0.09326097,  0.09523927,  0.09721757,  0.09919587,\n",
        "         0.10117417,  0.10315247,  0.10513077,  0.10710907,  0.10908737,\n",
        "         0.11106567,  0.11304396,  0.11502226,  0.11700056,  0.11897886,\n",
        "         0.12095716,  0.12293546,  0.12491376,  0.12689206,  0.12887036,\n",
        "         0.13084866,  0.13282696,  0.13480526,  0.13678356,  0.13876186,\n",
        "         0.14074016]),\n",
        " <a list of 200 Patch objects>)"
       ]
      },
      {
       "metadata": {},
       "output_type": "display_data",
       "png": "[encoded data removed]",
       "text": [
        "<matplotlib.figure.Figure at 0x7ff064a737d0>"
       ]
      }
     ],
     "prompt_number": 48
    },
    {
     "cell_type": "code",
     "collapsed": false,
     "input": [
      "plt.plot(ds_output[0])"
     ],
     "language": "python",
     "metadata": {},
     "outputs": [
      {
       "metadata": {},
       "output_type": "pyout",
       "prompt_number": 49,
       "text": [
        "[<matplotlib.lines.Line2D at 0x7ff067354790>]"
       ]
      },
      {
       "metadata": {},
       "output_type": "display_data",
       "png": "[encoded data removed]",
       "text": [
        "<matplotlib.figure.Figure at 0x7ff066c71250>"
       ]
      }
     ],
     "prompt_number": 49
    }
   ],
   "metadata": {}
  }
 ]
}