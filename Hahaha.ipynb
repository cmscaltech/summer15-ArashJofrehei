{
 "metadata": {
  "name": "",
  "signature": "sha256:a50baf48dc8990a8838b5d7e9a5ddf294b2bdc62126a7dce1131719a2a2c0003"
 },
 "nbformat": 3,
 "nbformat_minor": 0,
 "worksheets": [
  {
   "cells": [
    {
     "cell_type": "code",
     "collapsed": false,
     "input": [
      "import theanets\n",
      "import numpy as np\n",
      "from numpy import float32\n",
      "dt = np.dtype(float32)\n",
      "trainer = theanets.feedforward.Regressor(layers=(2,(2,'relu'),(1,'relu')))"
     ],
     "language": "python",
     "metadata": {},
     "outputs": [],
     "prompt_number": 4
    },
    {
     "cell_type": "code",
     "collapsed": false,
     "input": [
      "print trainer.find('hid1', 'b').get_value()\n",
      "print trainer.find('hid1', 'w').get_value()\n",
      "print trainer.find('out', 'b').get_value()\n",
      "print trainer.find('out', 'w').get_value()"
     ],
     "language": "python",
     "metadata": {},
     "outputs": [
      {
       "output_type": "stream",
       "stream": "stdout",
       "text": [
        "[-1.29293865 -0.80949143]\n",
        "[[-0.42097369  0.65467441]\n",
        " [ 0.48844777  0.13405035]]\n",
        "[ 0.50069153]\n",
        "[[ 0.04271086]\n",
        " [ 0.80625965]]\n"
       ]
      }
     ],
     "prompt_number": 9
    },
    {
     "cell_type": "code",
     "collapsed": false,
     "input": [
      "trainer.find('hid1', 'b').set_value()\n",
      "trainer.find('hid1', 'w').set_value()\n",
      "trainer.find('out', 'b').set_value()\n",
      "trainer.find('out', 'w').set_value()"
     ],
     "language": "python",
     "metadata": {},
     "outputs": [
      {
       "metadata": {},
       "output_type": "pyout",
       "prompt_number": 23,
       "text": [
        "array([[ 0.04271086],\n",
        "       [ 0.80625965]])"
       ]
      }
     ],
     "prompt_number": 23
    },
    {
     "cell_type": "code",
     "collapsed": false,
     "input": [
      "#dataset_input = np.array([[1,1],[0,1],[1,0],[0,0],[1,1],[0,1],[1,0],[0,0]],dt)\n",
      "#dataset_output = np.array([[0],[1],[1],[0],[0],[1],[1],[0]],dt)\n",
      "dataset_input = np.array([[1,1],[0,1],[1,0],[0,0]],dt)\n",
      "dataset_output = np.array([[0],[1],[1],[0]],dt)\n",
      "np.save('network/XOR_Input.npy', dataset_input)\n",
      "np.save('network/XOR_Output.npy', dataset_output)\n",
      "np.save('network/XOR_Input.npy', np.concatenate((np.load('network/XOR_Input.npy', mmap_mode='r'),dataset_input)))\n",
      "np.save('network/XOR_Output.npy', np.concatenate((np.load('network/XOR_Output.npy', mmap_mode='r'),dataset_output)))\n",
      "print len(np.load('network/XOR_Input.npy', mmap_mode='r'))\n",
      "BATCH_SIZE = 4\n",
      "training_data_ratio = 0.5\n",
      "def train_batch():\n",
      "    X = np.load('network/XOR_Input.npy', mmap_mode='r')\n",
      "    Y = np.load('network/XOR_Output.npy', mmap_mode='r')\n",
      "    cut = training_data_ratio * len(X)\n",
      "    if cut == BATCH_SIZE:\n",
      "        i = 0\n",
      "    else:\n",
      "        i = np.random.randint(cut-BATCH_SIZE)\n",
      "    return (X[i:i+BATCH_SIZE],Y[i:i+BATCH_SIZE])\n",
      "def valid_batch():\n",
      "    X = np.load('network/XOR_Input.npy', mmap_mode='r')\n",
      "    Y = np.load('network/XOR_Output.npy', mmap_mode='r')\n",
      "    cut = training_data_ratio * len(X)\n",
      "    if cut == len(X)-BATCH_SIZE:\n",
      "        i = cut\n",
      "    else:\n",
      "        i = np.random.randint(cut,len(X)-BATCH_SIZE)\n",
      "    return (X[i:i+BATCH_SIZE],Y[i:i+BATCH_SIZE])"
     ],
     "language": "python",
     "metadata": {},
     "outputs": [
      {
       "output_type": "stream",
       "stream": "stdout",
       "text": [
        "8\n"
       ]
      }
     ],
     "prompt_number": 21
    },
    {
     "cell_type": "code",
     "collapsed": false,
     "input": [
      "trainer.train(train_batch(),valid_batch(), algo='rprop',learning_rate = 1e-1,iteration_size = 1,batch_size=BATCH_SIZE,validate_every = 1,patience=500)"
     ],
     "language": "python",
     "metadata": {},
     "outputs": [
      {
       "metadata": {},
       "output_type": "pyout",
       "prompt_number": 18,
       "text": [
        "(OrderedDict([('loss', 0.0), ('err', 0.0)]),\n",
        " OrderedDict([('loss', 0.0), ('err', 0.0)]))"
       ]
      }
     ],
     "prompt_number": 18
    },
    {
     "cell_type": "code",
     "collapsed": false,
     "input": [
      "print trainer.find('hid1', 'b').get_value()\n",
      "print trainer.find('hid1', 'w').get_value()\n",
      "print trainer.find('out', 'b').get_value()\n",
      "print trainer.find('out', 'w').get_value()"
     ],
     "language": "python",
     "metadata": {},
     "outputs": [
      {
       "output_type": "stream",
       "stream": "stdout",
       "text": [
        "[-1.29293865 -0.80949143]\n",
        "[[-0.42097369  0.65467441]\n",
        " [ 0.48844777  0.13405035]]\n",
        "[ 1.]\n",
        "[[ 0.04271086]\n",
        " [ 0.80625965]]\n"
       ]
      }
     ],
     "prompt_number": 19
    },
    {
     "cell_type": "code",
     "collapsed": false,
     "input": [
      "print trainer.predict(valid_batch()[0])"
     ],
     "language": "python",
     "metadata": {},
     "outputs": [
      {
       "output_type": "stream",
       "stream": "stdout",
       "text": [
        "[[ 1.]\n",
        " [ 1.]\n",
        " [ 1.]\n",
        " [ 1.]]\n"
       ]
      }
     ],
     "prompt_number": 22
    },
    {
     "cell_type": "code",
     "collapsed": false,
     "input": [],
     "language": "python",
     "metadata": {},
     "outputs": []
    }
   ],
   "metadata": {}
  }
 ]
}