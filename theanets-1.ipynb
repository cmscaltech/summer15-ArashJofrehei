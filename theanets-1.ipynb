{
 "metadata": {
  "name": "",
  "signature": "sha256:30ab041d1ace64bc3c34e0bba8b773e5a3048825fd4868301991e0949bad507a"
 },
 "nbformat": 3,
 "nbformat_minor": 0,
 "worksheets": [
  {
   "cells": [
    {
     "cell_type": "code",
     "collapsed": false,
     "input": [
      "import climate\n",
      "import theanets\n",
      "import logging\n",
      "from sklearn.datasets import make_classification\n",
      "from sklearn.metrics import confusion_matrix\n",
      "import matplotlib.pyplot as plt\n",
      "import time\n",
      "import numpy as np"
     ],
     "language": "python",
     "metadata": {},
     "outputs": [
      {
       "output_type": "stream",
       "stream": "stdout",
       "text": [
        "Couldn't import dot_parser, loading of dot files will not be possible.\n"
       ]
      }
     ],
     "prompt_number": 2
    },
    {
     "cell_type": "code",
     "collapsed": false,
     "input": [
      "nlayers = 4\n",
      "module_size=20 #cm\n",
      "module_cell = 10 #per edge\n",
      "distance_between_layers = 5 #cm\n",
      "ncells=module_cell*module_cell*nlayers\n",
      "nhidden=ncells\n",
      "nhidden_layers = 10\n",
      "layers = (ncells,) + tuple([nhidden for i in range(nhidden_layers)])\n",
      "net = theanets.Regressor((ncells,ncells,ncells,ncells,ncells,ncells,ncells,ncells,ncells,ncells,ncells,(ncells,'logistic')))\n",
      "maximum_hight = nlayers * distance_between_layers\n",
      "theta_max = math.atan(0.5 * module_size / maximum_hight)\n",
      "theta_min = -1 * theta_max\n",
      "y = []\n",
      "y.append(0)\n",
      "y_prime = []\n",
      "y_prime.append(0)\n",
      "z = []\n",
      "z.append(0)\n",
      "x = []\n",
      "x.append(0)\n",
      "for i in range (nlayers) :\n",
      "    y.append((i+1) * distance_between_layers)\n",
      "    y_prime.append((i+1) * distance_between_layers)\n",
      "    z.append(0)\n",
      "    x.append(0)\n",
      "spent = []\n",
      "list_error = []\n",
      "color_list = ['bo','yo','ro','co','mo','go','ko','wo']\n",
      "min_ntracks = 4\n",
      "max_ntracks = 4\n",
      "nsamples = 10000\n",
      "#nsamples = 2 * ncells * ncells * (nhidden_layers + 1)\n",
      "#print nsamples\n",
      "training_ratio = 0.7\n",
      "testing_ratio = 0.2\n",
      "validating_ratio = 0.1\n",
      "ds_input = np.zeros((nsamples,ncells))\n",
      "ds_output = np.zeros((nsamples,ncells))"
     ],
     "language": "python",
     "metadata": {},
     "outputs": [],
     "prompt_number": 4
    },
    {
     "cell_type": "code",
     "collapsed": false,
     "input": [
      "def addSample (sample_number = 1,sampleInput = np.zeros (ncells),sampleOutput = np.zeros (ncells)) :\n",
      "    for i in range (ncells) :\n",
      "        ds_input[sample_number][i] = sampleInput[i]\n",
      "        ds_output[sample_number][i] = sampleOutput[i]\n",
      "    \n",
      "def sample_creater(sample_number = 1,display = False) :                  # creates a sample with a random number of tracks\n",
      "    sampleInput = np.zeros (ncells)\n",
      "    sampleOutput = np.zeros (ncells)\n",
      "    ntracks = int( uniform(min_ntracks, max_ntracks ) ) #should be a better model than flat\n",
      "    sample_matrix = [[0 for t in range(nlayers + 1)] for t in range(ntracks)]\n",
      "# first argument of each row is track's radius and the other \"nlayers\" ones are hit indices of that track\n",
      "# then we would be able to sort these hits by their radius\n",
      "    \n",
      "# theta is the angle between the circle plane and xy plane. we randomly choose two points in the second and 4th layer and then fit a circle through these two points and also the coordinate origin\n",
      "# as y is fixed for each layer and z can be derived easily by y*tan(theta) , to specify a point in a layer we only need x of it\n",
      "    track = 0\n",
      "    while track < ntracks :\n",
      "        theta = uniform (theta_min,theta_max)\n",
      "        x[2] = uniform (-1*module_size/2.0,module_size/2.0)\n",
      "        x[4] = uniform (-1*module_size/2.0,module_size/2.0)\n",
      "        for i in range (4) :\n",
      "            y_prime[i+1] = y[i+1] / cos(theta)\n",
      "            z[i+1] = y[i+1] * tan(theta)\n",
      "        # center point of our circle\n",
      "        x_c = 0.5 * (((x[2]**2 + y_prime[2]**2) * y_prime[4]/y_prime[2] ) - x[4]**2 - y_prime[4]**2 )/ (x[2] * y_prime[4]/y_prime[2] - x[4])\n",
      "        y_c = 0.5 * (x[2]**2 + y_prime[2]**2 - 2 * x[2] * x_c) / y_prime[2]\n",
      "        R = sqrt(x_c**2 + y_c**2)\n",
      "# y_prime is the y component when we place our coordinate on the circle plane and as the layers are parallel, it would be y/cos(theta) for each layer\n",
      "        if x[2] > 0.5 * x[4] :\n",
      "            x[1] = x_c + sqrt(R**2 - (y_prime[1] - y_c)**2)\n",
      "            x[3] = x_c + sqrt(R**2 - (y_prime[3] - y_c)**2)\n",
      "        else :\n",
      "            x[1] = x_c - sqrt(R**2 - (y_prime[1] - y_c)**2)\n",
      "            x[3] = x_c - sqrt(R**2 - (y_prime[3] - y_c)**2)\n",
      "        if display:\n",
      "            for i in range (0,5) :\n",
      "                plt.figure(1)\n",
      "                plt.plot(x[i],y_prime[i],color_list[track])\n",
      "                axis([-module_size/2. + 1 , module_size/2. + 1, 0, maximum_hight/cos(theta) + 1])\n",
      "                plt.suptitle('x - y_prime (perpendicular view of the circle plane)')\n",
      "                plt.xlabel('x')\n",
      "                plt.ylabel('y_prime')\n",
      "                plt.figure(2)\n",
      "                plt.plot(x[i],z[i],color_list[track])\n",
      "                axis([-module_size/2. + 1, module_size/2. + 1,-module_size/2. + 1, module_size/2. + 1])\n",
      "                plt.suptitle('x - z')\n",
      "                plt.xlabel('x')\n",
      "                plt.ylabel('z')\n",
      "                plt.figure(3)\n",
      "                plt.plot(z[i],y[i],color_list[track])\n",
      "                axis([-module_size/2. + 1, module_size/2. + 1, 0, maximum_hight/cos(theta) + 1])\n",
      "                plt.suptitle('z - y')\n",
      "                plt.xlabel('z')\n",
      "                plt.ylabel('y')\n",
      "        sample_matrix [track][0] = R\n",
      "        x_edge = (-1) * module_size / 2.0\n",
      "        z_edge = (-1) * module_size / 2.0\n",
      "        \n",
      "        track_hits = np.zeros(nlayers)\n",
      "        no_good = False\n",
      "        for layer in range (1,nlayers+1) :\n",
      "            # local indices on the module\n",
      "            index_hit1 = int( (x[layer] - x_edge ) / module_size * module_cell )\n",
      "            index_hit2 = int( (z[layer] - z_edge ) / module_size * module_cell )\n",
      "            # transform into the global index\n",
      "            hit = module_cell**2 * (layer - 1) + index_hit2 * module_cell + index_hit1\n",
      "            track_hits[layer-1] = hit\n",
      "            if sampleInput[hit] == 1:\n",
      "                    #discard this track\n",
      "                    no_good = True\n",
      "        if no_good:\n",
      "            #print \"discarding an overlaping track\"\n",
      "            continue\n",
      "        else:\n",
      "            for (layer,hit) in enumerate(track_hits):\n",
      "                sampleInput[int(hit)] = 1\n",
      "                sample_matrix [track][layer+1] = int(hit)\n",
      "        track += 1\n",
      "    sample_matrix.sort(key=lambda x: x[0])\n",
      "    for i in range (ntracks) :\n",
      "        for j in range(1,nlayers+1) :\n",
      "            sampleOutput[sample_matrix[i][j]] = (i+1)/float(ntracks)\n",
      "    if display == False :\n",
      "        addSample(sample_number,sampleInput,sampleOutput)\n",
      "        \n",
      "def new_samples() :\n",
      "    ds_input = np.zeros((nsamples,ncells))\n",
      "    ds_output = np.zeros((nsamples,ncells))\n",
      "    for i in range (nsamples) :\n",
      "        sample_creater(i,False)"
     ],
     "language": "python",
     "metadata": {},
     "outputs": [],
     "prompt_number": 5
    },
    {
     "cell_type": "code",
     "collapsed": false,
     "input": [
      "new_samples()"
     ],
     "language": "python",
     "metadata": {},
     "outputs": [],
     "prompt_number": 12
    },
    {
     "cell_type": "code",
     "collapsed": false,
     "input": [
      "sample_creater(display = True)"
     ],
     "language": "python",
     "metadata": {},
     "outputs": [],
     "prompt_number": 8
    },
    {
     "cell_type": "code",
     "collapsed": false,
     "input": [
      "plt.imshow(np.reshape(ds_test['input'][4],(4,5,5))[0,:],interpolation='nearest')"
     ],
     "language": "python",
     "metadata": {},
     "outputs": []
    },
    {
     "cell_type": "code",
     "collapsed": false,
     "input": [
      "plt.plot(ds_input[4])\n",
      "plt.xlabel('hit index')"
     ],
     "language": "python",
     "metadata": {},
     "outputs": [
      {
       "metadata": {},
       "output_type": "pyout",
       "prompt_number": 13,
       "text": [
        "<matplotlib.text.Text at 0x7f110383bd10>"
       ]
      },
      {
       "metadata": {},
       "output_type": "display_data",
       "png": "[encoded data removed]",
       "text": [
        "<matplotlib.figure.Figure at 0x7f110a37cd10>"
       ]
      }
     ],
     "prompt_number": 13
    },
    {
     "cell_type": "code",
     "collapsed": false,
     "input": [
      "plt.plot(ds_output[4])\n",
      "plt.xlabel('hit index')"
     ],
     "language": "python",
     "metadata": {},
     "outputs": [
      {
       "metadata": {},
       "output_type": "pyout",
       "prompt_number": 14,
       "text": [
        "<matplotlib.text.Text at 0x7f11037d5390>"
       ]
      },
      {
       "metadata": {},
       "output_type": "display_data",
       "png": "[encoded data removed]",
       "text": [
        "<matplotlib.figure.Figure at 0x7f110374bd50>"
       ]
      }
     ],
     "prompt_number": 14
    },
    {
     "cell_type": "code",
     "collapsed": false,
     "input": [
      "#make the distribution of the target values\n",
      "plt.hist([val for val in ds_output[4] if val != 0 ], bins = 100)\n",
      "plt.xlabel('')"
     ],
     "language": "python",
     "metadata": {},
     "outputs": [
      {
       "metadata": {},
       "output_type": "pyout",
       "prompt_number": 15,
       "text": [
        "<matplotlib.text.Text at 0x7f1103725790>"
       ]
      },
      {
       "metadata": {},
       "output_type": "display_data",
       "png": "[encoded data removed]",
       "text": [
        "<matplotlib.figure.Figure at 0x7f11036ad5d0>"
       ]
      }
     ],
     "prompt_number": 15
    },
    {
     "cell_type": "code",
     "collapsed": false,
     "input": [
      "# we try to create some training samples and train on them and then check the mean error in some testing samples\n",
      "# a function of iteration and train per iterations\n",
      "niter=1\n",
      "ntrain=1\n",
      "for i in range (niter) :\n",
      "    # training on training samples\n",
      "    for i in range (ntrain) :\n",
      "        start = time.mktime(time.gmtime())\n",
      "        print \"training started ... \"\n",
      "        net.train([ds_input,ds_output], algo='rprop',learning_rate=0.01,batch_size=nsamples)\n",
      "        print \"\\ttraining ended\"\n",
      "        stop = time.mktime (time.gmtime())\n",
      "        spent.append (stop - start)\n",
      "        print \"training time (seconds) \\t\" , stop - start"
     ],
     "language": "python",
     "metadata": {},
     "outputs": [
      {
       "output_type": "stream",
       "stream": "stdout",
       "text": [
        "training started ... \n",
        "\ttraining ended"
       ]
      },
      {
       "output_type": "stream",
       "stream": "stdout",
       "text": [
        "\n",
        "training time (seconds) \t1402.0\n"
       ]
      }
     ],
     "prompt_number": 16
    },
    {
     "cell_type": "code",
     "collapsed": false,
     "input": [
      "plt.plot(net.predict(ds_input.astype('f'))[4])\n",
      "plt.xlabel('hit index')"
     ],
     "language": "python",
     "metadata": {},
     "outputs": [
      {
       "metadata": {},
       "output_type": "pyout",
       "prompt_number": 17,
       "text": [
        "<matplotlib.text.Text at 0x7f11078ec750>"
       ]
      },
      {
       "metadata": {},
       "output_type": "display_data",
       "png": "[encoded data removed]",
       "text": [
        "<matplotlib.figure.Figure at 0x7f1106cadfd0>"
       ]
      }
     ],
     "prompt_number": 17
    }
   ],
   "metadata": {}
  }
 ]
}