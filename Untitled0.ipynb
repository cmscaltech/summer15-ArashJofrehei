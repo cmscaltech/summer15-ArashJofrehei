{
 "metadata": {
  "name": "",
  "signature": "sha256:16f874af8e7101e23c38cbdef122ff5502a778ff1822f85a57c44051611cc6fc"
 },
 "nbformat": 3,
 "nbformat_minor": 0,
 "worksheets": [
  {
   "cells": [
    {
     "cell_type": "code",
     "collapsed": false,
     "input": [
      "Matrix = [[0 for x in range(5)] for x in range(6)] "
     ],
     "language": "python",
     "metadata": {},
     "outputs": [],
     "prompt_number": 1
    },
    {
     "cell_type": "code",
     "collapsed": false,
     "input": [
      "Matrix[4][0] = 1"
     ],
     "language": "python",
     "metadata": {},
     "outputs": [],
     "prompt_number": 3
    },
    {
     "cell_type": "code",
     "collapsed": false,
     "input": [
      "Matrix"
     ],
     "language": "python",
     "metadata": {},
     "outputs": [
      {
       "metadata": {},
       "output_type": "pyout",
       "prompt_number": 4,
       "text": [
        "[[0, 0, 0, 0, 0],\n",
        " [0, 0, 0, 0, 0],\n",
        " [0, 0, 0, 0, 0],\n",
        " [0, 0, 0, 0, 0],\n",
        " [1, 0, 0, 0, 0],\n",
        " [0, 0, 0, 0, 0]]"
       ]
      }
     ],
     "prompt_number": 4
    },
    {
     "cell_type": "code",
     "collapsed": false,
     "input": [
      "Matrix[4]"
     ],
     "language": "python",
     "metadata": {},
     "outputs": [
      {
       "metadata": {},
       "output_type": "pyout",
       "prompt_number": 7,
       "text": [
        "[1, 0, 0, 0, 0]"
       ]
      }
     ],
     "prompt_number": 7
    },
    {
     "cell_type": "code",
     "collapsed": false,
     "input": [
      "Matrix.sort(key=lambda x: x[0])"
     ],
     "language": "python",
     "metadata": {},
     "outputs": [],
     "prompt_number": 9
    },
    {
     "cell_type": "code",
     "collapsed": false,
     "input": [
      "Matrix"
     ],
     "language": "python",
     "metadata": {},
     "outputs": [
      {
       "metadata": {},
       "output_type": "pyout",
       "prompt_number": 10,
       "text": [
        "[[0, 0, 0, 0, 0],\n",
        " [0, 0, 0, 0, 0],\n",
        " [0, 0, 0, 0, 0],\n",
        " [0, 0, 0, 0, 0],\n",
        " [0, 0, 0, 0, 0],\n",
        " [1, 0, 0, 0, 0]]"
       ]
      }
     ],
     "prompt_number": 10
    },
    {
     "cell_type": "code",
     "collapsed": false,
     "input": [
      "Matrix[4][0] = 2\n",
      "Matrix[1][2] = 2"
     ],
     "language": "python",
     "metadata": {},
     "outputs": [],
     "prompt_number": 12
    },
    {
     "cell_type": "code",
     "collapsed": false,
     "input": [
      "Matrix.sort(key=lambda x: x[0])\n",
      "Matrix"
     ],
     "language": "python",
     "metadata": {},
     "outputs": [
      {
       "metadata": {},
       "output_type": "pyout",
       "prompt_number": 13,
       "text": [
        "[[0, 0, 0, 0, 0],\n",
        " [0, 0, 2, 0, 0],\n",
        " [0, 0, 0, 0, 0],\n",
        " [0, 0, 0, 0, 0],\n",
        " [1, 0, 0, 0, 0],\n",
        " [2, 0, 0, 0, 0]]"
       ]
      }
     ],
     "prompt_number": 13
    },
    {
     "cell_type": "code",
     "collapsed": false,
     "input": [
      "track = 0\n",
      "while track < 4 :\n",
      "    if uniform(0,1) < 0.3 :\n",
      "        print \"back\"\n",
      "        track -= 1\n",
      "        continue\n",
      "    print track\n",
      "    track +=1"
     ],
     "language": "python",
     "metadata": {},
     "outputs": [
      {
       "output_type": "stream",
       "stream": "stdout",
       "text": [
        "0\n",
        "1\n",
        "back\n",
        "1\n",
        "2\n",
        "3\n"
       ]
      }
     ],
     "prompt_number": 6
    },
    {
     "cell_type": "code",
     "collapsed": false,
     "input": [
      "import numpy as np"
     ],
     "language": "python",
     "metadata": {},
     "outputs": [],
     "prompt_number": 1
    },
    {
     "cell_type": "code",
     "collapsed": false,
     "input": [
      "print int(1.6)"
     ],
     "language": "python",
     "metadata": {},
     "outputs": [
      {
       "output_type": "stream",
       "stream": "stdout",
       "text": [
        "1\n"
       ]
      }
     ],
     "prompt_number": 3
    },
    {
     "cell_type": "code",
     "collapsed": false,
     "input": [
      "a = np.array([i for i in range(10)],dtype = float32)\n",
      "print a\n",
      "for i in range(5):\n",
      "    print a[int(10*float(i)/5):int(10*float(i+1)/5)]"
     ],
     "language": "python",
     "metadata": {},
     "outputs": [
      {
       "output_type": "stream",
       "stream": "stdout",
       "text": [
        "[ 0.  1.  2.  3.  4.  5.  6.  7.  8.  9.]\n",
        "[ 0.  1.]\n",
        "[ 2.  3.]\n",
        "[ 4.  5.]\n",
        "[ 6.  7.]\n",
        "[ 8.  9.]\n"
       ]
      }
     ],
     "prompt_number": 5
    },
    {
     "cell_type": "code",
     "collapsed": false,
     "input": [
      "b = [0,1]\n",
      "c = [2,3]\n",
      "d = b,c\n",
      "print d"
     ],
     "language": "python",
     "metadata": {},
     "outputs": [
      {
       "output_type": "stream",
       "stream": "stdout",
       "text": [
        "([0, 1], [2, 3])\n"
       ]
      }
     ],
     "prompt_number": 11
    },
    {
     "cell_type": "code",
     "collapsed": false,
     "input": [
      "dataset = [[0,1],[1,1]] , [[1],[0]]\n",
      "valid = dataset[0][1],dataset[1][1]\n",
      "print valid"
     ],
     "language": "python",
     "metadata": {},
     "outputs": [
      {
       "output_type": "stream",
       "stream": "stdout",
       "text": [
        "([1, 1], [0])\n"
       ]
      }
     ],
     "prompt_number": 3
    },
    {
     "cell_type": "code",
     "collapsed": false,
     "input": [
      "a = np.array([1,2,3],dt)\n",
      "b = np.array([1,2,3],dt)\n",
      "if (a==b).all() :\n",
      "    print \"same\"\n",
      "else:\n",
      "    print \"nope\""
     ],
     "language": "python",
     "metadata": {},
     "outputs": []
    }
   ],
   "metadata": {}
  }
 ]
}