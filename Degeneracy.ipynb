{
 "metadata": {
  "name": "",
  "signature": "sha256:912b6d6572732d2c903f14d8ae60e6136c8b9ed955914c5ec8f452a6337fd264"
 },
 "nbformat": 3,
 "nbformat_minor": 0,
 "worksheets": [
  {
   "cells": [
    {
     "cell_type": "raw",
     "metadata": {},
     "source": [
      "Hi reader. Have fun"
     ]
    },
    {
     "cell_type": "code",
     "collapsed": false,
     "input": [
      "import matplotlib.pyplot as plt\n",
      "import numpy as np\n",
      "from numpy import float32\n",
      "dt = np.dtype(float32)\n",
      "dt2 = np.dtype(bool)\n",
      "import math\n",
      "from math import sqrt\n",
      "\n",
      "def degeneracy (Inch,Ouch): # People add \"ch\" to things in Switzerland\n",
      "    Input = np.array(Inch,dt)\n",
      "    Output = np.array(Ouch,dt)\n",
      "    Bool = np.zeros(len(Input),dt2)\n",
      "    groups = 0\n",
      "    degeneracy = 0\n",
      "    for i in range(len(Input)):\n",
      "        degenerate = 0\n",
      "        similar = 0\n",
      "        Bool[i] = True\n",
      "        grp = False\n",
      "        for j in range(len(Input)):\n",
      "            if Bool[j] == False and (Input[i] == Input[j]).all():\n",
      "                Bool[j] = True\n",
      "                grp = True  \n",
      "                if (Output[i] == Output[j]).all():\n",
      "                    similar += 1\n",
      "                else:\n",
      "                    degenerate += 1\n",
      "        if grp:\n",
      "            degeneracy += float(degenerate)/(degenerate+similar)\n",
      "            groups += 1\n",
      "    return float(degeneracy)/groups"
     ],
     "language": "python",
     "metadata": {},
     "outputs": [],
     "prompt_number": 1
    },
    {
     "cell_type": "code",
     "collapsed": false,
     "input": [
      "print degeneracy(np.load('network/4Layers_10by10Cells-4Tracks-_Input.npy', mmap_mode='r'),np.load('network/4Layers_10by10Cells-4Tracks_Output.npy', mmap_mode='r'))"
     ],
     "language": "python",
     "metadata": {},
     "outputs": [],
     "prompt_number": 2
    },
    {
     "cell_type": "code",
     "collapsed": false,
     "input": [
      "Input = [[1,0,0,1],[1,0,0,1],[0,1,1,0],[0,1,1,0]]\n",
      "Output = [[1],[1],[0],[2]]\n",
      "print degeneracy(Input,Output)"
     ],
     "language": "python",
     "metadata": {},
     "outputs": [
      {
       "output_type": "stream",
       "stream": "stdout",
       "text": [
        "0.5\n"
       ]
      }
     ],
     "prompt_number": 2
    }
   ],
   "metadata": {}
  }
 ]
}