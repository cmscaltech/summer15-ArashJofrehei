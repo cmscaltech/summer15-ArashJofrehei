{
 "metadata": {
  "name": "",
  "signature": "sha256:38c876bd45c88f6578f564157688be01bc9511b0b28bcc45a9cebd007fcfec54"
 },
 "nbformat": 3,
 "nbformat_minor": 0,
 "worksheets": [
  {
   "cells": [
    {
     "cell_type": "code",
     "collapsed": false,
     "input": [
      "import pybrain\n",
      "from pybrain.tools.shortcuts import buildNetwork\n",
      "from pybrain.supervised.trainers import BackpropTrainer\n",
      "from pybrain.datasets import SupervisedDataSet"
     ],
     "language": "python",
     "metadata": {},
     "outputs": [],
     "prompt_number": 1
    },
    {
     "cell_type": "code",
     "collapsed": false,
     "input": [
      "net = buildNetwork (2,2,1, bias = True)\n",
      "ds = SupervisedDataSet (2,1)\n",
      "trainer = BackpropTrainer(net, ds)"
     ],
     "language": "python",
     "metadata": {},
     "outputs": [],
     "prompt_number": 2
    },
    {
     "cell_type": "code",
     "collapsed": false,
     "input": [
      "## train on each event separately, several times in a row\n",
      "for i in range (100) :\n",
      "    ds.clear()\n",
      "    ## train on one sample\n",
      "    ds.addSample ((0,0),(0,))\n",
      "    for i in range (100) :\n",
      "        trainer.train()\n",
      "    ds.clear()\n",
      "    ds.addSample ((0,1),(1,))\n",
      "    for i in range (100) :\n",
      "        trainer.train()\n",
      "    ds.clear()\n",
      "    ds.addSample ((1,0),(1,))\n",
      "    for i in range (100) :\n",
      "        trainer.train()\n",
      "    ds.clear()\n",
      "    ds.addSample ((1,1),(0,))\n",
      "    for i in range (100) :\n",
      "        trainer.train()"
     ],
     "language": "python",
     "metadata": {},
     "outputs": [],
     "prompt_number": 5
    },
    {
     "cell_type": "code",
     "collapsed": false,
     "input": [
      "for i in range(2):\n",
      "        for j in range(2):\n",
      "            print i,j,\"=>\",net.activate([i,j])"
     ],
     "language": "python",
     "metadata": {},
     "outputs": [
      {
       "output_type": "stream",
       "stream": "stdout",
       "text": [
        "0 0 => [ 0.00231001]\n",
        "0 1 => [ 0.9995784]\n",
        "1 0 => [ 0.9969673]\n",
        "1 1 => [ 0.00017387]\n"
       ]
      }
     ],
     "prompt_number": 13
    },
    {
     "cell_type": "code",
     "collapsed": false,
     "input": [
      "net1 = buildNetwork (2,2,1, bias = True)\n",
      "ds1 = SupervisedDataSet (2,1)\n",
      "trainer1 = BackpropTrainer(net1, ds1)"
     ],
     "language": "python",
     "metadata": {},
     "outputs": [],
     "prompt_number": 6
    },
    {
     "cell_type": "code",
     "collapsed": false,
     "input": [
      "## train a lot of time on 4 samples\n",
      "ds1.clear()\n",
      "ds1.addSample ((0,0),(0,))\n",
      "ds1.addSample ((1,1),(0,))\n",
      "ds1.addSample ((1,0),(1,))\n",
      "ds1.addSample ((0,1),(1,))\n",
      "for i in range (10000) :\n",
      "    trainer1.train()"
     ],
     "language": "python",
     "metadata": {},
     "outputs": [],
     "prompt_number": 7
    },
    {
     "cell_type": "code",
     "collapsed": false,
     "input": [
      "for i in range(2):\n",
      "        for j in range(2):\n",
      "            print i,j,\"=>\",net1.activate([i,j])\n"
     ],
     "language": "python",
     "metadata": {},
     "outputs": [
      {
       "output_type": "stream",
       "stream": "stdout",
       "text": [
        "0 0 => [ 0.00730193]\n",
        "0 1 => [ 0.99419762]\n",
        "1 0 => [ 0.99387654]\n",
        "1 1 => [ 0.00381778]\n"
       ]
      }
     ],
     "prompt_number": 14
    },
    {
     "cell_type": "code",
     "collapsed": false,
     "input": [],
     "language": "python",
     "metadata": {},
     "outputs": []
    }
   ],
   "metadata": {}
  }
 ]
}