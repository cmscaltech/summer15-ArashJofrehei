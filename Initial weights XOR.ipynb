{
 "metadata": {
  "name": "",
  "signature": "sha256:6ba0b3837a14838bd025115466103ac54b26187188559f8e092f07f7bc675bc1"
 },
 "nbformat": 3,
 "nbformat_minor": 0,
 "worksheets": [
  {
   "cells": [
    {
     "cell_type": "raw",
     "metadata": {},
     "source": [
      "Hi reader!\n",
      "As far as I understood, plots are a big deal for experimental people. Sometimes even more important than results themselves.\n",
      "So I decided to just fit in that atmosphere and plot!\n",
      "I always wanted to know what's happening inside these NNs so I want to find a way to plot weights for my favorite NN (XOR) and see if I can understand anything about how they behave during training process."
     ]
    },
    {
     "cell_type": "code",
     "collapsed": false,
     "input": [
      "import matplotlib.pyplot as plt\n",
      "import theanets\n",
      "import time\n",
      "import numpy as np\n",
      "from numpy import float32\n",
      "dt = np.dtype(float32)\n",
      "trainer = theanets.feedforward.Regressor(layers=(2,2,(1,'logistic')))"
     ],
     "language": "python",
     "metadata": {},
     "outputs": [
      {
       "output_type": "stream",
       "stream": "stdout",
       "text": [
        "Couldn't import dot_parser, loading of dot files will not be possible.\n"
       ]
      }
     ],
     "prompt_number": 1
    },
    {
     "cell_type": "code",
     "collapsed": false,
     "input": [
      "dataset_input = np.array([[1,1],[0,1],[1,0],[0,0]],dt)\n",
      "dataset_output = np.array([[0],[1],[1],[0]],dt)\n",
      "np.save('network/XOR_Input.npy', dataset_input)\n",
      "np.save('network/XOR_Output.npy', dataset_output)\n",
      "np.save('network/XOR_Input.npy', np.concatenate((np.load('network/XOR_Input.npy', mmap_mode='r'),dataset_input)))\n",
      "np.save('network/XOR_Output.npy', np.concatenate((np.load('network/XOR_Output.npy', mmap_mode='r'),dataset_output)))\n",
      "BATCH_SIZE = 4\n",
      "training_data_ratio = 0.5\n",
      "def train_batch():\n",
      "    X = np.load('network/XOR_Input.npy', mmap_mode='r')\n",
      "    Y = np.load('network/XOR_Output.npy', mmap_mode='r')\n",
      "    cut = training_data_ratio * len(X)\n",
      "    if cut == BATCH_SIZE:\n",
      "        i = 0\n",
      "    else:\n",
      "        i = np.random.randint(cut-BATCH_SIZE)\n",
      "    return (X[i:i+BATCH_SIZE],Y[i:i+BATCH_SIZE])\n",
      "def valid_batch():\n",
      "    X = np.load('network/XOR_Input.npy', mmap_mode='r')\n",
      "    Y = np.load('network/XOR_Output.npy', mmap_mode='r')\n",
      "    cut = training_data_ratio * len(X)\n",
      "    if cut == len(X)-BATCH_SIZE:\n",
      "        i = cut\n",
      "    else:\n",
      "        i = np.random.randint(cut,len(X)-BATCH_SIZE)\n",
      "    return (X[i:i+BATCH_SIZE],Y[i:i+BATCH_SIZE])"
     ],
     "language": "python",
     "metadata": {},
     "outputs": [],
     "prompt_number": 2
    },
    {
     "cell_type": "code",
     "collapsed": false,
     "input": [
      "print trainer.find('hid1', 'b').get_value()\n",
      "print trainer.find('hid1', 'w').get_value()\n",
      "print trainer.find('out', 'b').get_value()\n",
      "print trainer.find('out', 'w').get_value()"
     ],
     "language": "python",
     "metadata": {},
     "outputs": [
      {
       "output_type": "stream",
       "stream": "stdout",
       "text": [
        "[-1.15093398  3.28787665]\n",
        "[[ 0.48318008  0.60989918]\n",
        " [ 0.92120928  0.43320099]]\n",
        "[-0.81879884]\n",
        "[[-0.04571631]\n",
        " [ 0.9527267 ]]\n"
       ]
      }
     ],
     "prompt_number": 3
    },
    {
     "cell_type": "code",
     "collapsed": false,
     "input": [
      "trainer.find('hid1', 'b').set_value([5,5])\n",
      "trainer.find('hid1', 'w').set_value([[1,-1],[-1,1]])\n",
      "trainer.find('out', 'b').set_value([20])\n",
      "trainer.find('out', 'w').set_value([[-3],[-3]])"
     ],
     "language": "python",
     "metadata": {},
     "outputs": [],
     "prompt_number": 4
    },
    {
     "cell_type": "code",
     "collapsed": false,
     "input": [
      "for i in range (1,2) :\n",
      "    for j in range (1) :\n",
      "        start = time.mktime(time.gmtime())\n",
      "        print \"training started ... \"\n",
      "        epoch_counter = 0\n",
      "        LR = 1e-2\n",
      "        for trn, val in trainer.itertrain(train_batch(),valid_batch(), algo='rprop',learning_rate = 1,iteration_size = 1,batch_size=BATCH_SIZE,validate_every = 1,patience=500) :\n",
      "            if epoch_counter%100 == 0 :\n",
      "                if epoch_counter < 1000:\n",
      "                    plt.figure(1 + epoch_counter/100)\n",
      "                    plt.plot(trainer.find('hid1', 'w').get_value())\n",
      "                print \"epoch \",epoch_counter+1\n",
      "                print \"training_error = \\t\",trn['err']\n",
      "                print \"validation_error = \\t\",val['err']\n",
      "            epoch_counter += 1\n",
      "        print \"\\t training ended\"\n",
      "        stop = time.mktime (time.gmtime())\n",
      "        print \"training time (seconds) \\t\" , stop - start"
     ],
     "language": "python",
     "metadata": {},
     "outputs": [
      {
       "output_type": "stream",
       "stream": "stdout",
       "text": [
        "training started ... \n",
        "epoch "
       ]
      },
      {
       "output_type": "stream",
       "stream": "stdout",
       "text": [
        " 1\n",
        "training_error = \t0.499999201203\n",
        "validation_error = \t0.499999201203\n",
        "epoch "
       ]
      },
      {
       "output_type": "stream",
       "stream": "stdout",
       "text": [
        " 101\n",
        "training_error = \t2.77810722861e-07\n",
        "validation_error = \t2.77810722861e-07\n",
        "epoch "
       ]
      },
      {
       "output_type": "stream",
       "stream": "stdout",
       "text": [
        " 201\n",
        "training_error = \t1.70373943755e-07\n",
        "validation_error = \t1.70373943755e-07\n",
        "epoch "
       ]
      },
      {
       "output_type": "stream",
       "stream": "stdout",
       "text": [
        " 301\n",
        "training_error = \t1.98527866444e-07\n",
        "validation_error = \t1.98527866444e-07\n",
        "epoch "
       ]
      },
      {
       "output_type": "stream",
       "stream": "stdout",
       "text": [
        " 401\n",
        "training_error = \t1.22334769496e-07\n",
        "validation_error = \t1.22334769496e-07\n",
        "epoch "
       ]
      },
      {
       "output_type": "stream",
       "stream": "stdout",
       "text": [
        " 501\n",
        "training_error = \t9.44256090614e-08\n",
        "validation_error = \t9.44256090614e-08\n",
        "epoch "
       ]
      },
      {
       "output_type": "stream",
       "stream": "stdout",
       "text": [
        " 601\n",
        "training_error = \t8.05428606517e-10\n",
        "validation_error = \t8.05428606517e-10\n",
        "epoch "
       ]
      },
      {
       "output_type": "stream",
       "stream": "stdout",
       "text": [
        " 701\n",
        "training_error = \t2.08652396658e-15\n",
        "validation_error = \t2.08652396658e-15\n",
        "epoch "
       ]
      },
      {
       "output_type": "stream",
       "stream": "stdout",
       "text": [
        " 801\n",
        "training_error = \t2.92304071074e-17\n",
        "validation_error = \t2.92304071074e-17\n",
        "epoch "
       ]
      },
      {
       "output_type": "stream",
       "stream": "stdout",
       "text": [
        " 901\n",
        "training_error = \t5.25644741952e-18\n",
        "validation_error = \t5.25644741952e-18\n",
        "epoch "
       ]
      },
      {
       "output_type": "stream",
       "stream": "stdout",
       "text": [
        " 1001\n",
        "training_error = \t2.88215911459e-17\n",
        "validation_error = \t2.88215911459e-17\n",
        "epoch "
       ]
      },
      {
       "output_type": "stream",
       "stream": "stdout",
       "text": [
        " 1101\n",
        "training_error = \t2.35613397425e-18\n",
        "validation_error = \t2.35613397425e-18\n",
        "epoch "
       ]
      },
      {
       "output_type": "stream",
       "stream": "stdout",
       "text": [
        " 1201\n",
        "training_error = \t5.21443427886e-18\n",
        "validation_error = \t5.21443427886e-18\n",
        "epoch "
       ]
      },
      {
       "output_type": "stream",
       "stream": "stdout",
       "text": [
        " 1301\n",
        "training_error = \t2.86730611764e-17\n",
        "validation_error = \t2.86730611764e-17\n",
        "epoch "
       ]
      },
      {
       "output_type": "stream",
       "stream": "stdout",
       "text": [
        " 1401\n",
        "training_error = \t2.3560395933e-18\n",
        "validation_error = \t2.3560395933e-18\n",
        "epoch "
       ]
      },
      {
       "output_type": "stream",
       "stream": "stdout",
       "text": [
        " 1501\n",
        "training_error = \t5.17317000793e-18\n",
        "validation_error = \t5.17317000793e-18\n",
        "epoch "
       ]
      },
      {
       "output_type": "stream",
       "stream": "stdout",
       "text": [
        " 1601\n",
        "training_error = \t2.85269490673e-17\n",
        "validation_error = \t2.85269490673e-17\n",
        "epoch "
       ]
      },
      {
       "output_type": "stream",
       "stream": "stdout",
       "text": [
        " 1701\n",
        "training_error = \t2.35594615523e-18\n",
        "validation_error = \t2.35594615523e-18\n",
        "epoch "
       ]
      },
      {
       "output_type": "stream",
       "stream": "stdout",
       "text": [
        " 1801\n",
        "training_error = \t5.13263803801e-18\n",
        "validation_error = \t5.13263803801e-18\n",
        "epoch "
       ]
      },
      {
       "output_type": "stream",
       "stream": "stdout",
       "text": [
        " 1901\n",
        "training_error = \t2.83832092655e-17\n",
        "validation_error = \t2.83832092655e-17\n",
        "epoch "
       ]
      },
      {
       "output_type": "stream",
       "stream": "stdout",
       "text": [
        " 2001\n",
        "training_error = \t2.35585365058e-18\n",
        "validation_error = \t2.35585365058e-18\n",
        "epoch "
       ]
      },
      {
       "output_type": "stream",
       "stream": "stdout",
       "text": [
        " 2101\n",
        "training_error = \t5.09282224124e-18\n",
        "validation_error = \t5.09282224124e-18\n",
        "epoch "
       ]
      },
      {
       "output_type": "stream",
       "stream": "stdout",
       "text": [
        " 2201\n",
        "training_error = \t2.82417931823e-17\n",
        "validation_error = \t2.82417931823e-17\n",
        "epoch "
       ]
      },
      {
       "output_type": "stream",
       "stream": "stdout",
       "text": [
        " 2301\n",
        "training_error = \t2.35576207e-18\n",
        "validation_error = \t2.35576207e-18\n",
        "epoch "
       ]
      },
      {
       "output_type": "stream",
       "stream": "stdout",
       "text": [
        " 2401\n",
        "training_error = \t5.05370691703e-18\n",
        "validation_error = \t5.05370691703e-18\n",
        "epoch "
       ]
      },
      {
       "output_type": "stream",
       "stream": "stdout",
       "text": [
        " 2501\n",
        "training_error = \t2.81026613683e-17\n",
        "validation_error = \t2.81026613683e-17\n",
        "epoch "
       ]
      },
      {
       "output_type": "stream",
       "stream": "stdout",
       "text": [
        " 2601\n",
        "training_error = \t2.3556714042e-18\n",
        "validation_error = \t2.3556714042e-18\n",
        "epoch "
       ]
      },
      {
       "output_type": "stream",
       "stream": "stdout",
       "text": [
        " 2701\n",
        "training_error = \t5.01527677897e-18\n",
        "validation_error = \t5.01527677897e-18\n",
        "epoch "
       ]
      },
      {
       "output_type": "stream",
       "stream": "stdout",
       "text": [
        " 2801\n",
        "training_error = \t2.79657643602e-17\n",
        "validation_error = \t2.79657643602e-17\n",
        "epoch "
       ]
      },
      {
       "output_type": "stream",
       "stream": "stdout",
       "text": [
        " 2901\n",
        "training_error = \t2.35558164403e-18\n",
        "validation_error = \t2.35558164403e-18\n",
        "epoch "
       ]
      },
      {
       "output_type": "stream",
       "stream": "stdout",
       "text": [
        " 3001\n",
        "training_error = \t4.9775169421e-18\n",
        "validation_error = \t4.9775169421e-18\n",
        "epoch "
       ]
      },
      {
       "output_type": "stream",
       "stream": "stdout",
       "text": [
        " 3101\n",
        "training_error = \t2.78310625077e-17\n",
        "validation_error = \t2.78310625077e-17\n",
        "epoch "
       ]
      },
      {
       "output_type": "stream",
       "stream": "stdout",
       "text": [
        " 3201\n",
        "training_error = \t2.3554927804e-18\n",
        "validation_error = \t2.3554927804e-18\n",
        "epoch "
       ]
      },
      {
       "output_type": "stream",
       "stream": "stdout",
       "text": [
        " 3301\n",
        "training_error = \t4.94041291076e-18\n",
        "validation_error = \t4.94041291076e-18\n",
        "epoch "
       ]
      },
      {
       "output_type": "stream",
       "stream": "stdout",
       "text": [
        " 3401\n",
        "training_error = \t2.76985132675e-17\n",
        "validation_error = \t2.76985132675e-17\n",
        "epoch "
       ]
      },
      {
       "output_type": "stream",
       "stream": "stdout",
       "text": [
        " 3501\n",
        "training_error = \t2.35540480432e-18\n",
        "validation_error = \t2.35540480432e-18\n",
        "epoch "
       ]
      },
      {
       "output_type": "stream",
       "stream": "stdout",
       "text": [
        " 3601\n",
        "training_error = \t4.90395056673e-18\n",
        "validation_error = \t4.90395056673e-18\n",
        "epoch "
       ]
      },
      {
       "output_type": "stream",
       "stream": "stdout",
       "text": [
        " 3701\n",
        "training_error = \t2.75680748787e-17\n",
        "validation_error = \t2.75680748787e-17\n",
        "epoch "
       ]
      },
      {
       "output_type": "stream",
       "stream": "stdout",
       "text": [
        " 3801\n",
        "training_error = \t2.35531770691e-18\n",
        "validation_error = \t2.35531770691e-18\n",
        "epoch "
       ]
      },
      {
       "output_type": "stream",
       "stream": "stdout",
       "text": [
        " 3901\n",
        "training_error = \t4.86811615783e-18\n",
        "validation_error = \t4.86811615783e-18\n",
        "epoch "
       ]
      },
      {
       "output_type": "stream",
       "stream": "stdout",
       "text": [
        " 4001\n",
        "training_error = \t2.74397087974e-17\n",
        "validation_error = \t2.74397087974e-17\n",
        "epoch "
       ]
      },
      {
       "output_type": "stream",
       "stream": "stdout",
       "text": [
        " 4101\n",
        "training_error = \t2.35523147934e-18\n",
        "validation_error = \t2.35523147934e-18\n",
        "epoch "
       ]
      },
      {
       "output_type": "stream",
       "stream": "stdout",
       "text": [
        " 4201\n",
        "training_error = \t4.83289839072e-18\n",
        "validation_error = \t4.83289839072e-18\n",
        "epoch "
       ]
      },
      {
       "output_type": "stream",
       "stream": "stdout",
       "text": [
        " 4301\n",
        "training_error = \t2.73133736983e-17\n",
        "validation_error = \t2.73133736983e-17\n",
        "epoch "
       ]
      },
      {
       "output_type": "stream",
       "stream": "stdout",
       "text": [
        " 4401\n",
        "training_error = \t2.3551461129e-18\n",
        "validation_error = \t2.3551461129e-18\n",
        "epoch "
       ]
      },
      {
       "output_type": "stream",
       "stream": "stdout",
       "text": [
        " 4501\n",
        "training_error = \t4.79827999009e-18\n",
        "validation_error = \t4.79827999009e-18\n",
        "epoch "
       ]
      },
      {
       "output_type": "stream",
       "stream": "stdout",
       "text": [
        " 4601\n",
        "training_error = \t2.71890351251e-17\n",
        "validation_error = \t2.71890351251e-17\n",
        "epoch "
       ]
      },
      {
       "output_type": "stream",
       "stream": "stdout",
       "text": [
        " 4701\n",
        "training_error = \t2.35506159896e-18\n",
        "validation_error = \t2.35506159896e-18\n",
        "epoch "
       ]
      },
      {
       "output_type": "stream",
       "stream": "stdout",
       "text": [
        " 4801\n",
        "training_error = \t4.76425254281e-18\n",
        "validation_error = \t4.76425254281e-18\n",
        "epoch "
       ]
      },
      {
       "output_type": "stream",
       "stream": "stdout",
       "text": [
        " 4901\n",
        "training_error = \t2.70666510149e-17\n",
        "validation_error = \t2.70666510149e-17\n",
        "epoch "
       ]
      },
      {
       "output_type": "stream",
       "stream": "stdout",
       "text": [
        " 5001\n",
        "training_error = \t2.35497792898e-18\n",
        "validation_error = \t2.35497792898e-18\n",
        "epoch "
       ]
      },
      {
       "output_type": "stream",
       "stream": "stdout",
       "text": [
        " 5101\n",
        "training_error = \t4.73079709517e-18\n",
        "validation_error = \t4.73079709517e-18\n",
        "epoch "
       ]
      },
      {
       "output_type": "stream",
       "stream": "stdout",
       "text": [
        " 5201\n",
        "training_error = \t2.69461893296e-17\n",
        "validation_error = \t2.69461893296e-17\n",
        "epoch "
       ]
      },
      {
       "output_type": "stream",
       "stream": "stdout",
       "text": [
        " 5301\n",
        "training_error = \t2.3548950945e-18\n",
        "validation_error = \t2.3548950945e-18\n",
        "epoch "
       ]
      },
      {
       "output_type": "stream",
       "stream": "stdout",
       "text": [
        " 5401\n",
        "training_error = \t4.69790812658e-18\n",
        "validation_error = \t4.69790812658e-18\n",
        "epoch "
       ]
      },
      {
       "output_type": "stream",
       "stream": "stdout",
       "text": [
        " 5501\n",
        "training_error = \t2.68276104333e-17\n",
        "validation_error = \t2.68276104333e-17\n",
        "epoch "
       ]
      },
      {
       "output_type": "stream",
       "stream": "stdout",
       "text": [
        " 5601\n",
        "training_error = \t2.35481308715e-18\n",
        "validation_error = \t2.35481308715e-18\n",
        "epoch "
       ]
      },
      {
       "output_type": "stream",
       "stream": "stdout",
       "text": [
        " 5701\n",
        "training_error = \t4.66556964482e-18\n",
        "validation_error = \t4.66556964482e-18\n",
        "epoch "
       ]
      },
      {
       "output_type": "stream",
       "stream": "stdout",
       "text": [
        " 5801\n",
        "training_error = \t2.67108809455e-17\n",
        "validation_error = \t2.67108809455e-17\n",
        "epoch "
       ]
      },
      {
       "output_type": "stream",
       "stream": "stdout",
       "text": [
        " 5901\n",
        "training_error = \t2.35473189864e-18\n",
        "validation_error = \t2.35473189864e-18\n",
        "epoch "
       ]
      },
      {
       "output_type": "stream",
       "stream": "stdout",
       "text": [
        " 6001\n",
        "training_error = \t4.63377424795e-18\n",
        "validation_error = \t4.63377424795e-18\n",
        "epoch "
       ]
      },
      {
       "output_type": "stream",
       "stream": "stdout",
       "text": [
        " 6101\n",
        "training_error = \t2.65959678093e-17\n",
        "validation_error = \t2.65959678093e-17\n",
        "epoch "
       ]
      },
      {
       "output_type": "stream",
       "stream": "stdout",
       "text": [
        " 6201\n",
        "training_error = \t2.35465152077e-18\n",
        "validation_error = \t2.35465152077e-18\n",
        "epoch "
       ]
      },
      {
       "output_type": "stream",
       "stream": "stdout",
       "text": [
        " 6301\n",
        "training_error = \t4.60250870016e-18\n",
        "validation_error = \t4.60250870016e-18\n",
        "epoch "
       ]
      },
      {
       "output_type": "stream",
       "stream": "stdout",
       "text": [
        " 6401\n",
        "training_error = \t2.64828367874e-17\n",
        "validation_error = \t2.64828367874e-17\n",
        "epoch "
       ]
      },
      {
       "output_type": "stream",
       "stream": "stdout",
       "text": [
        " 6501\n",
        "training_error = \t2.35457194541e-18\n",
        "validation_error = \t2.35457194541e-18\n",
        "epoch "
       ]
      },
      {
       "output_type": "stream",
       "stream": "stdout",
       "text": [
        " 6601\n",
        "training_error = \t4.57176209017e-18\n",
        "validation_error = \t4.57176209017e-18\n",
        "epoch "
       ]
      },
      {
       "output_type": "stream",
       "stream": "stdout",
       "text": [
        " 6701\n",
        "training_error = \t2.63714545155e-17\n",
        "validation_error = \t2.63714545155e-17\n",
        "epoch "
       ]
      },
      {
       "output_type": "stream",
       "stream": "stdout",
       "text": [
        " 6801\n",
        "training_error = \t2.35449316453e-18\n",
        "validation_error = \t2.35449316453e-18\n",
        "epoch "
       ]
      },
      {
       "output_type": "stream",
       "stream": "stdout",
       "text": [
        " 6901\n",
        "training_error = \t4.54152377788e-18\n",
        "validation_error = \t4.54152377788e-18\n",
        "epoch "
       ]
      },
      {
       "output_type": "stream",
       "stream": "stdout",
       "text": [
        " 7001\n",
        "training_error = \t2.62617895536e-17\n",
        "validation_error = \t2.62617895536e-17\n",
        "epoch "
       ]
      },
      {
       "output_type": "stream",
       "stream": "stdout",
       "text": [
        " 7101\n",
        "training_error = \t2.35441517017e-18\n",
        "validation_error = \t2.35441517017e-18\n",
        "epoch "
       ]
      },
      {
       "output_type": "stream",
       "stream": "stdout",
       "text": [
        " 7201\n",
        "training_error = \t4.51178338649e-18\n",
        "validation_error = \t4.51178338649e-18\n",
        "epoch "
       ]
      },
      {
       "output_type": "stream",
       "stream": "stdout",
       "text": [
        " 7301\n",
        "training_error = \t2.61538092245e-17\n",
        "validation_error = \t2.61538092245e-17\n",
        "epoch "
       ]
      },
      {
       "output_type": "stream",
       "stream": "stdout",
       "text": [
        " 7401\n",
        "training_error = \t2.35433795444e-18\n",
        "validation_error = \t2.35433795444e-18\n",
        "epoch "
       ]
      },
      {
       "output_type": "stream",
       "stream": "stdout",
       "text": [
        " 7501\n",
        "training_error = \t4.48253079496e-18\n",
        "validation_error = \t4.48253079496e-18\n",
        "epoch "
       ]
      },
      {
       "output_type": "stream",
       "stream": "stdout",
       "text": [
        " 7601\n",
        "training_error = \t2.60474843198e-17\n",
        "validation_error = \t2.60474843198e-17\n",
        "epoch "
       ]
      },
      {
       "output_type": "stream",
       "stream": "stdout",
       "text": [
        " 7701\n",
        "training_error = \t2.35426150956e-18\n",
        "validation_error = \t2.35426150956e-18\n",
        "epoch "
       ]
      },
      {
       "output_type": "stream",
       "stream": "stdout",
       "text": [
        " 7801\n",
        "training_error = \t4.45375613064e-18\n",
        "validation_error = \t4.45375613064e-18\n",
        "epoch "
       ]
      },
      {
       "output_type": "stream",
       "stream": "stdout",
       "text": [
        " 7901\n",
        "training_error = \t2.59427859359e-17\n",
        "validation_error = \t2.59427859359e-17\n",
        "epoch "
       ]
      },
      {
       "output_type": "stream",
       "stream": "stdout",
       "text": [
        " 8001\n",
        "training_error = \t2.35418582781e-18\n",
        "validation_error = \t2.35418582781e-18\n",
        "epoch "
       ]
      },
      {
       "output_type": "stream",
       "stream": "stdout",
       "text": [
        " 8101\n",
        "training_error = \t4.42544976217e-18\n",
        "validation_error = \t4.42544976217e-18\n",
        "epoch "
       ]
      },
      {
       "output_type": "stream",
       "stream": "stdout",
       "text": [
        " 8201\n",
        "training_error = \t2.58396823541e-17\n",
        "validation_error = \t2.58396823541e-17\n",
        "epoch "
       ]
      },
      {
       "output_type": "stream",
       "stream": "stdout",
       "text": [
        " 8301\n",
        "training_error = \t2.35411090153e-18\n",
        "validation_error = \t2.35411090153e-18\n",
        "epoch "
       ]
      },
      {
       "output_type": "stream",
       "stream": "stdout",
       "text": [
        " 8401\n",
        "training_error = \t4.39760229262e-18\n",
        "validation_error = \t4.39760229262e-18\n",
        "epoch "
       ]
      },
      {
       "output_type": "stream",
       "stream": "stdout",
       "text": [
        " 8501\n",
        "training_error = \t2.57381452854e-17\n",
        "validation_error = \t2.57381452854e-17\n",
        "epoch "
       ]
      },
      {
       "output_type": "stream",
       "stream": "stdout",
       "text": [
        " 8601\n",
        "training_error = \t2.35403672317e-18\n",
        "validation_error = \t2.35403672317e-18\n",
        "epoch "
       ]
      },
      {
       "output_type": "stream",
       "stream": "stdout",
       "text": [
        " 8701\n",
        "training_error = \t4.37020455283e-18\n",
        "validation_error = \t4.37020455283e-18\n",
        "epoch "
       ]
      },
      {
       "output_type": "stream",
       "stream": "stdout",
       "text": [
        " 8801\n",
        "training_error = \t2.56381467292e-17\n",
        "validation_error = \t2.56381467292e-17\n",
        "epoch "
       ]
      },
      {
       "output_type": "stream",
       "stream": "stdout",
       "text": [
        " 8901\n",
        "training_error = \t2.35396328523e-18\n",
        "validation_error = \t2.35396328523e-18\n",
        "epoch "
       ]
      },
      {
       "output_type": "stream",
       "stream": "stdout",
       "text": [
        " 9001\n",
        "training_error = \t4.343247595e-18\n",
        "validation_error = \t4.343247595e-18\n",
        "epoch "
       ]
      },
      {
       "output_type": "stream",
       "stream": "stdout",
       "text": [
        " 9101\n",
        "training_error = \t2.55396605154e-17\n",
        "validation_error = \t2.55396605154e-17\n",
        "epoch "
       ]
      },
      {
       "output_type": "stream",
       "stream": "stdout",
       "text": [
        " 9201\n",
        "training_error = \t2.35389058031e-18\n",
        "validation_error = \t2.35389058031e-18\n",
        "epoch "
       ]
      },
      {
       "output_type": "stream",
       "stream": "stdout",
       "text": [
        " 9301\n",
        "training_error = \t4.31672268641e-18\n",
        "validation_error = \t4.31672268641e-18\n",
        "epoch "
       ]
      },
      {
       "output_type": "stream",
       "stream": "stdout",
       "text": [
        " 9401\n",
        "training_error = \t2.54426576514e-17\n",
        "validation_error = \t2.54426576514e-17\n",
        "epoch "
       ]
      },
      {
       "output_type": "stream",
       "stream": "stdout",
       "text": [
        " 9501\n",
        "training_error = \t2.35381860106e-18\n",
        "validation_error = \t2.35381860106e-18\n",
        "epoch "
       ]
      },
      {
       "output_type": "stream",
       "stream": "stdout",
       "text": [
        " 9601\n",
        "training_error = \t4.29062130343e-18\n",
        "validation_error = \t4.29062130343e-18\n",
        "epoch "
       ]
      },
      {
       "output_type": "stream",
       "stream": "stdout",
       "text": [
        " 9701\n",
        "training_error = \t2.5347112512e-17\n",
        "validation_error = \t2.5347112512e-17\n",
        "epoch "
       ]
      },
      {
       "output_type": "stream",
       "stream": "stdout",
       "text": [
        " 9801\n",
        "training_error = \t2.35374734022e-18\n",
        "validation_error = \t2.35374734022e-18\n",
        "epoch "
       ]
      },
      {
       "output_type": "stream",
       "stream": "stdout",
       "text": [
        " 9901\n",
        "training_error = \t4.26493512567e-18\n",
        "validation_error = \t4.26493512567e-18\n",
        "epoch "
       ]
      },
      {
       "output_type": "stream",
       "stream": "stdout",
       "text": [
        " 10001\n",
        "training_error = \t2.52529997271e-17\n",
        "validation_error = \t2.52529997271e-17\n",
        "epoch "
       ]
      },
      {
       "output_type": "stream",
       "stream": "stdout",
       "text": [
        " 10101\n",
        "training_error = \t2.3536767906e-18\n",
        "validation_error = \t2.3536767906e-18\n",
        "epoch "
       ]
      },
      {
       "output_type": "stream",
       "stream": "stdout",
       "text": [
        " 10201\n",
        "training_error = \t4.23965603033e-18\n",
        "validation_error = \t4.23965603033e-18\n",
        "epoch "
       ]
      },
      {
       "output_type": "stream",
       "stream": "stdout",
       "text": [
        " 10301\n",
        "training_error = \t2.51602941776e-17\n",
        "validation_error = \t2.51602941776e-17\n",
        "epoch "
       ]
      },
      {
       "output_type": "stream",
       "stream": "stdout",
       "text": [
        " 10401\n",
        "training_error = \t2.35360694508e-18\n",
        "validation_error = \t2.35360694508e-18\n",
        "epoch "
       ]
      },
      {
       "output_type": "stream",
       "stream": "stdout",
       "text": [
        " 10501\n",
        "training_error = \t4.21477608669e-18\n",
        "validation_error = \t4.21477608669e-18\n",
        "epoch "
       ]
      },
      {
       "output_type": "stream",
       "stream": "stdout",
       "text": [
        " 10601\n",
        "training_error = \t2.50689694598e-17\n",
        "validation_error = \t2.50689694598e-17\n",
        "epoch "
       ]
      },
      {
       "output_type": "stream",
       "stream": "stdout",
       "text": [
        " 10701\n",
        "training_error = \t2.3535377966e-18\n",
        "validation_error = \t2.3535377966e-18\n",
        "epoch "
       ]
      },
      {
       "output_type": "stream",
       "stream": "stdout",
       "text": [
        " 10801\n",
        "training_error = \t4.19028755085e-18\n",
        "validation_error = \t4.19028755085e-18\n",
        "epoch "
       ]
      },
      {
       "output_type": "stream",
       "stream": "stdout",
       "text": [
        " 10901\n",
        "training_error = \t2.49790040072e-17\n",
        "validation_error = \t2.49790040072e-17\n",
        "epoch "
       ]
      },
      {
       "output_type": "stream",
       "stream": "stdout",
       "text": [
        " 11001\n",
        "training_error = \t2.35346933821e-18\n",
        "validation_error = \t2.35346933821e-18\n",
        "epoch "
       ]
      },
      {
       "output_type": "stream",
       "stream": "stdout",
       "text": [
        " 11101\n",
        "training_error = \t4.16618286056e-18\n",
        "validation_error = \t4.16618286056e-18\n",
        "epoch "
       ]
      },
      {
       "output_type": "stream",
       "stream": "stdout",
       "text": [
        " 11201\n",
        "training_error = \t2.48903703681e-17\n",
        "validation_error = \t2.48903703681e-17\n",
        "epoch "
       ]
      },
      {
       "output_type": "stream",
       "stream": "stdout",
       "text": [
        " 11301\n",
        "training_error = \t2.35340156298e-18\n",
        "validation_error = \t2.35340156298e-18\n",
        "epoch "
       ]
      },
      {
       "output_type": "stream",
       "stream": "stdout",
       "text": [
        " 11401\n",
        "training_error = \t4.14245463026e-18\n",
        "validation_error = \t4.14245463026e-18\n",
        "epoch "
       ]
      },
      {
       "output_type": "stream",
       "stream": "stdout",
       "text": [
        " 11501\n",
        "training_error = \t2.48030489559e-17\n",
        "validation_error = \t2.48030489559e-17\n",
        "epoch "
       ]
      },
      {
       "output_type": "stream",
       "stream": "stdout",
       "text": [
        " 11601\n",
        "training_error = \t2.35333446408e-18\n",
        "validation_error = \t2.35333446408e-18\n",
        "epoch "
       ]
      },
      {
       "output_type": "stream",
       "stream": "stdout",
       "text": [
        " 11701\n",
        "training_error = \t4.11909564624e-18\n",
        "validation_error = \t4.11909564624e-18\n",
        "epoch "
       ]
      },
      {
       "output_type": "stream",
       "stream": "stdout",
       "text": [
        " 11801\n",
        "training_error = \t2.47170143029e-17\n",
        "validation_error = \t2.47170143029e-17\n",
        "epoch "
       ]
      },
      {
       "output_type": "stream",
       "stream": "stdout",
       "text": [
        " 11901\n",
        "training_error = \t2.35326803475e-18\n",
        "validation_error = \t2.35326803475e-18\n",
        "epoch "
       ]
      },
      {
       "output_type": "stream",
       "stream": "stdout",
       "text": [
        " 12001\n",
        "training_error = \t4.096098862e-18\n",
        "validation_error = \t4.096098862e-18\n",
        "epoch "
       ]
      },
      {
       "output_type": "stream",
       "stream": "stdout",
       "text": [
        " 12101\n",
        "training_error = \t2.46322457251e-17\n",
        "validation_error = \t2.46322457251e-17\n",
        "epoch "
       ]
      },
      {
       "output_type": "stream",
       "stream": "stdout",
       "text": [
        " 12201\n",
        "training_error = \t2.35320226827e-18\n",
        "validation_error = \t2.35320226827e-18\n",
        "epoch "
       ]
      },
      {
       "output_type": "stream",
       "stream": "stdout",
       "text": [
        " 12301\n",
        "training_error = \t4.07345739365e-18\n",
        "validation_error = \t4.07345739365e-18\n",
        "epoch "
       ]
      },
      {
       "output_type": "stream",
       "stream": "stdout",
       "text": [
        " 12401\n",
        "training_error = \t2.45487212235e-17\n",
        "validation_error = \t2.45487212235e-17\n",
        "epoch "
       ]
      },
      {
       "output_type": "stream",
       "stream": "stdout",
       "text": [
        " 12501\n",
        "training_error = \t2.35313715803e-18\n",
        "validation_error = \t2.35313715803e-18\n",
        "epoch "
       ]
      },
      {
       "output_type": "stream",
       "stream": "stdout",
       "text": [
        " 12601\n",
        "training_error = \t4.05116451559e-18\n",
        "validation_error = \t4.05116451559e-18\n",
        "epoch "
       ]
      },
      {
       "output_type": "stream",
       "stream": "stdout",
       "text": [
        " 12701\n",
        "training_error = \t2.44664174954e-17\n",
        "validation_error = \t2.44664174954e-17\n",
        "epoch "
       ]
      },
      {
       "output_type": "stream",
       "stream": "stdout",
       "text": [
        " 12801\n",
        "training_error = \t2.35307269745e-18\n",
        "validation_error = \t2.35307269745e-18\n",
        "epoch "
       ]
      },
      {
       "output_type": "stream",
       "stream": "stdout",
       "text": [
        " 12901\n",
        "training_error = \t4.02921365623e-18\n",
        "validation_error = \t4.02921365623e-18\n",
        "epoch "
       ]
      },
      {
       "output_type": "stream",
       "stream": "stdout",
       "text": [
        " 13001\n",
        "training_error = \t2.43853159715e-17\n",
        "validation_error = \t2.43853159715e-17\n",
        "epoch "
       ]
      },
      {
       "output_type": "stream",
       "stream": "stdout",
       "text": [
        " 13101\n",
        "training_error = \t2.35300888004e-18\n",
        "validation_error = \t2.35300888004e-18\n",
        "epoch "
       ]
      },
      {
       "output_type": "stream",
       "stream": "stdout",
       "text": [
        " 13201\n",
        "training_error = \t4.00759839386e-18\n",
        "validation_error = \t4.00759839386e-18\n",
        "epoch "
       ]
      },
      {
       "output_type": "stream",
       "stream": "stdout",
       "text": [
        " 13301\n",
        "training_error = \t2.43053937471e-17\n",
        "validation_error = \t2.43053937471e-17\n",
        "epoch "
       ]
      },
      {
       "output_type": "stream",
       "stream": "stdout",
       "text": [
        " 13401\n",
        "training_error = \t2.35294569936e-18\n",
        "validation_error = \t2.35294569936e-18\n",
        "epoch "
       ]
      },
      {
       "output_type": "stream",
       "stream": "stdout",
       "text": [
        " 13501\n",
        "training_error = \t3.98631245263e-18\n",
        "validation_error = \t3.98631245263e-18\n",
        "epoch "
       ]
      },
      {
       "output_type": "stream",
       "stream": "stdout",
       "text": [
        " 13601\n",
        "training_error = \t2.42266326263e-17\n",
        "validation_error = \t2.42266326263e-17\n",
        "epoch "
       ]
      },
      {
       "output_type": "stream",
       "stream": "stdout",
       "text": [
        " 13701\n",
        "training_error = \t2.35288314904e-18\n",
        "validation_error = \t2.35288314904e-18\n",
        "epoch "
       ]
      },
      {
       "output_type": "stream",
       "stream": "stdout",
       "text": [
        " 13801\n",
        "training_error = \t3.96534969871e-18\n",
        "validation_error = \t3.96534969871e-18\n",
        "epoch "
       ]
      },
      {
       "output_type": "stream",
       "stream": "stdout",
       "text": [
        " 13901\n",
        "training_error = \t2.41490115867e-17\n",
        "validation_error = \t2.41490115867e-17\n",
        "epoch "
       ]
      },
      {
       "output_type": "stream",
       "stream": "stdout",
       "text": [
        " 14001\n",
        "training_error = \t2.35282122277e-18\n",
        "validation_error = \t2.35282122277e-18\n",
        "epoch "
       ]
      },
      {
       "output_type": "stream",
       "stream": "stdout",
       "text": [
        " 14101\n",
        "training_error = \t3.9447041365e-18\n",
        "validation_error = \t3.9447041365e-18\n",
        "epoch "
       ]
      },
      {
       "output_type": "stream",
       "stream": "stdout",
       "text": [
        " 14201\n",
        "training_error = \t2.40725127847e-17\n",
        "validation_error = \t2.40725127847e-17\n",
        "epoch "
       ]
      },
      {
       "output_type": "stream",
       "stream": "stdout",
       "text": [
        " 14301\n",
        "training_error = \t2.35275991432e-18\n",
        "validation_error = \t2.35275991432e-18\n",
        "epoch "
       ]
      },
      {
       "output_type": "stream",
       "stream": "stdout",
       "text": [
        " 14401\n",
        "training_error = \t3.92436990499e-18\n",
        "validation_error = \t3.92436990499e-18\n",
        "epoch "
       ]
      },
      {
       "output_type": "stream",
       "stream": "stdout",
       "text": [
        " 14501\n",
        "training_error = \t2.39971155549e-17\n",
        "validation_error = \t2.39971155549e-17\n",
        "epoch "
       ]
      },
      {
       "output_type": "stream",
       "stream": "stdout",
       "text": [
        " 14601\n",
        "training_error = \t2.3526992175e-18\n",
        "validation_error = \t2.3526992175e-18\n",
        "epoch "
       ]
      },
      {
       "output_type": "stream",
       "stream": "stdout",
       "text": [
        " 14701\n",
        "training_error = \t3.90434127421e-18\n",
        "validation_error = \t3.90434127421e-18\n",
        "epoch "
       ]
      },
      {
       "output_type": "stream",
       "stream": "stdout",
       "text": [
        " 14801\n",
        "training_error = \t2.39228009041e-17\n",
        "validation_error = \t2.39228009041e-17\n",
        "epoch "
       ]
      },
      {
       "output_type": "stream",
       "stream": "stdout",
       "text": [
        " 14901\n",
        "training_error = \t2.3526391262e-18\n",
        "validation_error = \t2.3526391262e-18\n",
        "epoch "
       ]
      },
      {
       "output_type": "stream",
       "stream": "stdout",
       "text": [
        " 15001\n",
        "training_error = \t3.88461264183e-18\n",
        "validation_error = \t3.88461264183e-18\n",
        "epoch "
       ]
      },
      {
       "output_type": "stream",
       "stream": "stdout",
       "text": [
        " 15101\n",
        "training_error = \t2.38495529813e-17\n",
        "validation_error = \t2.38495529813e-17\n",
        "epoch "
       ]
      },
      {
       "output_type": "stream",
       "stream": "stdout",
       "text": [
        " 15201\n",
        "training_error = \t2.35257963435e-18\n",
        "validation_error = \t2.35257963435e-18\n",
        "epoch "
       ]
      },
      {
       "output_type": "stream",
       "stream": "stdout",
       "text": [
        " 15301\n",
        "training_error = \t3.86517852977e-18\n",
        "validation_error = \t3.86517852977e-18\n",
        "epoch "
       ]
      },
      {
       "output_type": "stream",
       "stream": "stdout",
       "text": [
        " 15401\n",
        "training_error = \t2.37773516261e-17\n",
        "validation_error = \t2.37773516261e-17\n",
        "epoch "
       ]
      },
      {
       "output_type": "stream",
       "stream": "stdout",
       "text": [
        " 15501\n",
        "training_error = \t2.35252073598e-18\n",
        "validation_error = \t2.35252073598e-18\n",
        "epoch "
       ]
      },
      {
       "output_type": "stream",
       "stream": "stdout",
       "text": [
        " 15601\n",
        "training_error = \t3.84603358103e-18\n",
        "validation_error = \t3.84603358103e-18\n",
        "epoch "
       ]
      },
      {
       "output_type": "stream",
       "stream": "stdout",
       "text": [
        " 15701\n",
        "training_error = \t2.37061812972e-17\n",
        "validation_error = \t2.37061812972e-17\n",
        "epoch "
       ]
      },
      {
       "output_type": "stream",
       "stream": "stdout",
       "text": [
        " 15801\n",
        "training_error = \t2.35246242513e-18\n",
        "validation_error = \t2.35246242513e-18\n",
        "epoch "
       ]
      },
      {
       "output_type": "stream",
       "stream": "stdout",
       "text": [
        " 15901\n",
        "training_error = \t3.82717255651e-18\n",
        "validation_error = \t3.82717255651e-18\n",
        "epoch "
       ]
      },
      {
       "output_type": "stream",
       "stream": "stdout",
       "text": [
        " 16001\n",
        "training_error = \t2.36360221538e-17\n",
        "validation_error = \t2.36360221538e-17\n",
        "epoch "
       ]
      },
      {
       "output_type": "stream",
       "stream": "stdout",
       "text": [
        " 16101\n",
        "training_error = \t2.35240469594e-18\n",
        "validation_error = \t2.35240469594e-18\n",
        "epoch "
       ]
      },
      {
       "output_type": "stream",
       "stream": "stdout",
       "text": [
        " 16201\n",
        "training_error = \t3.80859033197e-18\n",
        "validation_error = \t3.80859033197e-18\n",
        "epoch "
       ]
      },
      {
       "output_type": "stream",
       "stream": "stdout",
       "text": [
        " 16301\n",
        "training_error = \t2.35668604299e-17\n",
        "validation_error = \t2.35668604299e-17\n",
        "epoch "
       ]
      },
      {
       "output_type": "stream",
       "stream": "stdout",
       "text": [
        " 16401\n",
        "training_error = \t2.35234754258e-18\n",
        "validation_error = \t2.35234754258e-18\n",
        "epoch "
       ]
      },
      {
       "output_type": "stream",
       "stream": "stdout",
       "text": [
        " 16501\n",
        "training_error = \t3.79028189511e-18\n",
        "validation_error = \t3.79028189511e-18\n",
        "epoch "
       ]
      },
      {
       "output_type": "stream",
       "stream": "stdout",
       "text": [
        " 16601\n",
        "training_error = \t2.34986765862e-17\n",
        "validation_error = \t2.34986765862e-17\n",
        "epoch "
       ]
      },
      {
       "output_type": "stream",
       "stream": "stdout",
       "text": [
        " 16701\n",
        "training_error = \t2.35229095931e-18\n",
        "validation_error = \t2.35229095931e-18\n",
        "epoch "
       ]
      },
      {
       "output_type": "stream",
       "stream": "stdout",
       "text": [
        " 16801\n",
        "training_error = \t3.77224234266e-18\n",
        "validation_error = \t3.77224234266e-18\n",
        "epoch "
       ]
      },
      {
       "output_type": "stream",
       "stream": "stdout",
       "text": [
        " 16901\n",
        "training_error = \t2.34314556604e-17\n",
        "validation_error = \t2.34314556604e-17\n",
        "epoch "
       ]
      },
      {
       "output_type": "stream",
       "stream": "stdout",
       "text": [
        " 17001\n",
        "training_error = \t2.35223494042e-18\n",
        "validation_error = \t2.35223494042e-18\n",
        "epoch "
       ]
      },
      {
       "output_type": "stream",
       "stream": "stdout",
       "text": [
        " 17101\n",
        "training_error = \t3.7544668776e-18\n",
        "validation_error = \t3.7544668776e-18\n",
        "epoch "
       ]
      },
      {
       "output_type": "stream",
       "stream": "stdout",
       "text": [
        " 17201\n",
        "training_error = \t2.33651828199e-17\n",
        "validation_error = \t2.33651828199e-17\n",
        "epoch "
       ]
      },
      {
       "output_type": "stream",
       "stream": "stdout",
       "text": [
        " 17301\n",
        "training_error = \t2.35217948027e-18\n",
        "validation_error = \t2.35217948027e-18\n",
        "epoch "
       ]
      },
      {
       "output_type": "stream",
       "stream": "stdout",
       "text": [
        " 17401\n",
        "training_error = \t3.7369508065e-18\n",
        "validation_error = \t3.7369508065e-18\n",
        "epoch "
       ]
      },
      {
       "output_type": "stream",
       "stream": "stdout",
       "text": [
        " 17501\n",
        "training_error = \t2.3299841892e-17\n",
        "validation_error = \t2.3299841892e-17\n",
        "epoch "
       ]
      },
      {
       "output_type": "stream",
       "stream": "stdout",
       "text": [
        " 17601\n",
        "training_error = \t2.35212457327e-18\n",
        "validation_error = \t2.35212457327e-18\n",
        "epoch "
       ]
      },
      {
       "output_type": "stream",
       "stream": "stdout",
       "text": [
        " 17701\n",
        "training_error = \t3.71968953683e-18\n",
        "validation_error = \t3.71968953683e-18\n",
        "epoch "
       ]
      },
      {
       "output_type": "stream",
       "stream": "stdout",
       "text": [
        " 17801\n",
        "training_error = \t2.32354168386e-17\n",
        "validation_error = \t2.32354168386e-17\n",
        "epoch "
       ]
      },
      {
       "output_type": "stream",
       "stream": "stdout",
       "text": [
        " 17901\n",
        "training_error = \t2.3520702139e-18\n",
        "validation_error = \t2.3520702139e-18\n",
        "epoch "
       ]
      },
      {
       "output_type": "stream",
       "stream": "stdout",
       "text": [
        " 18001\n",
        "training_error = \t3.70267857445e-18\n",
        "validation_error = \t3.70267857445e-18\n",
        "epoch "
       ]
      },
      {
       "output_type": "stream",
       "stream": "stdout",
       "text": [
        " 18101\n",
        "training_error = \t2.31718932162e-17\n",
        "validation_error = \t2.31718932162e-17\n",
        "epoch "
       ]
      },
      {
       "output_type": "stream",
       "stream": "stdout",
       "text": [
        " 18201\n",
        "training_error = \t2.35201639668e-18\n",
        "validation_error = \t2.35201639668e-18\n",
        "epoch "
       ]
      },
      {
       "output_type": "stream",
       "stream": "stdout",
       "text": [
        " 18301\n",
        "training_error = \t3.68591352115e-18\n",
        "validation_error = \t3.68591352115e-18\n",
        "epoch "
       ]
      },
      {
       "output_type": "stream",
       "stream": "stdout",
       "text": [
        " 18401\n",
        "training_error = \t2.31092567019e-17\n",
        "validation_error = \t2.31092567019e-17\n",
        "epoch "
       ]
      },
      {
       "output_type": "stream",
       "stream": "stdout",
       "text": [
        " 18501\n",
        "training_error = \t2.35196311618e-18\n",
        "validation_error = \t2.35196311618e-18\n",
        "epoch "
       ]
      },
      {
       "output_type": "stream",
       "stream": "stdout",
       "text": [
        " 18601\n",
        "training_error = \t3.66939007217e-18\n",
        "validation_error = \t3.66939007217e-18\n",
        "epoch "
       ]
      },
      {
       "output_type": "stream",
       "stream": "stdout",
       "text": [
        " 18701\n",
        "training_error = \t2.30474916335e-17\n",
        "validation_error = \t2.30474916335e-17\n",
        "epoch "
       ]
      },
      {
       "output_type": "stream",
       "stream": "stdout",
       "text": [
        " 18801\n",
        "training_error = \t2.35191036705e-18\n",
        "validation_error = \t2.35191036705e-18\n",
        "epoch "
       ]
      },
      {
       "output_type": "stream",
       "stream": "stdout",
       "text": [
        " 18901\n",
        "training_error = \t3.65310401396e-18\n",
        "validation_error = \t3.65310401396e-18\n",
        "epoch "
       ]
      },
      {
       "output_type": "stream",
       "stream": "stdout",
       "text": [
        " 19001\n",
        "training_error = \t2.29865853853e-17\n",
        "validation_error = \t2.29865853853e-17\n",
        "epoch "
       ]
      },
      {
       "output_type": "stream",
       "stream": "stdout",
       "text": [
        " 19101\n",
        "training_error = \t2.35185814398e-18\n",
        "validation_error = \t2.35185814398e-18\n",
        "epoch "
       ]
      },
      {
       "output_type": "stream",
       "stream": "stdout",
       "text": [
        " 19201\n",
        "training_error = \t3.63705122185e-18\n",
        "validation_error = \t3.63705122185e-18\n",
        "epoch "
       ]
      },
      {
       "output_type": "stream",
       "stream": "stdout",
       "text": [
        " 19301\n",
        "training_error = \t2.29265225308e-17\n",
        "validation_error = \t2.29265225308e-17\n",
        "epoch "
       ]
      },
      {
       "output_type": "stream",
       "stream": "stdout",
       "text": [
        " 19401\n",
        "training_error = \t2.3518064417e-18\n",
        "validation_error = \t2.3518064417e-18\n",
        "epoch "
       ]
      },
      {
       "output_type": "stream",
       "stream": "stdout",
       "text": [
        " 19501\n",
        "training_error = \t3.62122765785e-18\n",
        "validation_error = \t3.62122765785e-18\n",
        "epoch "
       ]
      },
      {
       "output_type": "stream",
       "stream": "stdout",
       "text": [
        " 19601\n",
        "training_error = \t2.28672906665e-17\n",
        "validation_error = \t2.28672906665e-17\n",
        "epoch "
       ]
      },
      {
       "output_type": "stream",
       "stream": "stdout",
       "text": [
        " 19701\n",
        "training_error = \t2.35175525501e-18\n",
        "validation_error = \t2.35175525501e-18\n",
        "epoch "
       ]
      },
      {
       "output_type": "stream",
       "stream": "stdout",
       "text": [
        " 19801\n",
        "training_error = \t3.60562936852e-18\n",
        "validation_error = \t3.60562936852e-18\n",
        "epoch "
       ]
      },
      {
       "output_type": "stream",
       "stream": "stdout",
       "text": [
        " 19901\n",
        "training_error = \t2.28088745936e-17\n",
        "validation_error = \t2.28088745936e-17\n",
        "epoch "
       ]
      },
      {
       "output_type": "stream",
       "stream": "stdout",
       "text": [
        " 20001\n",
        "training_error = \t2.35170457876e-18\n",
        "validation_error = \t2.35170457876e-18\n",
        "epoch "
       ]
      },
      {
       "output_type": "stream",
       "stream": "stdout",
       "text": [
        " 20101\n",
        "training_error = \t3.59025248289e-18\n",
        "validation_error = \t3.59025248289e-18\n",
        "epoch "
       ]
      },
      {
       "output_type": "stream",
       "stream": "stdout",
       "text": [
        " 20201\n",
        "training_error = \t2.27512635697e-17\n",
        "validation_error = \t2.27512635697e-17\n",
        "epoch "
       ]
      },
      {
       "output_type": "stream",
       "stream": "stdout",
       "text": [
        " 20301\n",
        "training_error = \t2.35165440786e-18\n",
        "validation_error = \t2.35165440786e-18\n",
        "epoch "
       ]
      },
      {
       "output_type": "stream",
       "stream": "stdout",
       "text": [
        " 20401\n",
        "training_error = \t3.57509321041e-18\n",
        "validation_error = \t3.57509321041e-18\n",
        "epoch "
       ]
      },
      {
       "output_type": "stream",
       "stream": "stdout",
       "text": [
        " 20501\n",
        "training_error = \t2.26944440535e-17\n",
        "validation_error = \t2.26944440535e-17\n",
        "epoch "
       ]
      },
      {
       "output_type": "stream",
       "stream": "stdout",
       "text": [
        " 20601\n",
        "training_error = \t2.35160473723e-18\n",
        "validation_error = \t2.35160473723e-18\n"
       ]
      },
      {
       "ename": "KeyboardInterrupt",
       "evalue": "",
       "output_type": "pyerr",
       "traceback": [
        "\u001b[1;31m---------------------------------------------------------------------------\u001b[0m\n\u001b[1;31mKeyboardInterrupt\u001b[0m                         Traceback (most recent call last)",
        "\u001b[1;32m<ipython-input-5-fe2d8a5233c5>\u001b[0m in \u001b[0;36m<module>\u001b[1;34m()\u001b[0m\n\u001b[0;32m      5\u001b[0m         \u001b[0mepoch_counter\u001b[0m \u001b[1;33m=\u001b[0m \u001b[1;36m0\u001b[0m\u001b[1;33m\u001b[0m\u001b[0m\n\u001b[0;32m      6\u001b[0m         \u001b[0mLR\u001b[0m \u001b[1;33m=\u001b[0m \u001b[1;36m1e-2\u001b[0m\u001b[1;33m\u001b[0m\u001b[0m\n\u001b[1;32m----> 7\u001b[1;33m         \u001b[1;32mfor\u001b[0m \u001b[0mtrn\u001b[0m\u001b[1;33m,\u001b[0m \u001b[0mval\u001b[0m \u001b[1;32min\u001b[0m \u001b[0mtrainer\u001b[0m\u001b[1;33m.\u001b[0m\u001b[0mitertrain\u001b[0m\u001b[1;33m(\u001b[0m\u001b[0mtrain_batch\u001b[0m\u001b[1;33m(\u001b[0m\u001b[1;33m)\u001b[0m\u001b[1;33m,\u001b[0m\u001b[0mvalid_batch\u001b[0m\u001b[1;33m(\u001b[0m\u001b[1;33m)\u001b[0m\u001b[1;33m,\u001b[0m \u001b[0malgo\u001b[0m\u001b[1;33m=\u001b[0m\u001b[1;34m'rprop'\u001b[0m\u001b[1;33m,\u001b[0m\u001b[0mlearning_rate\u001b[0m \u001b[1;33m=\u001b[0m \u001b[1;36m1\u001b[0m\u001b[1;33m,\u001b[0m\u001b[0miteration_size\u001b[0m \u001b[1;33m=\u001b[0m \u001b[1;36m1\u001b[0m\u001b[1;33m,\u001b[0m\u001b[0mbatch_size\u001b[0m\u001b[1;33m=\u001b[0m\u001b[0mBATCH_SIZE\u001b[0m\u001b[1;33m,\u001b[0m\u001b[0mvalidate_every\u001b[0m \u001b[1;33m=\u001b[0m \u001b[1;36m1\u001b[0m\u001b[1;33m,\u001b[0m\u001b[0mpatience\u001b[0m\u001b[1;33m=\u001b[0m\u001b[1;36m500\u001b[0m\u001b[1;33m)\u001b[0m \u001b[1;33m:\u001b[0m\u001b[1;33m\u001b[0m\u001b[0m\n\u001b[0m\u001b[0;32m      8\u001b[0m             \u001b[1;32mif\u001b[0m \u001b[0mepoch_counter\u001b[0m\u001b[1;33m%\u001b[0m\u001b[1;36m100\u001b[0m \u001b[1;33m==\u001b[0m \u001b[1;36m0\u001b[0m \u001b[1;33m:\u001b[0m\u001b[1;33m\u001b[0m\u001b[0m\n\u001b[0;32m      9\u001b[0m                 \u001b[1;32mif\u001b[0m \u001b[0mepoch_counter\u001b[0m \u001b[1;33m<\u001b[0m \u001b[1;36m1000\u001b[0m\u001b[1;33m:\u001b[0m\u001b[1;33m\u001b[0m\u001b[0m\n",
        "\u001b[1;32m/tmp/theanets/theanets/graph.pyc\u001b[0m in \u001b[0;36mitertrain\u001b[1;34m(self, train, valid, algo, subalgo, save_every, save_progress, **kwargs)\u001b[0m\n\u001b[0;32m    324\u001b[0m         \u001b[1;31m# train it!\u001b[0m\u001b[1;33m\u001b[0m\u001b[1;33m\u001b[0m\u001b[0m\n\u001b[0;32m    325\u001b[0m         \u001b[0mstart\u001b[0m \u001b[1;33m=\u001b[0m \u001b[0mdatetime\u001b[0m\u001b[1;33m.\u001b[0m\u001b[0mdatetime\u001b[0m\u001b[1;33m.\u001b[0m\u001b[0mutcnow\u001b[0m\u001b[1;33m(\u001b[0m\u001b[1;33m)\u001b[0m\u001b[1;33m\u001b[0m\u001b[0m\n\u001b[1;32m--> 326\u001b[1;33m         \u001b[1;32mfor\u001b[0m \u001b[0mi\u001b[0m\u001b[1;33m,\u001b[0m \u001b[0mmonitors\u001b[0m \u001b[1;32min\u001b[0m \u001b[0menumerate\u001b[0m\u001b[1;33m(\u001b[0m\u001b[0malgo\u001b[0m\u001b[1;33m.\u001b[0m\u001b[0mitertrain\u001b[0m\u001b[1;33m(\u001b[0m\u001b[0mtrain\u001b[0m\u001b[1;33m,\u001b[0m \u001b[0mvalid\u001b[0m\u001b[1;33m,\u001b[0m \u001b[1;33m**\u001b[0m\u001b[0mkwargs\u001b[0m\u001b[1;33m)\u001b[0m\u001b[1;33m)\u001b[0m\u001b[1;33m:\u001b[0m\u001b[1;33m\u001b[0m\u001b[0m\n\u001b[0m\u001b[0;32m    327\u001b[0m             \u001b[1;32myield\u001b[0m \u001b[0mmonitors\u001b[0m\u001b[1;33m\u001b[0m\u001b[0m\n\u001b[0;32m    328\u001b[0m             \u001b[0mnow\u001b[0m \u001b[1;33m=\u001b[0m \u001b[0mdatetime\u001b[0m\u001b[1;33m.\u001b[0m\u001b[0mdatetime\u001b[0m\u001b[1;33m.\u001b[0m\u001b[0mutcnow\u001b[0m\u001b[1;33m(\u001b[0m\u001b[1;33m)\u001b[0m\u001b[1;33m\u001b[0m\u001b[0m\n",
        "\u001b[1;32m/tmp/theanets/theanets/trainer.pyc\u001b[0m in \u001b[0;36mitertrain\u001b[1;34m(self, train, valid, **kwargs)\u001b[0m\n\u001b[0;32m     64\u001b[0m                 \u001b[0mparams\u001b[0m\u001b[1;33m=\u001b[0m\u001b[0mself\u001b[0m\u001b[1;33m.\u001b[0m\u001b[0mnetwork\u001b[0m\u001b[1;33m.\u001b[0m\u001b[0mparams\u001b[0m\u001b[1;33m,\u001b[0m\u001b[1;33m\u001b[0m\u001b[0m\n\u001b[0;32m     65\u001b[0m                 \u001b[0mmonitor_gradients\u001b[0m\u001b[1;33m=\u001b[0m\u001b[0mkwargs\u001b[0m\u001b[1;33m.\u001b[0m\u001b[0mget\u001b[0m\u001b[1;33m(\u001b[0m\u001b[1;34m'monitor_gradients'\u001b[0m\u001b[1;33m,\u001b[0m \u001b[0mFalse\u001b[0m\u001b[1;33m)\u001b[0m\u001b[1;33m,\u001b[0m\u001b[1;33m\u001b[0m\u001b[0m\n\u001b[1;32m---> 66\u001b[1;33m         ).iterate(train, valid=valid, **kwargs):\n\u001b[0m\u001b[0;32m     67\u001b[0m             \u001b[1;32myield\u001b[0m \u001b[0mmonitors\u001b[0m\u001b[1;33m\u001b[0m\u001b[0m\n\u001b[0;32m     68\u001b[0m \u001b[1;33m\u001b[0m\u001b[0m\n",
        "\u001b[1;32m/usr/local/lib/python2.7/site-packages/downhill-0.2.0-py2.7.egg/downhill/base.pyc\u001b[0m in \u001b[0;36miterate\u001b[1;34m(self, train, valid, patience, validate_every, min_improvement, max_gradient_norm, max_gradient_elem, learning_rate, momentum, nesterov, **kwargs)\u001b[0m\n\u001b[0;32m    408\u001b[0m                 \u001b[1;32mbreak\u001b[0m\u001b[1;33m\u001b[0m\u001b[0m\n\u001b[0;32m    409\u001b[0m             \u001b[0miteration\u001b[0m \u001b[1;33m+=\u001b[0m \u001b[1;36m1\u001b[0m\u001b[1;33m\u001b[0m\u001b[0m\n\u001b[1;32m--> 410\u001b[1;33m             \u001b[0mself\u001b[0m\u001b[1;33m.\u001b[0m\u001b[0m_log\u001b[0m\u001b[1;33m(\u001b[0m\u001b[0mtraining\u001b[0m\u001b[1;33m,\u001b[0m \u001b[0miteration\u001b[0m\u001b[1;33m)\u001b[0m\u001b[1;33m\u001b[0m\u001b[0m\n\u001b[0m\u001b[0;32m    411\u001b[0m             \u001b[1;32myield\u001b[0m \u001b[0mtraining\u001b[0m\u001b[1;33m,\u001b[0m \u001b[0mvalidation\u001b[0m\u001b[1;33m\u001b[0m\u001b[0m\n\u001b[0;32m    412\u001b[0m         \u001b[0mself\u001b[0m\u001b[1;33m.\u001b[0m\u001b[0mset_params\u001b[0m\u001b[1;33m(\u001b[0m\u001b[1;34m'best'\u001b[0m\u001b[1;33m)\u001b[0m\u001b[1;33m\u001b[0m\u001b[0m\n",
        "\u001b[1;32m/usr/local/lib/python2.7/site-packages/downhill-0.2.0-py2.7.egg/downhill/base.pyc\u001b[0m in \u001b[0;36m_log\u001b[1;34m(self, monitors, iteration, label, suffix)\u001b[0m\n\u001b[0;32m    224\u001b[0m         \u001b[0mlabel\u001b[0m \u001b[1;33m=\u001b[0m \u001b[0mlabel\u001b[0m \u001b[1;32mor\u001b[0m \u001b[0mself\u001b[0m\u001b[1;33m.\u001b[0m\u001b[0m__class__\u001b[0m\u001b[1;33m.\u001b[0m\u001b[0m__name__\u001b[0m\u001b[1;33m\u001b[0m\u001b[0m\n\u001b[0;32m    225\u001b[0m         \u001b[0mfields\u001b[0m \u001b[1;33m=\u001b[0m \u001b[1;33m(\u001b[0m\u001b[1;33m(\u001b[0m\u001b[1;34m'{}={:.6f}'\u001b[0m\u001b[1;33m)\u001b[0m\u001b[1;33m.\u001b[0m\u001b[0mformat\u001b[0m\u001b[1;33m(\u001b[0m\u001b[0mk\u001b[0m\u001b[1;33m,\u001b[0m \u001b[0mv\u001b[0m\u001b[1;33m)\u001b[0m \u001b[1;32mfor\u001b[0m \u001b[0mk\u001b[0m\u001b[1;33m,\u001b[0m \u001b[0mv\u001b[0m \u001b[1;32min\u001b[0m \u001b[0mmonitors\u001b[0m\u001b[1;33m.\u001b[0m\u001b[0mitems\u001b[0m\u001b[1;33m(\u001b[0m\u001b[1;33m)\u001b[0m\u001b[1;33m)\u001b[0m\u001b[1;33m\u001b[0m\u001b[0m\n\u001b[1;32m--> 226\u001b[1;33m         \u001b[0mlogging\u001b[0m\u001b[1;33m.\u001b[0m\u001b[0minfo\u001b[0m\u001b[1;33m(\u001b[0m\u001b[1;34m'%s %i %s%s'\u001b[0m\u001b[1;33m,\u001b[0m \u001b[0mlabel\u001b[0m\u001b[1;33m,\u001b[0m \u001b[0miteration\u001b[0m\u001b[1;33m,\u001b[0m \u001b[1;34m' '\u001b[0m\u001b[1;33m.\u001b[0m\u001b[0mjoin\u001b[0m\u001b[1;33m(\u001b[0m\u001b[0mfields\u001b[0m\u001b[1;33m)\u001b[0m\u001b[1;33m,\u001b[0m \u001b[0msuffix\u001b[0m\u001b[1;33m)\u001b[0m\u001b[1;33m\u001b[0m\u001b[0m\n\u001b[0m\u001b[0;32m    227\u001b[0m \u001b[1;33m\u001b[0m\u001b[0m\n\u001b[0;32m    228\u001b[0m     \u001b[1;32mdef\u001b[0m \u001b[0mevaluate\u001b[0m\u001b[1;33m(\u001b[0m\u001b[0mself\u001b[0m\u001b[1;33m,\u001b[0m \u001b[0mdataset\u001b[0m\u001b[1;33m)\u001b[0m\u001b[1;33m:\u001b[0m\u001b[1;33m\u001b[0m\u001b[0m\n",
        "\u001b[1;32m/usr/local/lib/python2.7/logging/__init__.pyc\u001b[0m in \u001b[0;36minfo\u001b[1;34m(self, msg, *args, **kwargs)\u001b[0m\n\u001b[0;32m   1157\u001b[0m         \u001b[0mlogger\u001b[0m\u001b[1;33m.\u001b[0m\u001b[0minfo\u001b[0m\u001b[1;33m(\u001b[0m\u001b[1;34m\"Houston, we have a %s\"\u001b[0m\u001b[1;33m,\u001b[0m \u001b[1;34m\"interesting problem\"\u001b[0m\u001b[1;33m,\u001b[0m \u001b[0mexc_info\u001b[0m\u001b[1;33m=\u001b[0m\u001b[1;36m1\u001b[0m\u001b[1;33m)\u001b[0m\u001b[1;33m\u001b[0m\u001b[0m\n\u001b[0;32m   1158\u001b[0m         \"\"\"\n\u001b[1;32m-> 1159\u001b[1;33m         \u001b[1;32mif\u001b[0m \u001b[0mself\u001b[0m\u001b[1;33m.\u001b[0m\u001b[0misEnabledFor\u001b[0m\u001b[1;33m(\u001b[0m\u001b[0mINFO\u001b[0m\u001b[1;33m)\u001b[0m\u001b[1;33m:\u001b[0m\u001b[1;33m\u001b[0m\u001b[0m\n\u001b[0m\u001b[0;32m   1160\u001b[0m             \u001b[0mself\u001b[0m\u001b[1;33m.\u001b[0m\u001b[0m_log\u001b[0m\u001b[1;33m(\u001b[0m\u001b[0mINFO\u001b[0m\u001b[1;33m,\u001b[0m \u001b[0mmsg\u001b[0m\u001b[1;33m,\u001b[0m \u001b[0margs\u001b[0m\u001b[1;33m,\u001b[0m \u001b[1;33m**\u001b[0m\u001b[0mkwargs\u001b[0m\u001b[1;33m)\u001b[0m\u001b[1;33m\u001b[0m\u001b[0m\n\u001b[0;32m   1161\u001b[0m \u001b[1;33m\u001b[0m\u001b[0m\n",
        "\u001b[1;32m/usr/local/lib/python2.7/logging/__init__.pyc\u001b[0m in \u001b[0;36misEnabledFor\u001b[1;34m(self, level)\u001b[0m\n\u001b[0;32m   1351\u001b[0m         \u001b[1;32mreturn\u001b[0m \u001b[0mNOTSET\u001b[0m\u001b[1;33m\u001b[0m\u001b[0m\n\u001b[0;32m   1352\u001b[0m \u001b[1;33m\u001b[0m\u001b[0m\n\u001b[1;32m-> 1353\u001b[1;33m     \u001b[1;32mdef\u001b[0m \u001b[0misEnabledFor\u001b[0m\u001b[1;33m(\u001b[0m\u001b[0mself\u001b[0m\u001b[1;33m,\u001b[0m \u001b[0mlevel\u001b[0m\u001b[1;33m)\u001b[0m\u001b[1;33m:\u001b[0m\u001b[1;33m\u001b[0m\u001b[0m\n\u001b[0m\u001b[0;32m   1354\u001b[0m         \"\"\"\n\u001b[0;32m   1355\u001b[0m         \u001b[0mIs\u001b[0m \u001b[0mthis\u001b[0m \u001b[0mlogger\u001b[0m \u001b[0menabled\u001b[0m \u001b[1;32mfor\u001b[0m \u001b[0mlevel\u001b[0m \u001b[1;34m'level'\u001b[0m\u001b[0;31m?\u001b[0m\u001b[1;33m\u001b[0m\u001b[0m\n",
        "\u001b[1;31mKeyboardInterrupt\u001b[0m: "
       ]
      },
      {
       "metadata": {},
       "output_type": "display_data",
       "png": "[encoded data removed]",
       "text": [
        "<matplotlib.figure.Figure at 0x7fe143f8e390>"
       ]
      },
      {
       "metadata": {},
       "output_type": "display_data",
       "png": "[encoded data removed]",
       "text": [
        "<matplotlib.figure.Figure at 0x7fe141f67550>"
       ]
      },
      {
       "metadata": {},
       "output_type": "display_data",
       "png": "[encoded data removed]",
       "text": [
        "<matplotlib.figure.Figure at 0x7fe141eb1d90>"
       ]
      },
      {
       "metadata": {},
       "output_type": "display_data",
       "png": "[encoded data removed]",
       "text": [
        "<matplotlib.figure.Figure at 0x7fe141e783d0>"
       ]
      },
      {
       "metadata": {},
       "output_type": "display_data",
       "png": "[encoded data removed]",
       "text": [
        "<matplotlib.figure.Figure at 0x7fe141dbf690>"
       ]
      },
      {
       "metadata": {},
       "output_type": "display_data",
       "png": "[encoded data removed]",
       "text": [
        "<matplotlib.figure.Figure at 0x7fe141d659d0>"
       ]
      },
      {
       "metadata": {},
       "output_type": "display_data",
       "png": "[encoded data removed]",
       "text": [
        "<matplotlib.figure.Figure at 0x7fe141ccae90>"
       ]
      },
      {
       "metadata": {},
       "output_type": "display_data",
       "png": "[encoded data removed]",
       "text": [
        "<matplotlib.figure.Figure at 0x7fe141cdb610>"
       ]
      },
      {
       "metadata": {},
       "output_type": "display_data",
       "png": "[encoded data removed]",
       "text": [
        "<matplotlib.figure.Figure at 0x7fe141b58c90>"
       ]
      },
      {
       "metadata": {},
       "output_type": "display_data",
       "png": "[encoded data removed]",
       "text": [
        "<matplotlib.figure.Figure at 0x7fe141ad5850>"
       ]
      }
     ],
     "prompt_number": 5
    },
    {
     "cell_type": "code",
     "collapsed": false,
     "input": [
      "print trainer.predict(valid_batch()[0])"
     ],
     "language": "python",
     "metadata": {},
     "outputs": [
      {
       "output_type": "stream",
       "stream": "stdout",
       "text": [
        "[[  2.66849946e-09]\n",
        " [  1.00000000e+00]\n",
        " [  1.00000000e+00]\n",
        " [  2.66849946e-09]]\n"
       ]
      }
     ],
     "prompt_number": 6
    },
    {
     "cell_type": "code",
     "collapsed": false,
     "input": [
      "print trainer.find('hid1', 'b').get_value()\n",
      "print trainer.find('hid1', 'w').get_value()\n",
      "print trainer.find('out', 'b').get_value()\n",
      "print trainer.find('out', 'w').get_value()"
     ],
     "language": "python",
     "metadata": {},
     "outputs": [
      {
       "output_type": "stream",
       "stream": "stdout",
       "text": [
        "[ 19.00046059  19.00046059]\n",
        "[[ 729.17617326 -728.03676278]\n",
        " [-728.03676278  729.17617326]]\n",
        "[ 58.03619787]\n",
        "[[-38.8889737]\n",
        " [-38.8889737]]\n"
       ]
      }
     ],
     "prompt_number": 7
    },
    {
     "cell_type": "code",
     "collapsed": false,
     "input": [
      "plt.plot(trainer.find('hid1', 'w').get_value())"
     ],
     "language": "python",
     "metadata": {},
     "outputs": [
      {
       "metadata": {},
       "output_type": "pyout",
       "prompt_number": 6,
       "text": [
        "[<matplotlib.lines.Line2D at 0x7f636512bc90>]"
       ]
      },
      {
       "metadata": {},
       "output_type": "display_data",
       "png": "[encoded data removed]",
       "text": [
        "<matplotlib.figure.Figure at 0x7f636f408a50>"
       ]
      }
     ],
     "prompt_number": 6
    },
    {
     "cell_type": "code",
     "collapsed": false,
     "input": [
      "plt.plot([[1,-1],[-1,1]])"
     ],
     "language": "python",
     "metadata": {},
     "outputs": [
      {
       "metadata": {},
       "output_type": "pyout",
       "prompt_number": 9,
       "text": [
        "[<matplotlib.lines.Line2D at 0x7fe0c0710450>,\n",
        " <matplotlib.lines.Line2D at 0x7fe0c0710610>]"
       ]
      },
      {
       "metadata": {},
       "output_type": "display_data",
       "png": "[encoded data removed]",
       "text": [
        "<matplotlib.figure.Figure at 0x7fe0c06d1dd0>"
       ]
      }
     ],
     "prompt_number": 9
    },
    {
     "cell_type": "code",
     "collapsed": false,
     "input": [
      "cp /afs/cern.ch/user/a/ajofrehe/public/network/5C-5L-500K network/5C-5L-500K"
     ],
     "language": "python",
     "metadata": {},
     "outputs": [],
     "prompt_number": 1
    },
    {
     "cell_type": "code",
     "collapsed": false,
     "input": [
      "import matplotlib.pyplot as plt\n",
      "import theanets\n",
      "import time\n",
      "import numpy as np\n",
      "from numpy import float32\n",
      "dt = np.dtype(float32)\n",
      "ncells = 100\n",
      "trainer = theanets.Experiment(theanets.feedforward.Regressor(layers=(ncells,ncells,ncells,ncells,ncells,(ncells,'logistic'))))\n",
      "net = trainer.network\n",
      "trainer.load('network/5C-5L-500K')"
     ],
     "language": "python",
     "metadata": {},
     "outputs": [
      {
       "ename": "ImportError",
       "evalue": "Cuda not found. Cannot unpickle CudaNdarray",
       "output_type": "pyerr",
       "traceback": [
        "\u001b[1;31m---------------------------------------------------------------------------\u001b[0m\n\u001b[1;31mImportError\u001b[0m                               Traceback (most recent call last)",
        "\u001b[1;32m<ipython-input-3-fb8aeacd8837>\u001b[0m in \u001b[0;36m<module>\u001b[1;34m()\u001b[0m\n\u001b[0;32m      8\u001b[0m \u001b[0mtrainer\u001b[0m \u001b[1;33m=\u001b[0m \u001b[0mtheanets\u001b[0m\u001b[1;33m.\u001b[0m\u001b[0mExperiment\u001b[0m\u001b[1;33m(\u001b[0m\u001b[0mtheanets\u001b[0m\u001b[1;33m.\u001b[0m\u001b[0mfeedforward\u001b[0m\u001b[1;33m.\u001b[0m\u001b[0mRegressor\u001b[0m\u001b[1;33m(\u001b[0m\u001b[0mlayers\u001b[0m\u001b[1;33m=\u001b[0m\u001b[1;33m(\u001b[0m\u001b[0mncells\u001b[0m\u001b[1;33m,\u001b[0m\u001b[0mncells\u001b[0m\u001b[1;33m,\u001b[0m\u001b[0mncells\u001b[0m\u001b[1;33m,\u001b[0m\u001b[0mncells\u001b[0m\u001b[1;33m,\u001b[0m\u001b[0mncells\u001b[0m\u001b[1;33m,\u001b[0m\u001b[1;33m(\u001b[0m\u001b[0mncells\u001b[0m\u001b[1;33m,\u001b[0m\u001b[1;34m'logistic'\u001b[0m\u001b[1;33m)\u001b[0m\u001b[1;33m)\u001b[0m\u001b[1;33m)\u001b[0m\u001b[1;33m)\u001b[0m\u001b[1;33m\u001b[0m\u001b[0m\n\u001b[0;32m      9\u001b[0m \u001b[0mnet\u001b[0m \u001b[1;33m=\u001b[0m \u001b[0mtrainer\u001b[0m\u001b[1;33m.\u001b[0m\u001b[0mnetwork\u001b[0m\u001b[1;33m\u001b[0m\u001b[0m\n\u001b[1;32m---> 10\u001b[1;33m \u001b[0mtrainer\u001b[0m\u001b[1;33m.\u001b[0m\u001b[0mload\u001b[0m\u001b[1;33m(\u001b[0m\u001b[1;34m'network/5C-5L-500K'\u001b[0m\u001b[1;33m)\u001b[0m\u001b[1;33m\u001b[0m\u001b[0m\n\u001b[0m",
        "\u001b[1;32m/tmp/theanets/theanets/main.pyc\u001b[0m in \u001b[0;36mload\u001b[1;34m(self, path)\u001b[0m\n\u001b[0;32m    106\u001b[0m             \u001b[1;32mfrom\u001b[0m \u001b[0mthe\u001b[0m \u001b[0mgiven\u001b[0m \u001b[0mpickle\u001b[0m \u001b[0mfile\u001b[0m\u001b[1;33m.\u001b[0m\u001b[1;33m\u001b[0m\u001b[0m\n\u001b[0;32m    107\u001b[0m         '''\n\u001b[1;32m--> 108\u001b[1;33m         \u001b[0mself\u001b[0m\u001b[1;33m.\u001b[0m\u001b[0mnetwork\u001b[0m \u001b[1;33m=\u001b[0m \u001b[0mgraph\u001b[0m\u001b[1;33m.\u001b[0m\u001b[0mNetwork\u001b[0m\u001b[1;33m.\u001b[0m\u001b[0mload\u001b[0m\u001b[1;33m(\u001b[0m\u001b[0mpath\u001b[0m\u001b[1;33m)\u001b[0m\u001b[1;33m\u001b[0m\u001b[0m\n\u001b[0m\u001b[0;32m    109\u001b[0m         \u001b[1;32mreturn\u001b[0m \u001b[0mself\u001b[0m\u001b[1;33m.\u001b[0m\u001b[0mnetwork\u001b[0m\u001b[1;33m\u001b[0m\u001b[0m\n",
        "\u001b[1;32m/tmp/theanets/theanets/graph.pyc\u001b[0m in \u001b[0;36mload\u001b[1;34m(cls, filename)\u001b[0m\n\u001b[0;32m    606\u001b[0m         \u001b[0mopener\u001b[0m \u001b[1;33m=\u001b[0m \u001b[0mgzip\u001b[0m\u001b[1;33m.\u001b[0m\u001b[0mopen\u001b[0m \u001b[1;32mif\u001b[0m \u001b[0mfilename\u001b[0m\u001b[1;33m.\u001b[0m\u001b[0mlower\u001b[0m\u001b[1;33m(\u001b[0m\u001b[1;33m)\u001b[0m\u001b[1;33m.\u001b[0m\u001b[0mendswith\u001b[0m\u001b[1;33m(\u001b[0m\u001b[1;34m'.gz'\u001b[0m\u001b[1;33m)\u001b[0m \u001b[1;32melse\u001b[0m \u001b[0mopen\u001b[0m\u001b[1;33m\u001b[0m\u001b[0m\n\u001b[0;32m    607\u001b[0m         \u001b[0mhandle\u001b[0m \u001b[1;33m=\u001b[0m \u001b[0mopener\u001b[0m\u001b[1;33m(\u001b[0m\u001b[0mfilename\u001b[0m\u001b[1;33m,\u001b[0m \u001b[1;34m'rb'\u001b[0m\u001b[1;33m)\u001b[0m\u001b[1;33m\u001b[0m\u001b[0m\n\u001b[1;32m--> 608\u001b[1;33m         \u001b[0mmodel\u001b[0m \u001b[1;33m=\u001b[0m \u001b[0mpickle\u001b[0m\u001b[1;33m.\u001b[0m\u001b[0mload\u001b[0m\u001b[1;33m(\u001b[0m\u001b[0mhandle\u001b[0m\u001b[1;33m)\u001b[0m\u001b[1;33m\u001b[0m\u001b[0m\n\u001b[0m\u001b[0;32m    609\u001b[0m         \u001b[0mhandle\u001b[0m\u001b[1;33m.\u001b[0m\u001b[0mclose\u001b[0m\u001b[1;33m(\u001b[0m\u001b[1;33m)\u001b[0m\u001b[1;33m\u001b[0m\u001b[0m\n\u001b[0;32m    610\u001b[0m         \u001b[0mlogging\u001b[0m\u001b[1;33m.\u001b[0m\u001b[0minfo\u001b[0m\u001b[1;33m(\u001b[0m\u001b[1;34m'%s: loaded model'\u001b[0m\u001b[1;33m,\u001b[0m \u001b[0mfilename\u001b[0m\u001b[1;33m)\u001b[0m\u001b[1;33m\u001b[0m\u001b[0m\n",
        "\u001b[1;32m/usr/local/lib/python2.7/pickle.pyc\u001b[0m in \u001b[0;36mload\u001b[1;34m(file)\u001b[0m\n\u001b[0;32m   1376\u001b[0m \u001b[1;33m\u001b[0m\u001b[0m\n\u001b[0;32m   1377\u001b[0m \u001b[1;32mdef\u001b[0m \u001b[0mload\u001b[0m\u001b[1;33m(\u001b[0m\u001b[0mfile\u001b[0m\u001b[1;33m)\u001b[0m\u001b[1;33m:\u001b[0m\u001b[1;33m\u001b[0m\u001b[0m\n\u001b[1;32m-> 1378\u001b[1;33m     \u001b[1;32mreturn\u001b[0m \u001b[0mUnpickler\u001b[0m\u001b[1;33m(\u001b[0m\u001b[0mfile\u001b[0m\u001b[1;33m)\u001b[0m\u001b[1;33m.\u001b[0m\u001b[0mload\u001b[0m\u001b[1;33m(\u001b[0m\u001b[1;33m)\u001b[0m\u001b[1;33m\u001b[0m\u001b[0m\n\u001b[0m\u001b[0;32m   1379\u001b[0m \u001b[1;33m\u001b[0m\u001b[0m\n\u001b[0;32m   1380\u001b[0m \u001b[1;32mdef\u001b[0m \u001b[0mloads\u001b[0m\u001b[1;33m(\u001b[0m\u001b[0mstr\u001b[0m\u001b[1;33m)\u001b[0m\u001b[1;33m:\u001b[0m\u001b[1;33m\u001b[0m\u001b[0m\n",
        "\u001b[1;32m/usr/local/lib/python2.7/pickle.pyc\u001b[0m in \u001b[0;36mload\u001b[1;34m(self)\u001b[0m\n\u001b[0;32m    856\u001b[0m             \u001b[1;32mwhile\u001b[0m \u001b[1;36m1\u001b[0m\u001b[1;33m:\u001b[0m\u001b[1;33m\u001b[0m\u001b[0m\n\u001b[0;32m    857\u001b[0m                 \u001b[0mkey\u001b[0m \u001b[1;33m=\u001b[0m \u001b[0mread\u001b[0m\u001b[1;33m(\u001b[0m\u001b[1;36m1\u001b[0m\u001b[1;33m)\u001b[0m\u001b[1;33m\u001b[0m\u001b[0m\n\u001b[1;32m--> 858\u001b[1;33m                 \u001b[0mdispatch\u001b[0m\u001b[1;33m[\u001b[0m\u001b[0mkey\u001b[0m\u001b[1;33m]\u001b[0m\u001b[1;33m(\u001b[0m\u001b[0mself\u001b[0m\u001b[1;33m)\u001b[0m\u001b[1;33m\u001b[0m\u001b[0m\n\u001b[0m\u001b[0;32m    859\u001b[0m         \u001b[1;32mexcept\u001b[0m \u001b[0m_Stop\u001b[0m\u001b[1;33m,\u001b[0m \u001b[0mstopinst\u001b[0m\u001b[1;33m:\u001b[0m\u001b[1;33m\u001b[0m\u001b[0m\n\u001b[0;32m    860\u001b[0m             \u001b[1;32mreturn\u001b[0m \u001b[0mstopinst\u001b[0m\u001b[1;33m.\u001b[0m\u001b[0mvalue\u001b[0m\u001b[1;33m\u001b[0m\u001b[0m\n",
        "\u001b[1;32m/usr/local/lib/python2.7/pickle.pyc\u001b[0m in \u001b[0;36mload_reduce\u001b[1;34m(self)\u001b[0m\n\u001b[0;32m   1131\u001b[0m         \u001b[0margs\u001b[0m \u001b[1;33m=\u001b[0m \u001b[0mstack\u001b[0m\u001b[1;33m.\u001b[0m\u001b[0mpop\u001b[0m\u001b[1;33m(\u001b[0m\u001b[1;33m)\u001b[0m\u001b[1;33m\u001b[0m\u001b[0m\n\u001b[0;32m   1132\u001b[0m         \u001b[0mfunc\u001b[0m \u001b[1;33m=\u001b[0m \u001b[0mstack\u001b[0m\u001b[1;33m[\u001b[0m\u001b[1;33m-\u001b[0m\u001b[1;36m1\u001b[0m\u001b[1;33m]\u001b[0m\u001b[1;33m\u001b[0m\u001b[0m\n\u001b[1;32m-> 1133\u001b[1;33m         \u001b[0mvalue\u001b[0m \u001b[1;33m=\u001b[0m \u001b[0mfunc\u001b[0m\u001b[1;33m(\u001b[0m\u001b[1;33m*\u001b[0m\u001b[0margs\u001b[0m\u001b[1;33m)\u001b[0m\u001b[1;33m\u001b[0m\u001b[0m\n\u001b[0m\u001b[0;32m   1134\u001b[0m         \u001b[0mstack\u001b[0m\u001b[1;33m[\u001b[0m\u001b[1;33m-\u001b[0m\u001b[1;36m1\u001b[0m\u001b[1;33m]\u001b[0m \u001b[1;33m=\u001b[0m \u001b[0mvalue\u001b[0m\u001b[1;33m\u001b[0m\u001b[0m\n\u001b[0;32m   1135\u001b[0m     \u001b[0mdispatch\u001b[0m\u001b[1;33m[\u001b[0m\u001b[0mREDUCE\u001b[0m\u001b[1;33m]\u001b[0m \u001b[1;33m=\u001b[0m \u001b[0mload_reduce\u001b[0m\u001b[1;33m\u001b[0m\u001b[0m\n",
        "\u001b[1;32m/usr/local/lib/python2.7/site-packages/theano/sandbox/cuda/type.pyc\u001b[0m in \u001b[0;36mCudaNdarray_unpickler\u001b[1;34m(npa)\u001b[0m\n\u001b[0;32m    544\u001b[0m         \u001b[1;32mreturn\u001b[0m \u001b[0mcuda\u001b[0m\u001b[1;33m.\u001b[0m\u001b[0mCudaNdarray\u001b[0m\u001b[1;33m(\u001b[0m\u001b[0mnpa\u001b[0m\u001b[1;33m)\u001b[0m\u001b[1;33m\u001b[0m\u001b[0m\n\u001b[0;32m    545\u001b[0m     \u001b[1;32melse\u001b[0m\u001b[1;33m:\u001b[0m\u001b[1;33m\u001b[0m\u001b[0m\n\u001b[1;32m--> 546\u001b[1;33m         \u001b[1;32mraise\u001b[0m \u001b[0mImportError\u001b[0m\u001b[1;33m(\u001b[0m\u001b[1;34m\"Cuda not found. Cannot unpickle CudaNdarray\"\u001b[0m\u001b[1;33m)\u001b[0m\u001b[1;33m\u001b[0m\u001b[0m\n\u001b[0m\u001b[0;32m    547\u001b[0m \u001b[1;33m\u001b[0m\u001b[0m\n\u001b[0;32m    548\u001b[0m \u001b[0mcopy_reg\u001b[0m\u001b[1;33m.\u001b[0m\u001b[0mconstructor\u001b[0m\u001b[1;33m(\u001b[0m\u001b[0mCudaNdarray_unpickler\u001b[0m\u001b[1;33m)\u001b[0m\u001b[1;33m\u001b[0m\u001b[0m\n",
        "\u001b[1;31mImportError\u001b[0m: Cuda not found. Cannot unpickle CudaNdarray"
       ]
      }
     ],
     "prompt_number": 3
    },
    {
     "cell_type": "code",
     "collapsed": false,
     "input": [
      "cd .."
     ],
     "language": "python",
     "metadata": {},
     "outputs": [
      {
       "output_type": "stream",
       "stream": "stdout",
       "text": [
        "/data/notebooks/Arash\n"
       ]
      }
     ],
     "prompt_number": 6
    },
    {
     "cell_type": "code",
     "collapsed": false,
     "input": [
      "ls"
     ],
     "language": "python",
     "metadata": {},
     "outputs": [
      {
       "output_type": "stream",
       "stream": "stdout",
       "text": [
        "100K3L                  500K4L                 deep-1L1000N50K-C\r\n",
        "10by10-1L-1000N100K     500K4L-relu-rprop      deep-1L-500N50K\r\n",
        "10by10-1L-2000N200K     500K4L-rprop           deep-2L-1000-100N100K\r\n",
        "10by10-1L-2000N400K     500K4L-rprop-adadelta  deep-2L1000N1M\r\n",
        "10by10-2L-100K          50K2L-rprop            deep-2L1000N50K\r\n",
        "15by15-1L-2000N130K     5C-5L-500K             deep-2L-100-1000N100K\r\n",
        "15by15-1L-3KN20K-batch  deep-1L10000N100K      deep-maxout-1L1000N50K\r\n",
        "1M5L-rprop              deep-1L10000N50K       filename\r\n",
        "200K3L-relu-rprop       deep-1L1000N100K       XOR_Data.npy\r\n",
        "20K1L-relu-rprop        deep-1L1000N1M         XOR_Input.npy\r\n",
        "500K3L                  deep-1L1000N50K        XOR_Output.npy\r\n"
       ]
      }
     ],
     "prompt_number": 5
    }
   ],
   "metadata": {}
  }
 ]
}